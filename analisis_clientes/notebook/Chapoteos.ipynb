{
 "cells": [
  {
   "cell_type": "code",
   "execution_count": 2,
   "metadata": {},
   "outputs": [],
   "source": [
    "import pandas as pd\n",
    "import numpy as np\n",
    "import matplotlib.pyplot as plt\n",
    "import seaborn as sns"
   ]
  },
  {
   "cell_type": "markdown",
   "metadata": {},
   "source": [
    "##### Socios Activos: (CATEGORÍA ACTIVOS)"
   ]
  },
  {
   "cell_type": "code",
   "execution_count": 3,
   "metadata": {},
   "outputs": [
    {
     "data": {
      "text/html": [
       "<div>\n",
       "<style scoped>\n",
       "    .dataframe tbody tr th:only-of-type {\n",
       "        vertical-align: middle;\n",
       "    }\n",
       "\n",
       "    .dataframe tbody tr th {\n",
       "        vertical-align: top;\n",
       "    }\n",
       "\n",
       "    .dataframe thead th {\n",
       "        text-align: right;\n",
       "    }\n",
       "</style>\n",
       "<table border=\"1\" class=\"dataframe\">\n",
       "  <thead>\n",
       "    <tr style=\"text-align: right;\">\n",
       "      <th></th>\n",
       "      <th>ID</th>\n",
       "      <th>Cliente</th>\n",
       "      <th>DNI</th>\n",
       "      <th>Email</th>\n",
       "      <th>Teléfono</th>\n",
       "      <th>Fecha alta</th>\n",
       "    </tr>\n",
       "  </thead>\n",
       "  <tbody>\n",
       "    <tr>\n",
       "      <th>0</th>\n",
       "      <td>0</td>\n",
       "      <td>Juan de la Fuente Hormaechea</td>\n",
       "      <td>05316429w</td>\n",
       "      <td>achormaechea@gmail.com</td>\n",
       "      <td>609712590</td>\n",
       "      <td>13/10/2023</td>\n",
       "    </tr>\n",
       "    <tr>\n",
       "      <th>1</th>\n",
       "      <td>58</td>\n",
       "      <td>BOSCO MORO CONDE</td>\n",
       "      <td>28816889</td>\n",
       "      <td>MARTACONDE00@HOTMAIL.COM</td>\n",
       "      <td>626435282</td>\n",
       "      <td>12/04/2019</td>\n",
       "    </tr>\n",
       "    <tr>\n",
       "      <th>2</th>\n",
       "      <td>62</td>\n",
       "      <td>CHLOE D'AGOSTINO FUERTES</td>\n",
       "      <td>51087142</td>\n",
       "      <td>IFUERTESG@GMAIL.COM</td>\n",
       "      <td>637119861</td>\n",
       "      <td>14/04/2019</td>\n",
       "    </tr>\n",
       "    <tr>\n",
       "      <th>3</th>\n",
       "      <td>89</td>\n",
       "      <td>MARCO SIERRA GUIX,</td>\n",
       "      <td>14304424</td>\n",
       "      <td>IRENEGUIX@HOTMAIL.COM</td>\n",
       "      <td>606667041</td>\n",
       "      <td>26/04/2019</td>\n",
       "    </tr>\n",
       "    <tr>\n",
       "      <th>4</th>\n",
       "      <td>97</td>\n",
       "      <td>GUILLERMO AMARO RODRIGUEZ,</td>\n",
       "      <td>50102224</td>\n",
       "      <td>JESUS.AMARO.GARRIDO@GMAIL.COM</td>\n",
       "      <td>680628953</td>\n",
       "      <td>27/04/2019</td>\n",
       "    </tr>\n",
       "  </tbody>\n",
       "</table>\n",
       "</div>"
      ],
      "text/plain": [
       "   ID                       Cliente        DNI                          Email  \\\n",
       "0   0  Juan de la Fuente Hormaechea  05316429w         achormaechea@gmail.com   \n",
       "1  58              BOSCO MORO CONDE   28816889       MARTACONDE00@HOTMAIL.COM   \n",
       "2  62      CHLOE D'AGOSTINO FUERTES   51087142            IFUERTESG@GMAIL.COM   \n",
       "3  89            MARCO SIERRA GUIX,   14304424          IRENEGUIX@HOTMAIL.COM   \n",
       "4  97    GUILLERMO AMARO RODRIGUEZ,   50102224  JESUS.AMARO.GARRIDO@GMAIL.COM   \n",
       "\n",
       "    Teléfono  Fecha alta  \n",
       "0  609712590  13/10/2023  \n",
       "1  626435282  12/04/2019  \n",
       "2  637119861  14/04/2019  \n",
       "3  606667041  26/04/2019  \n",
       "4  680628953  27/04/2019  "
      ]
     },
     "execution_count": 3,
     "metadata": {},
     "output_type": "execute_result"
    }
   ],
   "source": [
    "# Read the csv file into a DataFrame\n",
    "socios_activos = pd.read_csv('/Users/cesarchaparro/Desktop/GitHub/Chapoteos/tablas/CSV/socios_activos.csv')\n",
    "# Display the first few rows of the DataFrame\n",
    "socios_activos.head()"
   ]
  },
  {
   "cell_type": "markdown",
   "metadata": {},
   "source": [
    "##### Cleaning data types and format of the dataframe."
   ]
  },
  {
   "cell_type": "code",
   "execution_count": 4,
   "metadata": {},
   "outputs": [],
   "source": [
    "# Convert 'Fecha de alta' to datetime\n",
    "socios_activos['Fecha alta'] = pd.to_datetime(socios_activos['Fecha alta'], errors='coerce', dayfirst=True)\n",
    "# Correct the capitalization of the 'Cliente' column\n",
    "socios_activos['Cliente'] = socios_activos['Cliente'].str.title()\n",
    "# Correct the capitalization and remove the comma at the end of the names\n",
    "socios_activos['Cliente'] = socios_activos['Cliente'].str.title().str.replace(',', '', regex=False)\n",
    "# Convert the email column to lowercase\n",
    "socios_activos['Email'] = socios_activos['Email'].str.lower()"
   ]
  },
  {
   "cell_type": "code",
   "execution_count": 5,
   "metadata": {},
   "outputs": [
    {
     "name": "stdout",
     "output_type": "stream",
     "text": [
      "                   ID Cliente  DNI Email    Teléfono Fecha alta\n",
      "1779              NaN     NaN  NaN   NaN         NaN        NaT\n",
      "1780  Página 31 de 31     NaN  NaN   NaN  15/01/2025        NaT\n"
     ]
    }
   ],
   "source": [
    "# Find the row(s) where 'Cliente' is missing\n",
    "missing_value_socios_activos = socios_activos[socios_activos['Cliente'].isnull()]\n",
    "print(missing_value_socios_activos)"
   ]
  },
  {
   "cell_type": "code",
   "execution_count": 6,
   "metadata": {},
   "outputs": [],
   "source": [
    "# Delete the last two rows by using slicing\n",
    "socios_activos = socios_activos[:-2]"
   ]
  },
  {
   "cell_type": "code",
   "execution_count": 7,
   "metadata": {},
   "outputs": [
    {
     "name": "stdout",
     "output_type": "stream",
     "text": [
      "27\n"
     ]
    }
   ],
   "source": [
    "# Count rows where both Phone Number and Email are missing\n",
    "missing_both_count = socios_activos['Teléfono'].isnull() & socios_activos['Email'].isnull()\n",
    "\n",
    "# Get the total count of rows with both values missing\n",
    "total_missing_both = missing_both_count.sum()\n",
    "\n",
    "print(total_missing_both)"
   ]
  },
  {
   "cell_type": "code",
   "execution_count": 8,
   "metadata": {},
   "outputs": [
    {
     "name": "stdout",
     "output_type": "stream",
     "text": [
      "Percentage of rows with both missing: 1.52%\n"
     ]
    }
   ],
   "source": [
    "# Calculate the percentage of rows with both Teléfono and Email missing\n",
    "percentage_missing_both = (missing_both_count.sum() / len(socios_activos)) * 100\n",
    "\n",
    "print(f\"Percentage of rows with both missing: {percentage_missing_both:.2f}%\")"
   ]
  },
  {
   "cell_type": "markdown",
   "metadata": {},
   "source": [
    "##### Se observa que hay 27 clientes a los que les falta detalles de contacto que representa el 1.52% del total de la tabla."
   ]
  },
  {
   "cell_type": "markdown",
   "metadata": {},
   "source": [
    "##### Handle duplicates."
   ]
  },
  {
   "cell_type": "code",
   "execution_count": 9,
   "metadata": {},
   "outputs": [
    {
     "name": "stdout",
     "output_type": "stream",
     "text": [
      "Total rows: 1779\n",
      "Unique rows: 1779\n",
      "Number of duplicate rows: 0\n"
     ]
    }
   ],
   "source": [
    "print(\"Total rows:\", len(socios_activos))\n",
    "print(\"Unique rows:\", len(socios_activos.drop_duplicates()))\n",
    "print(\"Number of duplicate rows:\", len(socios_activos) - len(socios_activos.drop_duplicates()))"
   ]
  },
  {
   "cell_type": "code",
   "execution_count": 10,
   "metadata": {},
   "outputs": [
    {
     "name": "stdout",
     "output_type": "stream",
     "text": [
      "Empty DataFrame\n",
      "Columns: [ID, Cliente, DNI, Email, Teléfono, Fecha alta]\n",
      "Index: []\n"
     ]
    }
   ],
   "source": [
    "# Find duplicates in the 'ID' column\n",
    "print(socios_activos[socios_activos['ID'].duplicated(keep=False)])"
   ]
  },
  {
   "cell_type": "markdown",
   "metadata": {},
   "source": [
    "##### Handle missing values."
   ]
  },
  {
   "cell_type": "code",
   "execution_count": 11,
   "metadata": {},
   "outputs": [],
   "source": [
    "# Fill missing values in the 'DNI' column with 'desconocido'\n",
    "socios_activos['DNI'] = socios_activos['DNI'].fillna('desconocido')\n",
    "# Fill missing values in the 'Email' column with 'desconocido'\n",
    "socios_activos['Email'] = socios_activos['Email'].fillna('desconocido')\n",
    "# Fill missing values in the 'Teléfono' column with 'desconocido'\n",
    "socios_activos['Teléfono'] = socios_activos['Teléfono'].fillna('desconocido')"
   ]
  },
  {
   "cell_type": "code",
   "execution_count": 12,
   "metadata": {},
   "outputs": [
    {
     "name": "stdout",
     "output_type": "stream",
     "text": [
      "<class 'pandas.core.frame.DataFrame'>\n",
      "RangeIndex: 1779 entries, 0 to 1778\n",
      "Data columns (total 6 columns):\n",
      " #   Column      Non-Null Count  Dtype         \n",
      "---  ------      --------------  -----         \n",
      " 0   ID          1779 non-null   object        \n",
      " 1   Cliente     1779 non-null   object        \n",
      " 2   DNI         1779 non-null   object        \n",
      " 3   Email       1779 non-null   object        \n",
      " 4   Teléfono    1779 non-null   object        \n",
      " 5   Fecha alta  1779 non-null   datetime64[ns]\n",
      "dtypes: datetime64[ns](1), object(5)\n",
      "memory usage: 83.5+ KB\n"
     ]
    }
   ],
   "source": [
    "socios_activos.info()"
   ]
  },
  {
   "cell_type": "markdown",
   "metadata": {},
   "source": [
    "***"
   ]
  },
  {
   "cell_type": "markdown",
   "metadata": {},
   "source": [
    "##### Socios Activos sin Cuota Vigente: (categoria Activos y No-Activos)"
   ]
  },
  {
   "cell_type": "code",
   "execution_count": 13,
   "metadata": {},
   "outputs": [
    {
     "data": {
      "text/html": [
       "<div>\n",
       "<style scoped>\n",
       "    .dataframe tbody tr th:only-of-type {\n",
       "        vertical-align: middle;\n",
       "    }\n",
       "\n",
       "    .dataframe tbody tr th {\n",
       "        vertical-align: top;\n",
       "    }\n",
       "\n",
       "    .dataframe thead th {\n",
       "        text-align: right;\n",
       "    }\n",
       "</style>\n",
       "<table border=\"1\" class=\"dataframe\">\n",
       "  <thead>\n",
       "    <tr style=\"text-align: right;\">\n",
       "      <th></th>\n",
       "      <th>ID</th>\n",
       "      <th>Nombre del Cliente</th>\n",
       "      <th>Telefono</th>\n",
       "      <th>Email</th>\n",
       "      <th>Actividad</th>\n",
       "      <th>Vigencia de la Cuota</th>\n",
       "      <th>Importe</th>\n",
       "    </tr>\n",
       "  </thead>\n",
       "  <tbody>\n",
       "    <tr>\n",
       "      <th>0</th>\n",
       "      <td>10182</td>\n",
       "      <td>Jose Luis Sierra Campoy</td>\n",
       "      <td>644135263.0</td>\n",
       "      <td>carolina.campoy.b@gmail.com</td>\n",
       "      <td>Sin Actividad Vigente</td>\n",
       "      <td>01/12/2024 - 01/01/2025</td>\n",
       "      <td>79.00</td>\n",
       "    </tr>\n",
       "    <tr>\n",
       "      <th>1</th>\n",
       "      <td>10189</td>\n",
       "      <td>Juan Soto Cid</td>\n",
       "      <td>608710339.0</td>\n",
       "      <td>jsotoaprell@gmail.com</td>\n",
       "      <td>Sin Actividad Vigente</td>\n",
       "      <td>01/05/2024 - 01/07/2024</td>\n",
       "      <td>180.00</td>\n",
       "    </tr>\n",
       "    <tr>\n",
       "      <th>2</th>\n",
       "      <td>1028</td>\n",
       "      <td>Martin Ruiz Soto</td>\n",
       "      <td>618940508.0</td>\n",
       "      <td>MSOTORANERO@GMAIL.COM</td>\n",
       "      <td>Sin Actividad Vigente</td>\n",
       "      <td>31/07/2024 - 15/12/2024</td>\n",
       "      <td>225.15</td>\n",
       "    </tr>\n",
       "    <tr>\n",
       "      <th>3</th>\n",
       "      <td>10394</td>\n",
       "      <td>Fernando Alvarez</td>\n",
       "      <td>652162439.0</td>\n",
       "      <td>NaN</td>\n",
       "      <td>Sin Actividad Vigente</td>\n",
       "      <td>12/07/2023 - 01/08/2023</td>\n",
       "      <td>80.00</td>\n",
       "    </tr>\n",
       "    <tr>\n",
       "      <th>4</th>\n",
       "      <td>10399</td>\n",
       "      <td>Cp Esther Esther</td>\n",
       "      <td>678118106.0</td>\n",
       "      <td>esther.television@gmail.com</td>\n",
       "      <td>Sin Actividad Vigente</td>\n",
       "      <td>NaN</td>\n",
       "      <td>0.00</td>\n",
       "    </tr>\n",
       "  </tbody>\n",
       "</table>\n",
       "</div>"
      ],
      "text/plain": [
       "      ID       Nombre del Cliente     Telefono                        Email  \\\n",
       "0  10182  Jose Luis Sierra Campoy  644135263.0  carolina.campoy.b@gmail.com   \n",
       "1  10189            Juan Soto Cid  608710339.0        jsotoaprell@gmail.com   \n",
       "2   1028         Martin Ruiz Soto  618940508.0        MSOTORANERO@GMAIL.COM   \n",
       "3  10394         Fernando Alvarez  652162439.0                          NaN   \n",
       "4  10399         Cp Esther Esther  678118106.0  esther.television@gmail.com   \n",
       "\n",
       "               Actividad     Vigencia de la Cuota Importe  \n",
       "0  Sin Actividad Vigente  01/12/2024 - 01/01/2025   79.00  \n",
       "1  Sin Actividad Vigente  01/05/2024 - 01/07/2024  180.00  \n",
       "2  Sin Actividad Vigente  31/07/2024 - 15/12/2024  225.15  \n",
       "3  Sin Actividad Vigente  12/07/2023 - 01/08/2023   80.00  \n",
       "4  Sin Actividad Vigente                      NaN    0.00  "
      ]
     },
     "execution_count": 13,
     "metadata": {},
     "output_type": "execute_result"
    }
   ],
   "source": [
    "# Read the Excel file into a DataFrame\n",
    "socios_activos_sin_cv = pd.read_csv('/Users/cesarchaparro/Desktop/GitHub/Chapoteos/tablas/CSV/socios_activos_sin_cuota_vigente.csv')\n",
    "\n",
    "# Display the first few rows of the DataFrame\n",
    "socios_activos_sin_cv.head()"
   ]
  },
  {
   "cell_type": "markdown",
   "metadata": {},
   "source": [
    "##### Cleaning data types and format of the dataframe."
   ]
  },
  {
   "cell_type": "code",
   "execution_count": 14,
   "metadata": {},
   "outputs": [],
   "source": [
    "# Rename columns\n",
    "socios_activos_sin_cv = socios_activos_sin_cv.rename(columns={\n",
    "    'Nombre del Cliente': 'Cliente',\n",
    "    'Telefono': 'Teléfono'\n",
    "})"
   ]
  },
  {
   "cell_type": "code",
   "execution_count": 15,
   "metadata": {},
   "outputs": [],
   "source": [
    "# Convert the email column to lowercase\n",
    "socios_activos_sin_cv['Email'] = socios_activos_sin_cv['Email'].str.lower()\n",
    "# Convert the 'Telefono' column to string (and remove any unnecessary '.0')\n",
    "socios_activos_sin_cv['Teléfono'] = socios_activos_sin_cv['Teléfono'].astype(str).str.replace('.0', '', regex=False)\n",
    "# Correct the capitalization of the 'Cliente' column\n",
    "socios_activos_sin_cv['Cliente'] = socios_activos_sin_cv['Cliente'].str.title()\n",
    "# Convert the email column to lowercase\n",
    "socios_activos_sin_cv['Actividad'] = socios_activos_sin_cv['Actividad'].str.lower()"
   ]
  },
  {
   "cell_type": "code",
   "execution_count": 16,
   "metadata": {},
   "outputs": [
    {
     "data": {
      "text/html": [
       "<div>\n",
       "<style scoped>\n",
       "    .dataframe tbody tr th:only-of-type {\n",
       "        vertical-align: middle;\n",
       "    }\n",
       "\n",
       "    .dataframe tbody tr th {\n",
       "        vertical-align: top;\n",
       "    }\n",
       "\n",
       "    .dataframe thead th {\n",
       "        text-align: right;\n",
       "    }\n",
       "</style>\n",
       "<table border=\"1\" class=\"dataframe\">\n",
       "  <thead>\n",
       "    <tr style=\"text-align: right;\">\n",
       "      <th></th>\n",
       "      <th>ID</th>\n",
       "      <th>Cliente</th>\n",
       "      <th>Teléfono</th>\n",
       "      <th>Email</th>\n",
       "      <th>Actividad</th>\n",
       "      <th>Vigencia de la Cuota</th>\n",
       "      <th>Importe</th>\n",
       "    </tr>\n",
       "  </thead>\n",
       "  <tbody>\n",
       "    <tr>\n",
       "      <th>828</th>\n",
       "      <td>9999</td>\n",
       "      <td>Cp Gabriel Tubio Marguti</td>\n",
       "      <td>671977919</td>\n",
       "      <td>NaN</td>\n",
       "      <td>sin actividad vigente</td>\n",
       "      <td>NaN</td>\n",
       "      <td>0.00</td>\n",
       "    </tr>\n",
       "    <tr>\n",
       "      <th>829</th>\n",
       "      <td>NaN</td>\n",
       "      <td>NaN</td>\n",
       "      <td>nan</td>\n",
       "      <td>cuotas en la actividad sin actividad vigente</td>\n",
       "      <td>NaN</td>\n",
       "      <td>NaN</td>\n",
       "      <td>NaN</td>\n",
       "    </tr>\n",
       "    <tr>\n",
       "      <th>830</th>\n",
       "      <td>NaN</td>\n",
       "      <td>NaN</td>\n",
       "      <td>nan</td>\n",
       "      <td>NaN</td>\n",
       "      <td>total importes actividad: sin actividad vigente</td>\n",
       "      <td>NaN</td>\n",
       "      <td>829</td>\n",
       "    </tr>\n",
       "    <tr>\n",
       "      <th>831</th>\n",
       "      <td>NaN</td>\n",
       "      <td>NaN</td>\n",
       "      <td>nan</td>\n",
       "      <td>NaN</td>\n",
       "      <td>cuotas totales cobradas</td>\n",
       "      <td>Total importe cobrado:</td>\n",
       "      <td>829</td>\n",
       "    </tr>\n",
       "    <tr>\n",
       "      <th>832</th>\n",
       "      <td>NaN</td>\n",
       "      <td>NaN</td>\n",
       "      <td>nan</td>\n",
       "      <td>NaN</td>\n",
       "      <td>NaN</td>\n",
       "      <td>NaN</td>\n",
       "      <td>NaN</td>\n",
       "    </tr>\n",
       "    <tr>\n",
       "      <th>833</th>\n",
       "      <td>Página 24 de 24</td>\n",
       "      <td>NaN</td>\n",
       "      <td>nan</td>\n",
       "      <td>24</td>\n",
       "      <td>NaN</td>\n",
       "      <td>NaN</td>\n",
       "      <td>15/01/2025</td>\n",
       "    </tr>\n",
       "  </tbody>\n",
       "</table>\n",
       "</div>"
      ],
      "text/plain": [
       "                  ID                   Cliente   Teléfono  \\\n",
       "828             9999  Cp Gabriel Tubio Marguti  671977919   \n",
       "829              NaN                       NaN        nan   \n",
       "830              NaN                       NaN        nan   \n",
       "831              NaN                       NaN        nan   \n",
       "832              NaN                       NaN        nan   \n",
       "833  Página 24 de 24                       NaN        nan   \n",
       "\n",
       "                                            Email  \\\n",
       "828                                           NaN   \n",
       "829  cuotas en la actividad sin actividad vigente   \n",
       "830                                           NaN   \n",
       "831                                           NaN   \n",
       "832                                           NaN   \n",
       "833                                            24   \n",
       "\n",
       "                                           Actividad    Vigencia de la Cuota  \\\n",
       "828                            sin actividad vigente                     NaN   \n",
       "829                                              NaN                     NaN   \n",
       "830  total importes actividad: sin actividad vigente                     NaN   \n",
       "831                          cuotas totales cobradas  Total importe cobrado:   \n",
       "832                                              NaN                     NaN   \n",
       "833                                              NaN                     NaN   \n",
       "\n",
       "        Importe  \n",
       "828        0.00  \n",
       "829         NaN  \n",
       "830         829  \n",
       "831         829  \n",
       "832         NaN  \n",
       "833  15/01/2025  "
      ]
     },
     "execution_count": 16,
     "metadata": {},
     "output_type": "execute_result"
    }
   ],
   "source": [
    "socios_activos_sin_cv.tail(6)"
   ]
  },
  {
   "cell_type": "code",
   "execution_count": 17,
   "metadata": {},
   "outputs": [],
   "source": [
    "# Delete the last two rows by using slicing\n",
    "socios_activos_sin_cv = socios_activos_sin_cv[:-5]"
   ]
  },
  {
   "cell_type": "code",
   "execution_count": 18,
   "metadata": {},
   "outputs": [
    {
     "data": {
      "text/html": [
       "<div>\n",
       "<style scoped>\n",
       "    .dataframe tbody tr th:only-of-type {\n",
       "        vertical-align: middle;\n",
       "    }\n",
       "\n",
       "    .dataframe tbody tr th {\n",
       "        vertical-align: top;\n",
       "    }\n",
       "\n",
       "    .dataframe thead th {\n",
       "        text-align: right;\n",
       "    }\n",
       "</style>\n",
       "<table border=\"1\" class=\"dataframe\">\n",
       "  <thead>\n",
       "    <tr style=\"text-align: right;\">\n",
       "      <th></th>\n",
       "      <th>ID</th>\n",
       "      <th>Cliente</th>\n",
       "      <th>Teléfono</th>\n",
       "      <th>Email</th>\n",
       "      <th>Actividad</th>\n",
       "      <th>Importe</th>\n",
       "      <th>Fecha comienzo</th>\n",
       "      <th>Fecha finalización</th>\n",
       "    </tr>\n",
       "  </thead>\n",
       "  <tbody>\n",
       "    <tr>\n",
       "      <th>0</th>\n",
       "      <td>10182</td>\n",
       "      <td>Jose Luis Sierra Campoy</td>\n",
       "      <td>644135263</td>\n",
       "      <td>carolina.campoy.b@gmail.com</td>\n",
       "      <td>sin actividad vigente</td>\n",
       "      <td>79.00</td>\n",
       "      <td>2024-12-01</td>\n",
       "      <td>2025-01-01</td>\n",
       "    </tr>\n",
       "    <tr>\n",
       "      <th>1</th>\n",
       "      <td>10189</td>\n",
       "      <td>Juan Soto Cid</td>\n",
       "      <td>608710339</td>\n",
       "      <td>jsotoaprell@gmail.com</td>\n",
       "      <td>sin actividad vigente</td>\n",
       "      <td>180.00</td>\n",
       "      <td>2024-05-01</td>\n",
       "      <td>2024-07-01</td>\n",
       "    </tr>\n",
       "    <tr>\n",
       "      <th>2</th>\n",
       "      <td>1028</td>\n",
       "      <td>Martin Ruiz Soto</td>\n",
       "      <td>618940508</td>\n",
       "      <td>msotoranero@gmail.com</td>\n",
       "      <td>sin actividad vigente</td>\n",
       "      <td>225.15</td>\n",
       "      <td>2024-07-31</td>\n",
       "      <td>2024-12-15</td>\n",
       "    </tr>\n",
       "    <tr>\n",
       "      <th>3</th>\n",
       "      <td>10394</td>\n",
       "      <td>Fernando Alvarez</td>\n",
       "      <td>652162439</td>\n",
       "      <td>NaN</td>\n",
       "      <td>sin actividad vigente</td>\n",
       "      <td>80.00</td>\n",
       "      <td>2023-07-12</td>\n",
       "      <td>2023-08-01</td>\n",
       "    </tr>\n",
       "    <tr>\n",
       "      <th>4</th>\n",
       "      <td>10399</td>\n",
       "      <td>Cp Esther Esther</td>\n",
       "      <td>678118106</td>\n",
       "      <td>esther.television@gmail.com</td>\n",
       "      <td>sin actividad vigente</td>\n",
       "      <td>0.00</td>\n",
       "      <td>NaT</td>\n",
       "      <td>NaT</td>\n",
       "    </tr>\n",
       "  </tbody>\n",
       "</table>\n",
       "</div>"
      ],
      "text/plain": [
       "      ID                  Cliente   Teléfono                        Email  \\\n",
       "0  10182  Jose Luis Sierra Campoy  644135263  carolina.campoy.b@gmail.com   \n",
       "1  10189            Juan Soto Cid  608710339        jsotoaprell@gmail.com   \n",
       "2   1028         Martin Ruiz Soto  618940508        msotoranero@gmail.com   \n",
       "3  10394         Fernando Alvarez  652162439                          NaN   \n",
       "4  10399         Cp Esther Esther  678118106  esther.television@gmail.com   \n",
       "\n",
       "               Actividad Importe Fecha comienzo Fecha finalización  \n",
       "0  sin actividad vigente   79.00     2024-12-01         2025-01-01  \n",
       "1  sin actividad vigente  180.00     2024-05-01         2024-07-01  \n",
       "2  sin actividad vigente  225.15     2024-07-31         2024-12-15  \n",
       "3  sin actividad vigente   80.00     2023-07-12         2023-08-01  \n",
       "4  sin actividad vigente    0.00            NaT                NaT  "
      ]
     },
     "execution_count": 18,
     "metadata": {},
     "output_type": "execute_result"
    }
   ],
   "source": [
    "# Split the 'Vigencia de la Cuota' column into two new columns\n",
    "socios_activos_sin_cv[['Fecha comienzo', 'Fecha finalización']] = socios_activos_sin_cv['Vigencia de la Cuota'].str.split(' - ', expand=True)\n",
    "\n",
    "# Convert the new columns to datetime format\n",
    "socios_activos_sin_cv['Fecha comienzo'] = pd.to_datetime(socios_activos_sin_cv['Fecha comienzo'], dayfirst=True)\n",
    "socios_activos_sin_cv['Fecha finalización'] = pd.to_datetime(socios_activos_sin_cv['Fecha finalización'], dayfirst=True)\n",
    "\n",
    "# Delete the column Vigencia de la Cuota\n",
    "socios_activos_sin_cv.drop('Vigencia de la Cuota', axis=1, inplace=True)\n",
    "\n",
    "# Display the updated DataFrame\n",
    "socios_activos_sin_cv.head()"
   ]
  },
  {
   "cell_type": "markdown",
   "metadata": {},
   "source": [
    "##### Handle duplicates."
   ]
  },
  {
   "cell_type": "code",
   "execution_count": 19,
   "metadata": {},
   "outputs": [
    {
     "name": "stdout",
     "output_type": "stream",
     "text": [
      "Total rows: 829\n",
      "Unique rows: 829\n",
      "Number of duplicate rows: 0\n"
     ]
    }
   ],
   "source": [
    "print(\"Total rows:\", len(socios_activos_sin_cv))\n",
    "print(\"Unique rows:\", len(socios_activos_sin_cv.drop_duplicates()))\n",
    "print(\"Number of duplicate rows:\", len(socios_activos_sin_cv) - len(socios_activos_sin_cv.drop_duplicates()))"
   ]
  },
  {
   "cell_type": "code",
   "execution_count": 20,
   "metadata": {},
   "outputs": [
    {
     "name": "stdout",
     "output_type": "stream",
     "text": [
      "Duplicated IDs:\n",
      "Empty DataFrame\n",
      "Columns: [ID, Cliente]\n",
      "Index: []\n",
      "\n",
      "Total duplicated IDs: 0\n",
      "\n",
      "==================================================\n",
      "\n",
      "Duplicated Clients:\n",
      "        ID               Cliente\n",
      "177  12392  Cp Stephanie  Mojica\n",
      "262  13276  Cp Stephanie  Mojica\n",
      "296  13594   Duplicada Duplicada\n",
      "671   9069   Duplicada Duplicada\n",
      "702   9250   Duplicada Duplicada\n",
      "\n",
      "Total duplicated Clients: 5\n"
     ]
    }
   ],
   "source": [
    "# Check duplicates in ID column\n",
    "duplicated_ids = socios_activos_sin_cv[socios_activos_sin_cv['ID'].duplicated(keep=False)]\n",
    "print(\"Duplicated IDs:\")\n",
    "print(duplicated_ids[['ID', 'Cliente']])\n",
    "print(f\"\\nTotal duplicated IDs: {len(duplicated_ids)}\")\n",
    "\n",
    "print(\"\\n\" + \"=\"*50 + \"\\n\")\n",
    "\n",
    "# Check duplicates in Cliente column\n",
    "duplicated_clients = socios_activos_sin_cv[socios_activos_sin_cv['Cliente'].duplicated(keep=False)]\n",
    "print(\"Duplicated Clients:\")\n",
    "print(duplicated_clients[['ID', 'Cliente']])\n",
    "print(f\"\\nTotal duplicated Clients: {len(duplicated_clients)}\")"
   ]
  },
  {
   "cell_type": "code",
   "execution_count": 21,
   "metadata": {},
   "outputs": [
    {
     "name": "stdout",
     "output_type": "stream",
     "text": [
      "Full information for 'Duplicada Duplicada' entries:\n",
      "        ID              Cliente Teléfono Email              Actividad Importe  \\\n",
      "296  13594  Duplicada Duplicada      nan   NaN  sin actividad vigente    0.00   \n",
      "671   9069  Duplicada Duplicada      nan   NaN  sin actividad vigente    0.00   \n",
      "702   9250  Duplicada Duplicada      nan   NaN  sin actividad vigente    0.00   \n",
      "\n",
      "    Fecha comienzo Fecha finalización  \n",
      "296            NaT                NaT  \n",
      "671            NaT                NaT  \n",
      "702            NaT                NaT  \n"
     ]
    }
   ],
   "source": [
    "# Filter rows where Cliente is 'Duplicada Duplicada'\n",
    "duplicated_full = socios_activos_sin_cv[socios_activos_sin_cv['Cliente'] == 'Duplicada Duplicada']\n",
    "\n",
    "# Display all columns for these rows\n",
    "print(\"Full information for 'Duplicada Duplicada' entries:\")\n",
    "print(duplicated_full)"
   ]
  },
  {
   "cell_type": "code",
   "execution_count": 22,
   "metadata": {},
   "outputs": [
    {
     "name": "stdout",
     "output_type": "stream",
     "text": [
      "New dataframe shape: (826, 8)\n",
      "\n",
      "Remaining 'Duplicada Duplicada' entries: 0\n"
     ]
    }
   ],
   "source": [
    "# Drop rows where Cliente is 'Duplicada Duplicada'\n",
    "socios_activos_sin_cv = socios_activos_sin_cv[socios_activos_sin_cv['Cliente'] != 'Duplicada Duplicada']\n",
    "\n",
    "# Verify the rows were dropped\n",
    "print(f\"New dataframe shape: {socios_activos_sin_cv.shape}\")\n",
    "\n",
    "# Double check there are no more 'Duplicada Duplicada' entries\n",
    "check = socios_activos_sin_cv[socios_activos_sin_cv['Cliente'] == 'Duplicada Duplicada']\n",
    "print(f\"\\nRemaining 'Duplicada Duplicada' entries: {len(check)}\")"
   ]
  },
  {
   "cell_type": "code",
   "execution_count": 23,
   "metadata": {},
   "outputs": [
    {
     "name": "stdout",
     "output_type": "stream",
     "text": [
      "        ID               Cliente   Teléfono                         Email  \\\n",
      "177  12392  Cp Stephanie  Mojica  636898855  stephanie.mojica@hotmail.com   \n",
      "262  13276  Cp Stephanie  Mojica  636898855           steffy986@gmail.com   \n",
      "\n",
      "                 Actividad Importe Fecha comienzo Fecha finalización  \n",
      "177  sin actividad vigente    0.00            NaT                NaT  \n",
      "262  sin actividad vigente    0.00            NaT                NaT  \n"
     ]
    }
   ],
   "source": [
    "# Find and display rows where Cliente appears more than once\n",
    "duplicates = socios_activos_sin_cv[socios_activos_sin_cv.groupby('Cliente')['Cliente'].transform('count') > 1]\n",
    "print(duplicates.sort_values('Cliente'))"
   ]
  },
  {
   "cell_type": "markdown",
   "metadata": {},
   "source": [
    "##### Existe un registro de clientes con dos ID diferentes para el mismo cliente. Cp Stephanie Mojica."
   ]
  },
  {
   "cell_type": "markdown",
   "metadata": {},
   "source": [
    "##### Handle missing values."
   ]
  },
  {
   "cell_type": "code",
   "execution_count": 24,
   "metadata": {},
   "outputs": [],
   "source": [
    "# Fill missing values in the 'Email' column with 'desconocido'\n",
    "socios_activos_sin_cv['Email'] = socios_activos_sin_cv['Email'].fillna('desconocido')"
   ]
  },
  {
   "cell_type": "code",
   "execution_count": 25,
   "metadata": {},
   "outputs": [
    {
     "name": "stdout",
     "output_type": "stream",
     "text": [
      "['sin actividad vigente']\n"
     ]
    }
   ],
   "source": [
    "# Print unique values in the 'Actividad' column\n",
    "print(socios_activos_sin_cv['Actividad'].unique())"
   ]
  },
  {
   "cell_type": "code",
   "execution_count": 26,
   "metadata": {},
   "outputs": [
    {
     "name": "stdout",
     "output_type": "stream",
     "text": [
      "<class 'pandas.core.frame.DataFrame'>\n",
      "Index: 826 entries, 0 to 828\n",
      "Data columns (total 2 columns):\n",
      " #   Column              Non-Null Count  Dtype         \n",
      "---  ------              --------------  -----         \n",
      " 0   Fecha comienzo      826 non-null    datetime64[ns]\n",
      " 1   Fecha finalización  826 non-null    datetime64[ns]\n",
      "dtypes: datetime64[ns](2)\n",
      "memory usage: 19.4 KB\n",
      "None\n"
     ]
    }
   ],
   "source": [
    "# Fill NaT values with a zero date (using pandas minimum datetime)\n",
    "zero_date = pd.Timestamp.min  # This is '1677-09-21'\n",
    "# Or you could use a specific date like:\n",
    "# zero_date = pd.Timestamp('1900-01-01')\n",
    "\n",
    "# Fill NaT values in both columns\n",
    "socios_activos_sin_cv['Fecha comienzo'] = socios_activos_sin_cv['Fecha comienzo'].fillna(zero_date)\n",
    "socios_activos_sin_cv['Fecha finalización'] = socios_activos_sin_cv['Fecha finalización'].fillna(zero_date)\n",
    "\n",
    "# Verify the changes\n",
    "print(socios_activos_sin_cv[['Fecha comienzo', 'Fecha finalización']].info())"
   ]
  },
  {
   "cell_type": "code",
   "execution_count": 27,
   "metadata": {},
   "outputs": [],
   "source": [
    "# Convert Importe to float\n",
    "socios_activos_sin_cv['Importe'] = socios_activos_sin_cv['Importe'].astype(float)"
   ]
  },
  {
   "cell_type": "code",
   "execution_count": 28,
   "metadata": {},
   "outputs": [
    {
     "name": "stdout",
     "output_type": "stream",
     "text": [
      "<class 'pandas.core.frame.DataFrame'>\n",
      "Index: 826 entries, 0 to 828\n",
      "Data columns (total 8 columns):\n",
      " #   Column              Non-Null Count  Dtype         \n",
      "---  ------              --------------  -----         \n",
      " 0   ID                  826 non-null    object        \n",
      " 1   Cliente             826 non-null    object        \n",
      " 2   Teléfono            826 non-null    object        \n",
      " 3   Email               826 non-null    object        \n",
      " 4   Actividad           826 non-null    object        \n",
      " 5   Importe             826 non-null    float64       \n",
      " 6   Fecha comienzo      826 non-null    datetime64[ns]\n",
      " 7   Fecha finalización  826 non-null    datetime64[ns]\n",
      "dtypes: datetime64[ns](2), float64(1), object(5)\n",
      "memory usage: 58.1+ KB\n"
     ]
    }
   ],
   "source": [
    "socios_activos_sin_cv.info()"
   ]
  },
  {
   "cell_type": "code",
   "execution_count": 29,
   "metadata": {},
   "outputs": [
    {
     "name": "stdout",
     "output_type": "stream",
     "text": [
      "[ 1  2  5  0  4  3 14 10  7  6]\n"
     ]
    }
   ],
   "source": [
    "# Calculate duration in months\n",
    "socios_activos_sin_cv['Duración'] = (\n",
    "    (socios_activos_sin_cv['Fecha finalización'].dt.year - socios_activos_sin_cv['Fecha comienzo'].dt.year) * 12 +\n",
    "    (socios_activos_sin_cv['Fecha finalización'].dt.month - socios_activos_sin_cv['Fecha comienzo'].dt.month)\n",
    ")\n",
    "print(socios_activos_sin_cv['Duración'].unique())"
   ]
  },
  {
   "cell_type": "code",
   "execution_count": 30,
   "metadata": {},
   "outputs": [
    {
     "name": "stdout",
     "output_type": "stream",
     "text": [
      "Number of NaN values in Duration column: 0\n"
     ]
    }
   ],
   "source": [
    "# Count NaN values\n",
    "nan_count = socios_activos_sin_cv['Duración'].isna().sum()\n",
    "print(f\"Number of NaN values in Duration column: {nan_count}\")"
   ]
  },
  {
   "cell_type": "markdown",
   "metadata": {},
   "source": [
    "***"
   ]
  },
  {
   "cell_type": "markdown",
   "metadata": {},
   "source": [
    "##### Crear una tabla nueva para clientes no-activos y mantener los clientes activos en esta tabla."
   ]
  },
  {
   "cell_type": "code",
   "execution_count": 31,
   "metadata": {},
   "outputs": [
    {
     "name": "stdout",
     "output_type": "stream",
     "text": [
      "\n",
      "Distribución de tipos de clientes:\n",
      "Tipo cliente\n",
      "Lead para información    580\n",
      "Activo                   226\n",
      "Servicio gratis           20\n",
      "Name: count, dtype: int64\n",
      "\n",
      "Porcentaje de distribución de tipos de clientes:\n",
      "Tipo cliente\n",
      "Lead para información    70.217918\n",
      "Activo                   27.360775\n",
      "Servicio gratis           2.421308\n",
      "Name: proportion, dtype: float64\n"
     ]
    }
   ],
   "source": [
    "def classify_client(row):\n",
    "    if row['Importe'] == 0.0 and row['Fecha comienzo'] == pd.Timestamp.min and row['Fecha finalización'] == pd.Timestamp.min:\n",
    "        return 'Lead para información'\n",
    "    elif row['Importe'] == 0.0 and (row['Fecha comienzo'] != pd.Timestamp.min or row['Fecha finalización'] != pd.Timestamp.min):\n",
    "        return 'Servicio gratis'\n",
    "    elif row['Importe'] > 0.0:\n",
    "        return 'Activo'\n",
    "    else:\n",
    "        return 'Indefinido'  # Just in case there are any cases that don't match the above conditions\n",
    "\n",
    "# Add the new classification column\n",
    "socios_activos_sin_cv['Tipo cliente'] = socios_activos_sin_cv.apply(classify_client, axis=1)\n",
    "\n",
    "# You can then see the distribution of client types\n",
    "client_type_distribution = socios_activos_sin_cv['Tipo cliente'].value_counts()\n",
    "print(\"\\nDistribución de tipos de clientes:\")\n",
    "print(client_type_distribution)\n",
    "\n",
    "# If you want to see the percentage distribution\n",
    "client_type_percentage = socios_activos_sin_cv['Tipo cliente'].value_counts(normalize=True) * 100\n",
    "print(\"\\nPorcentaje de distribución de tipos de clientes:\")\n",
    "print(client_type_percentage)"
   ]
  },
  {
   "cell_type": "code",
   "execution_count": 32,
   "metadata": {},
   "outputs": [
    {
     "data": {
      "text/html": [
       "<div>\n",
       "<style scoped>\n",
       "    .dataframe tbody tr th:only-of-type {\n",
       "        vertical-align: middle;\n",
       "    }\n",
       "\n",
       "    .dataframe tbody tr th {\n",
       "        vertical-align: top;\n",
       "    }\n",
       "\n",
       "    .dataframe thead th {\n",
       "        text-align: right;\n",
       "    }\n",
       "</style>\n",
       "<table border=\"1\" class=\"dataframe\">\n",
       "  <thead>\n",
       "    <tr style=\"text-align: right;\">\n",
       "      <th></th>\n",
       "      <th>ID</th>\n",
       "      <th>Cliente</th>\n",
       "      <th>Teléfono</th>\n",
       "      <th>Email</th>\n",
       "      <th>Actividad</th>\n",
       "      <th>Importe</th>\n",
       "      <th>Fecha comienzo</th>\n",
       "      <th>Fecha finalización</th>\n",
       "      <th>Duración</th>\n",
       "      <th>Tipo cliente</th>\n",
       "    </tr>\n",
       "  </thead>\n",
       "  <tbody>\n",
       "    <tr>\n",
       "      <th>0</th>\n",
       "      <td>10182</td>\n",
       "      <td>Jose Luis Sierra Campoy</td>\n",
       "      <td>644135263</td>\n",
       "      <td>carolina.campoy.b@gmail.com</td>\n",
       "      <td>sin actividad vigente</td>\n",
       "      <td>79.00</td>\n",
       "      <td>2024-12-01 00:00:00.000000000</td>\n",
       "      <td>2025-01-01 00:00:00.000000000</td>\n",
       "      <td>1</td>\n",
       "      <td>Activo</td>\n",
       "    </tr>\n",
       "    <tr>\n",
       "      <th>1</th>\n",
       "      <td>10189</td>\n",
       "      <td>Juan Soto Cid</td>\n",
       "      <td>608710339</td>\n",
       "      <td>jsotoaprell@gmail.com</td>\n",
       "      <td>sin actividad vigente</td>\n",
       "      <td>180.00</td>\n",
       "      <td>2024-05-01 00:00:00.000000000</td>\n",
       "      <td>2024-07-01 00:00:00.000000000</td>\n",
       "      <td>2</td>\n",
       "      <td>Activo</td>\n",
       "    </tr>\n",
       "    <tr>\n",
       "      <th>2</th>\n",
       "      <td>1028</td>\n",
       "      <td>Martin Ruiz Soto</td>\n",
       "      <td>618940508</td>\n",
       "      <td>msotoranero@gmail.com</td>\n",
       "      <td>sin actividad vigente</td>\n",
       "      <td>225.15</td>\n",
       "      <td>2024-07-31 00:00:00.000000000</td>\n",
       "      <td>2024-12-15 00:00:00.000000000</td>\n",
       "      <td>5</td>\n",
       "      <td>Activo</td>\n",
       "    </tr>\n",
       "    <tr>\n",
       "      <th>3</th>\n",
       "      <td>10394</td>\n",
       "      <td>Fernando Alvarez</td>\n",
       "      <td>652162439</td>\n",
       "      <td>desconocido</td>\n",
       "      <td>sin actividad vigente</td>\n",
       "      <td>80.00</td>\n",
       "      <td>2023-07-12 00:00:00.000000000</td>\n",
       "      <td>2023-08-01 00:00:00.000000000</td>\n",
       "      <td>1</td>\n",
       "      <td>Activo</td>\n",
       "    </tr>\n",
       "    <tr>\n",
       "      <th>4</th>\n",
       "      <td>10399</td>\n",
       "      <td>Cp Esther Esther</td>\n",
       "      <td>678118106</td>\n",
       "      <td>esther.television@gmail.com</td>\n",
       "      <td>sin actividad vigente</td>\n",
       "      <td>0.00</td>\n",
       "      <td>1677-09-21 00:12:43.145224193</td>\n",
       "      <td>1677-09-21 00:12:43.145224193</td>\n",
       "      <td>0</td>\n",
       "      <td>Lead para información</td>\n",
       "    </tr>\n",
       "  </tbody>\n",
       "</table>\n",
       "</div>"
      ],
      "text/plain": [
       "      ID                  Cliente   Teléfono                        Email  \\\n",
       "0  10182  Jose Luis Sierra Campoy  644135263  carolina.campoy.b@gmail.com   \n",
       "1  10189            Juan Soto Cid  608710339        jsotoaprell@gmail.com   \n",
       "2   1028         Martin Ruiz Soto  618940508        msotoranero@gmail.com   \n",
       "3  10394         Fernando Alvarez  652162439                  desconocido   \n",
       "4  10399         Cp Esther Esther  678118106  esther.television@gmail.com   \n",
       "\n",
       "               Actividad  Importe                Fecha comienzo  \\\n",
       "0  sin actividad vigente    79.00 2024-12-01 00:00:00.000000000   \n",
       "1  sin actividad vigente   180.00 2024-05-01 00:00:00.000000000   \n",
       "2  sin actividad vigente   225.15 2024-07-31 00:00:00.000000000   \n",
       "3  sin actividad vigente    80.00 2023-07-12 00:00:00.000000000   \n",
       "4  sin actividad vigente     0.00 1677-09-21 00:12:43.145224193   \n",
       "\n",
       "             Fecha finalización  Duración           Tipo cliente  \n",
       "0 2025-01-01 00:00:00.000000000         1                 Activo  \n",
       "1 2024-07-01 00:00:00.000000000         2                 Activo  \n",
       "2 2024-12-15 00:00:00.000000000         5                 Activo  \n",
       "3 2023-08-01 00:00:00.000000000         1                 Activo  \n",
       "4 1677-09-21 00:12:43.145224193         0  Lead para información  "
      ]
     },
     "execution_count": 32,
     "metadata": {},
     "output_type": "execute_result"
    }
   ],
   "source": [
    "socios_activos_sin_cv.head()"
   ]
  },
  {
   "cell_type": "code",
   "execution_count": 33,
   "metadata": {},
   "outputs": [
    {
     "name": "stdout",
     "output_type": "stream",
     "text": [
      "<class 'pandas.core.frame.DataFrame'>\n",
      "Index: 826 entries, 0 to 828\n",
      "Data columns (total 10 columns):\n",
      " #   Column              Non-Null Count  Dtype         \n",
      "---  ------              --------------  -----         \n",
      " 0   ID                  826 non-null    object        \n",
      " 1   Cliente             826 non-null    object        \n",
      " 2   Teléfono            826 non-null    object        \n",
      " 3   Email               826 non-null    object        \n",
      " 4   Actividad           826 non-null    object        \n",
      " 5   Importe             826 non-null    float64       \n",
      " 6   Fecha comienzo      826 non-null    datetime64[ns]\n",
      " 7   Fecha finalización  826 non-null    datetime64[ns]\n",
      " 8   Duración            826 non-null    int32         \n",
      " 9   Tipo cliente        826 non-null    object        \n",
      "dtypes: datetime64[ns](2), float64(1), int32(1), object(6)\n",
      "memory usage: 67.8+ KB\n"
     ]
    }
   ],
   "source": [
    "socios_activos_sin_cv.info()"
   ]
  },
  {
   "cell_type": "markdown",
   "metadata": {},
   "source": [
    "##### La tabla socios_activos_sin_cv ahora solamente contiene clientes activos, es decir, convertidos en clientes que pagaron una cuota para un servicio."
   ]
  },
  {
   "cell_type": "code",
   "execution_count": 34,
   "metadata": {},
   "outputs": [],
   "source": [
    "# Save file with new name 'clientes_activos'.\n",
    "socios_activos_sin_cv.to_csv('/Users/cesarchaparro/Desktop/GitHub/Chapoteos/tablas/CSV/clientes.csv', index=False)"
   ]
  },
  {
   "cell_type": "code",
   "execution_count": 35,
   "metadata": {},
   "outputs": [
    {
     "data": {
      "text/html": [
       "<div>\n",
       "<style scoped>\n",
       "    .dataframe tbody tr th:only-of-type {\n",
       "        vertical-align: middle;\n",
       "    }\n",
       "\n",
       "    .dataframe tbody tr th {\n",
       "        vertical-align: top;\n",
       "    }\n",
       "\n",
       "    .dataframe thead th {\n",
       "        text-align: right;\n",
       "    }\n",
       "</style>\n",
       "<table border=\"1\" class=\"dataframe\">\n",
       "  <thead>\n",
       "    <tr style=\"text-align: right;\">\n",
       "      <th></th>\n",
       "      <th>ID</th>\n",
       "      <th>Cliente</th>\n",
       "      <th>Teléfono</th>\n",
       "      <th>Email</th>\n",
       "      <th>Actividad</th>\n",
       "      <th>Importe</th>\n",
       "      <th>Fecha comienzo</th>\n",
       "      <th>Fecha finalización</th>\n",
       "      <th>Duración</th>\n",
       "      <th>Tipo cliente</th>\n",
       "    </tr>\n",
       "  </thead>\n",
       "  <tbody>\n",
       "    <tr>\n",
       "      <th>0</th>\n",
       "      <td>10182</td>\n",
       "      <td>Jose Luis Sierra Campoy</td>\n",
       "      <td>644135263.0</td>\n",
       "      <td>carolina.campoy.b@gmail.com</td>\n",
       "      <td>sin actividad vigente</td>\n",
       "      <td>79.00</td>\n",
       "      <td>2024-12-01 00:00:00.000000000</td>\n",
       "      <td>2025-01-01 00:00:00.000000000</td>\n",
       "      <td>1</td>\n",
       "      <td>Activo</td>\n",
       "    </tr>\n",
       "    <tr>\n",
       "      <th>1</th>\n",
       "      <td>10189</td>\n",
       "      <td>Juan Soto Cid</td>\n",
       "      <td>608710339.0</td>\n",
       "      <td>jsotoaprell@gmail.com</td>\n",
       "      <td>sin actividad vigente</td>\n",
       "      <td>180.00</td>\n",
       "      <td>2024-05-01 00:00:00.000000000</td>\n",
       "      <td>2024-07-01 00:00:00.000000000</td>\n",
       "      <td>2</td>\n",
       "      <td>Activo</td>\n",
       "    </tr>\n",
       "    <tr>\n",
       "      <th>2</th>\n",
       "      <td>1028</td>\n",
       "      <td>Martin Ruiz Soto</td>\n",
       "      <td>618940508.0</td>\n",
       "      <td>msotoranero@gmail.com</td>\n",
       "      <td>sin actividad vigente</td>\n",
       "      <td>225.15</td>\n",
       "      <td>2024-07-31 00:00:00.000000000</td>\n",
       "      <td>2024-12-15 00:00:00.000000000</td>\n",
       "      <td>5</td>\n",
       "      <td>Activo</td>\n",
       "    </tr>\n",
       "    <tr>\n",
       "      <th>3</th>\n",
       "      <td>10394</td>\n",
       "      <td>Fernando Alvarez</td>\n",
       "      <td>652162439.0</td>\n",
       "      <td>desconocido</td>\n",
       "      <td>sin actividad vigente</td>\n",
       "      <td>80.00</td>\n",
       "      <td>2023-07-12 00:00:00.000000000</td>\n",
       "      <td>2023-08-01 00:00:00.000000000</td>\n",
       "      <td>1</td>\n",
       "      <td>Activo</td>\n",
       "    </tr>\n",
       "    <tr>\n",
       "      <th>4</th>\n",
       "      <td>10399</td>\n",
       "      <td>Cp Esther Esther</td>\n",
       "      <td>678118106.0</td>\n",
       "      <td>esther.television@gmail.com</td>\n",
       "      <td>sin actividad vigente</td>\n",
       "      <td>0.00</td>\n",
       "      <td>1677-09-21 00:12:43.145224193</td>\n",
       "      <td>1677-09-21 00:12:43.145224193</td>\n",
       "      <td>0</td>\n",
       "      <td>Lead para información</td>\n",
       "    </tr>\n",
       "  </tbody>\n",
       "</table>\n",
       "</div>"
      ],
      "text/plain": [
       "      ID                  Cliente     Teléfono                        Email  \\\n",
       "0  10182  Jose Luis Sierra Campoy  644135263.0  carolina.campoy.b@gmail.com   \n",
       "1  10189            Juan Soto Cid  608710339.0        jsotoaprell@gmail.com   \n",
       "2   1028         Martin Ruiz Soto  618940508.0        msotoranero@gmail.com   \n",
       "3  10394         Fernando Alvarez  652162439.0                  desconocido   \n",
       "4  10399         Cp Esther Esther  678118106.0  esther.television@gmail.com   \n",
       "\n",
       "               Actividad  Importe                 Fecha comienzo  \\\n",
       "0  sin actividad vigente    79.00  2024-12-01 00:00:00.000000000   \n",
       "1  sin actividad vigente   180.00  2024-05-01 00:00:00.000000000   \n",
       "2  sin actividad vigente   225.15  2024-07-31 00:00:00.000000000   \n",
       "3  sin actividad vigente    80.00  2023-07-12 00:00:00.000000000   \n",
       "4  sin actividad vigente     0.00  1677-09-21 00:12:43.145224193   \n",
       "\n",
       "              Fecha finalización  Duración           Tipo cliente  \n",
       "0  2025-01-01 00:00:00.000000000         1                 Activo  \n",
       "1  2024-07-01 00:00:00.000000000         2                 Activo  \n",
       "2  2024-12-15 00:00:00.000000000         5                 Activo  \n",
       "3  2023-08-01 00:00:00.000000000         1                 Activo  \n",
       "4  1677-09-21 00:12:43.145224193         0  Lead para información  "
      ]
     },
     "execution_count": 35,
     "metadata": {},
     "output_type": "execute_result"
    }
   ],
   "source": [
    "clientes = pd.read_csv('/Users/cesarchaparro/Desktop/GitHub/Chapoteos/tablas/CSV/clientes.csv')\n",
    "clientes.head()"
   ]
  },
  {
   "cell_type": "code",
   "execution_count": 36,
   "metadata": {},
   "outputs": [],
   "source": [
    "# Fill missing values in the 'Teléfono' column with 'desconocido'\n",
    "clientes['Teléfono'] = clientes['Teléfono'].fillna('desconocido')"
   ]
  },
  {
   "cell_type": "code",
   "execution_count": 37,
   "metadata": {},
   "outputs": [
    {
     "name": "stdout",
     "output_type": "stream",
     "text": [
      "<class 'pandas.core.frame.DataFrame'>\n",
      "RangeIndex: 826 entries, 0 to 825\n",
      "Data columns (total 10 columns):\n",
      " #   Column              Non-Null Count  Dtype  \n",
      "---  ------              --------------  -----  \n",
      " 0   ID                  826 non-null    int64  \n",
      " 1   Cliente             826 non-null    object \n",
      " 2   Teléfono            826 non-null    object \n",
      " 3   Email               826 non-null    object \n",
      " 4   Actividad           826 non-null    object \n",
      " 5   Importe             826 non-null    float64\n",
      " 6   Fecha comienzo      826 non-null    object \n",
      " 7   Fecha finalización  826 non-null    object \n",
      " 8   Duración            826 non-null    int64  \n",
      " 9   Tipo cliente        826 non-null    object \n",
      "dtypes: float64(1), int64(2), object(7)\n",
      "memory usage: 64.7+ KB\n"
     ]
    }
   ],
   "source": [
    "clientes.info()"
   ]
  },
  {
   "cell_type": "markdown",
   "metadata": {},
   "source": [
    "***"
   ]
  },
  {
   "cell_type": "markdown",
   "metadata": {},
   "source": [
    "##### Cuotas Vigentes por Actividad (CATEGORÍA ACTIVOS)"
   ]
  },
  {
   "cell_type": "code",
   "execution_count": 38,
   "metadata": {},
   "outputs": [
    {
     "data": {
      "text/html": [
       "<div>\n",
       "<style scoped>\n",
       "    .dataframe tbody tr th:only-of-type {\n",
       "        vertical-align: middle;\n",
       "    }\n",
       "\n",
       "    .dataframe tbody tr th {\n",
       "        vertical-align: top;\n",
       "    }\n",
       "\n",
       "    .dataframe thead th {\n",
       "        text-align: right;\n",
       "    }\n",
       "</style>\n",
       "<table border=\"1\" class=\"dataframe\">\n",
       "  <thead>\n",
       "    <tr style=\"text-align: right;\">\n",
       "      <th></th>\n",
       "      <th>ID</th>\n",
       "      <th>Nombre del Cliente</th>\n",
       "      <th>Telefono</th>\n",
       "      <th>Email</th>\n",
       "      <th>Actividad</th>\n",
       "      <th>Vigencia de la Cuota</th>\n",
       "      <th>Periodo</th>\n",
       "      <th>Importe</th>\n",
       "    </tr>\n",
       "  </thead>\n",
       "  <tbody>\n",
       "    <tr>\n",
       "      <th>0</th>\n",
       "      <td>7188.0</td>\n",
       "      <td>Akira Rodríguez Todoroki</td>\n",
       "      <td>669079354.0</td>\n",
       "      <td>Naomi_todoroki@hotmail.com</td>\n",
       "      <td>BEBES MAYORES</td>\n",
       "      <td>01/09/2024 - 01/07/2025</td>\n",
       "      <td>10 meses</td>\n",
       "      <td>632.00</td>\n",
       "    </tr>\n",
       "    <tr>\n",
       "      <th>1</th>\n",
       "      <td>5990.0</td>\n",
       "      <td>Alejandra Parra Casado</td>\n",
       "      <td>645191368.0</td>\n",
       "      <td>SANDRA.CASADO.LOPEZ@GMAIL.COM</td>\n",
       "      <td>BEBES MAYORES</td>\n",
       "      <td>01/09/2024 - 01/07/2025</td>\n",
       "      <td>10 meses</td>\n",
       "      <td>592.50</td>\n",
       "    </tr>\n",
       "    <tr>\n",
       "      <th>2</th>\n",
       "      <td>8811.0</td>\n",
       "      <td>Alvaro Garcia-Gil Romero</td>\n",
       "      <td>686936698.0</td>\n",
       "      <td>clarloschus@gmail.com</td>\n",
       "      <td>BEBES MAYORES</td>\n",
       "      <td>01/09/2024 - 01/07/2025</td>\n",
       "      <td>10 meses</td>\n",
       "      <td>671.50</td>\n",
       "    </tr>\n",
       "    <tr>\n",
       "      <th>3</th>\n",
       "      <td>7648.0</td>\n",
       "      <td>Bernabe Garcia-Conde Colomo</td>\n",
       "      <td>619208541.0</td>\n",
       "      <td>inmadt@telefonica.net</td>\n",
       "      <td>BEBES MAYORES</td>\n",
       "      <td>01/09/2024 - 01/07/2025</td>\n",
       "      <td>10 meses</td>\n",
       "      <td>632.00</td>\n",
       "    </tr>\n",
       "    <tr>\n",
       "      <th>4</th>\n",
       "      <td>7876.0</td>\n",
       "      <td>Camila Flores Gonzalez</td>\n",
       "      <td>683647770.0</td>\n",
       "      <td>rebeca.g.hidalgo@gmail.com</td>\n",
       "      <td>BEBES MAYORES</td>\n",
       "      <td>01/09/2024 - 01/07/2025</td>\n",
       "      <td>10 meses</td>\n",
       "      <td>920.00</td>\n",
       "    </tr>\n",
       "  </tbody>\n",
       "</table>\n",
       "</div>"
      ],
      "text/plain": [
       "       ID           Nombre del Cliente     Telefono  \\\n",
       "0  7188.0     Akira Rodríguez Todoroki  669079354.0   \n",
       "1  5990.0       Alejandra Parra Casado  645191368.0   \n",
       "2  8811.0     Alvaro Garcia-Gil Romero  686936698.0   \n",
       "3  7648.0  Bernabe Garcia-Conde Colomo  619208541.0   \n",
       "4  7876.0       Camila Flores Gonzalez  683647770.0   \n",
       "\n",
       "                           Email      Actividad     Vigencia de la Cuota  \\\n",
       "0     Naomi_todoroki@hotmail.com  BEBES MAYORES  01/09/2024 - 01/07/2025   \n",
       "1  SANDRA.CASADO.LOPEZ@GMAIL.COM  BEBES MAYORES  01/09/2024 - 01/07/2025   \n",
       "2          clarloschus@gmail.com  BEBES MAYORES  01/09/2024 - 01/07/2025   \n",
       "3          inmadt@telefonica.net  BEBES MAYORES  01/09/2024 - 01/07/2025   \n",
       "4     rebeca.g.hidalgo@gmail.com  BEBES MAYORES  01/09/2024 - 01/07/2025   \n",
       "\n",
       "    Periodo Importe  \n",
       "0  10 meses  632.00  \n",
       "1  10 meses  592.50  \n",
       "2  10 meses  671.50  \n",
       "3  10 meses  632.00  \n",
       "4  10 meses  920.00  "
      ]
     },
     "execution_count": 38,
     "metadata": {},
     "output_type": "execute_result"
    }
   ],
   "source": [
    "# Read the Excel file into a DataFrame\n",
    "cuotas_vigentes_actividad = pd.read_csv('/Users/cesarchaparro/Desktop/GitHub/Chapoteos/tablas/CSV/cuotas_vigentes_por_actividad.csv')\n",
    "\n",
    "# Display the first few rows of the DataFrame\n",
    "cuotas_vigentes_actividad.head()"
   ]
  },
  {
   "cell_type": "markdown",
   "metadata": {},
   "source": [
    "##### Cleaning data types and format of the dataframe."
   ]
  },
  {
   "cell_type": "code",
   "execution_count": 39,
   "metadata": {},
   "outputs": [],
   "source": [
    "# Rename columns\n",
    "cuotas_vigentes_actividad = cuotas_vigentes_actividad.rename(columns={\n",
    "    'Nombre del Cliente': 'Cliente',\n",
    "    'Telefono': 'Teléfono'\n",
    "})"
   ]
  },
  {
   "cell_type": "code",
   "execution_count": 40,
   "metadata": {},
   "outputs": [],
   "source": [
    "# Convert Importe to float64, handling errors\n",
    "cuotas_vigentes_actividad['Importe'] = pd.to_numeric(cuotas_vigentes_actividad['Importe'], errors='coerce')  # Coerce invalid values to NaN\n",
    "# Convert the email column to lowercase\n",
    "cuotas_vigentes_actividad['Email'] = cuotas_vigentes_actividad['Email'].str.lower()\n",
    "# Convert the 'Telefono' column to string (and remove any unnecessary '.0')\n",
    "cuotas_vigentes_actividad['Teléfono'] = cuotas_vigentes_actividad['Teléfono'].astype(str).str.replace('.0', '', regex=False)\n",
    "# Convert the 'ID' column to string (and remove any unnecessary '.0')\n",
    "cuotas_vigentes_actividad['ID'] = cuotas_vigentes_actividad['ID'].astype(str).str.replace('.0', '', regex=False)\n",
    "# Convert the email column to lowercase\n",
    "cuotas_vigentes_actividad['Actividad'] = cuotas_vigentes_actividad['Actividad'].str.lower()\n",
    "# Convert the client column to title case\n",
    "cuotas_vigentes_actividad['Cliente'] = cuotas_vigentes_actividad['Cliente'].str.title()\n",
    "# Drop 'Periodo' column\n",
    "cuotas_vigentes_actividad = cuotas_vigentes_actividad.drop('Periodo', axis=1)"
   ]
  },
  {
   "cell_type": "code",
   "execution_count": 41,
   "metadata": {},
   "outputs": [
    {
     "data": {
      "text/html": [
       "<div>\n",
       "<style scoped>\n",
       "    .dataframe tbody tr th:only-of-type {\n",
       "        vertical-align: middle;\n",
       "    }\n",
       "\n",
       "    .dataframe tbody tr th {\n",
       "        vertical-align: top;\n",
       "    }\n",
       "\n",
       "    .dataframe thead th {\n",
       "        text-align: right;\n",
       "    }\n",
       "</style>\n",
       "<table border=\"1\" class=\"dataframe\">\n",
       "  <thead>\n",
       "    <tr style=\"text-align: right;\">\n",
       "      <th></th>\n",
       "      <th>ID</th>\n",
       "      <th>Cliente</th>\n",
       "      <th>Teléfono</th>\n",
       "      <th>Email</th>\n",
       "      <th>Actividad</th>\n",
       "      <th>Importe</th>\n",
       "      <th>Fecha comienzo</th>\n",
       "      <th>Fecha finalización</th>\n",
       "    </tr>\n",
       "  </thead>\n",
       "  <tbody>\n",
       "    <tr>\n",
       "      <th>0</th>\n",
       "      <td>7188</td>\n",
       "      <td>Akira Rodríguez Todoroki</td>\n",
       "      <td>669079354</td>\n",
       "      <td>naomi_todoroki@hotmail.com</td>\n",
       "      <td>bebes mayores</td>\n",
       "      <td>632.0</td>\n",
       "      <td>2024-09-01</td>\n",
       "      <td>2025-07-01</td>\n",
       "    </tr>\n",
       "    <tr>\n",
       "      <th>1</th>\n",
       "      <td>5990</td>\n",
       "      <td>Alejandra Parra Casado</td>\n",
       "      <td>645191368</td>\n",
       "      <td>sandra.casado.lopez@gmail.com</td>\n",
       "      <td>bebes mayores</td>\n",
       "      <td>592.5</td>\n",
       "      <td>2024-09-01</td>\n",
       "      <td>2025-07-01</td>\n",
       "    </tr>\n",
       "    <tr>\n",
       "      <th>2</th>\n",
       "      <td>8811</td>\n",
       "      <td>Alvaro Garcia-Gil Romero</td>\n",
       "      <td>686936698</td>\n",
       "      <td>clarloschus@gmail.com</td>\n",
       "      <td>bebes mayores</td>\n",
       "      <td>671.5</td>\n",
       "      <td>2024-09-01</td>\n",
       "      <td>2025-07-01</td>\n",
       "    </tr>\n",
       "    <tr>\n",
       "      <th>3</th>\n",
       "      <td>7648</td>\n",
       "      <td>Bernabe Garcia-Conde Colomo</td>\n",
       "      <td>619208541</td>\n",
       "      <td>inmadt@telefonica.net</td>\n",
       "      <td>bebes mayores</td>\n",
       "      <td>632.0</td>\n",
       "      <td>2024-09-01</td>\n",
       "      <td>2025-07-01</td>\n",
       "    </tr>\n",
       "    <tr>\n",
       "      <th>4</th>\n",
       "      <td>7876</td>\n",
       "      <td>Camila Flores Gonzalez</td>\n",
       "      <td>683647770</td>\n",
       "      <td>rebeca.g.hidalgo@gmail.com</td>\n",
       "      <td>bebes mayores</td>\n",
       "      <td>920.0</td>\n",
       "      <td>2024-09-01</td>\n",
       "      <td>2025-07-01</td>\n",
       "    </tr>\n",
       "  </tbody>\n",
       "</table>\n",
       "</div>"
      ],
      "text/plain": [
       "     ID                      Cliente   Teléfono  \\\n",
       "0  7188     Akira Rodríguez Todoroki  669079354   \n",
       "1  5990       Alejandra Parra Casado  645191368   \n",
       "2  8811     Alvaro Garcia-Gil Romero  686936698   \n",
       "3  7648  Bernabe Garcia-Conde Colomo  619208541   \n",
       "4  7876       Camila Flores Gonzalez  683647770   \n",
       "\n",
       "                           Email      Actividad  Importe Fecha comienzo  \\\n",
       "0     naomi_todoroki@hotmail.com  bebes mayores    632.0     2024-09-01   \n",
       "1  sandra.casado.lopez@gmail.com  bebes mayores    592.5     2024-09-01   \n",
       "2          clarloschus@gmail.com  bebes mayores    671.5     2024-09-01   \n",
       "3          inmadt@telefonica.net  bebes mayores    632.0     2024-09-01   \n",
       "4     rebeca.g.hidalgo@gmail.com  bebes mayores    920.0     2024-09-01   \n",
       "\n",
       "  Fecha finalización  \n",
       "0         2025-07-01  \n",
       "1         2025-07-01  \n",
       "2         2025-07-01  \n",
       "3         2025-07-01  \n",
       "4         2025-07-01  "
      ]
     },
     "execution_count": 41,
     "metadata": {},
     "output_type": "execute_result"
    }
   ],
   "source": [
    "# Split the 'Vigencia de la Cuota' column into two new columns\n",
    "cuotas_vigentes_actividad[['Fecha comienzo', 'Fecha finalización']] = cuotas_vigentes_actividad['Vigencia de la Cuota'].str.split(' - ', expand=True)\n",
    "\n",
    "# Convert the new columns to datetime format\n",
    "cuotas_vigentes_actividad['Fecha comienzo'] = pd.to_datetime(cuotas_vigentes_actividad['Fecha comienzo'], dayfirst=True)\n",
    "cuotas_vigentes_actividad['Fecha finalización'] = pd.to_datetime(cuotas_vigentes_actividad['Fecha finalización'], dayfirst=True)\n",
    "\n",
    "# Delete the column Vigencia de la Cuota\n",
    "cuotas_vigentes_actividad.drop('Vigencia de la Cuota', axis=1, inplace=True)\n",
    "\n",
    "# Display the updated DataFrame\n",
    "cuotas_vigentes_actividad.head()"
   ]
  },
  {
   "cell_type": "code",
   "execution_count": 42,
   "metadata": {},
   "outputs": [
    {
     "name": "stdout",
     "output_type": "stream",
     "text": [
      "['bebes mayores' 'bebes medianos' 'bebes pequeños' 'bebes pre escuela'\n",
      " 'escuela' 'grupos reducidos' 'pre escuela' 'adultos aprendizaje'\n",
      " 'act acuatica embarazadas' 'bono 10 baños' 'adultos mantenimiento'\n",
      " 'escuelas infantiles']\n"
     ]
    }
   ],
   "source": [
    "# Print unique values in the 'Actividad' column\n",
    "print(cuotas_vigentes_actividad['Actividad'].unique())"
   ]
  },
  {
   "cell_type": "markdown",
   "metadata": {},
   "source": [
    "##### Handle duplicates."
   ]
  },
  {
   "cell_type": "code",
   "execution_count": 43,
   "metadata": {},
   "outputs": [
    {
     "data": {
      "text/html": [
       "<div>\n",
       "<style scoped>\n",
       "    .dataframe tbody tr th:only-of-type {\n",
       "        vertical-align: middle;\n",
       "    }\n",
       "\n",
       "    .dataframe tbody tr th {\n",
       "        vertical-align: top;\n",
       "    }\n",
       "\n",
       "    .dataframe thead th {\n",
       "        text-align: right;\n",
       "    }\n",
       "</style>\n",
       "<table border=\"1\" class=\"dataframe\">\n",
       "  <thead>\n",
       "    <tr style=\"text-align: right;\">\n",
       "      <th></th>\n",
       "      <th>ID</th>\n",
       "      <th>Cliente</th>\n",
       "      <th>Teléfono</th>\n",
       "      <th>Email</th>\n",
       "      <th>Actividad</th>\n",
       "      <th>Importe</th>\n",
       "      <th>Fecha comienzo</th>\n",
       "      <th>Fecha finalización</th>\n",
       "    </tr>\n",
       "  </thead>\n",
       "  <tbody>\n",
       "    <tr>\n",
       "      <th>75</th>\n",
       "      <td>9197</td>\n",
       "      <td>Rodrigo Peláez Martínez-Barquero</td>\n",
       "      <td>648871011</td>\n",
       "      <td>pelfro@hotmail.com</td>\n",
       "      <td>bebes medianos</td>\n",
       "      <td>632.0</td>\n",
       "      <td>2024-07-01</td>\n",
       "      <td>2025-05-01</td>\n",
       "    </tr>\n",
       "    <tr>\n",
       "      <th>262</th>\n",
       "      <td>6473</td>\n",
       "      <td>Rodrigo Garcia Fernandez-Parodi</td>\n",
       "      <td>615053195</td>\n",
       "      <td>cristina.pfp@gmail.com</td>\n",
       "      <td>bebes mayores</td>\n",
       "      <td>284.4</td>\n",
       "      <td>2024-10-01</td>\n",
       "      <td>2025-02-01</td>\n",
       "    </tr>\n",
       "    <tr>\n",
       "      <th>294</th>\n",
       "      <td>12927</td>\n",
       "      <td>Rodrigo Garcia Arroyo</td>\n",
       "      <td>610996250</td>\n",
       "      <td>coraliayjavier@gmail.com</td>\n",
       "      <td>bebes medianos</td>\n",
       "      <td>300.2</td>\n",
       "      <td>2024-11-01</td>\n",
       "      <td>2025-03-01</td>\n",
       "    </tr>\n",
       "    <tr>\n",
       "      <th>355</th>\n",
       "      <td>14684</td>\n",
       "      <td>Oliver Espinosa Romero</td>\n",
       "      <td>604882925</td>\n",
       "      <td>pablosvet@gmail.com</td>\n",
       "      <td>escuela</td>\n",
       "      <td>0.0</td>\n",
       "      <td>2025-01-14</td>\n",
       "      <td>2025-05-01</td>\n",
       "    </tr>\n",
       "    <tr>\n",
       "      <th>431</th>\n",
       "      <td>14368</td>\n",
       "      <td>Gabriel Acevedo</td>\n",
       "      <td>689189710</td>\n",
       "      <td>nicaguto@gmail.com</td>\n",
       "      <td>bebes pre escuela</td>\n",
       "      <td>0.0</td>\n",
       "      <td>2024-09-28</td>\n",
       "      <td>2025-02-01</td>\n",
       "    </tr>\n",
       "    <tr>\n",
       "      <th>438</th>\n",
       "      <td>14368</td>\n",
       "      <td>Gabriel Acevedo</td>\n",
       "      <td>689189710</td>\n",
       "      <td>nicaguto@gmail.com</td>\n",
       "      <td>grupos reducidos</td>\n",
       "      <td>300.2</td>\n",
       "      <td>2024-09-22</td>\n",
       "      <td>2025-02-01</td>\n",
       "    </tr>\n",
       "    <tr>\n",
       "      <th>464</th>\n",
       "      <td>9197</td>\n",
       "      <td>Rodrigo Peláez Martínez-Barquero</td>\n",
       "      <td>648871011</td>\n",
       "      <td>pelfro@hotmail.com</td>\n",
       "      <td>bebes mayores</td>\n",
       "      <td>0.0</td>\n",
       "      <td>2024-11-13</td>\n",
       "      <td>2025-07-01</td>\n",
       "    </tr>\n",
       "    <tr>\n",
       "      <th>503</th>\n",
       "      <td>12927</td>\n",
       "      <td>Rodrigo Garcia Arroyo</td>\n",
       "      <td>610996250</td>\n",
       "      <td>coraliayjavier@gmail.com</td>\n",
       "      <td>bebes medianos</td>\n",
       "      <td>39.5</td>\n",
       "      <td>2024-12-01</td>\n",
       "      <td>2025-02-01</td>\n",
       "    </tr>\n",
       "    <tr>\n",
       "      <th>524</th>\n",
       "      <td>14684</td>\n",
       "      <td>Oliver Espinosa Romero</td>\n",
       "      <td>604882925</td>\n",
       "      <td>pablosvet@gmail.com</td>\n",
       "      <td>pre escuela</td>\n",
       "      <td>426.6</td>\n",
       "      <td>2024-11-01</td>\n",
       "      <td>2025-01-19</td>\n",
       "    </tr>\n",
       "    <tr>\n",
       "      <th>709</th>\n",
       "      <td>6473</td>\n",
       "      <td>Rodrigo Garcia Fernandez-Parodi</td>\n",
       "      <td>615053195</td>\n",
       "      <td>cristina.pfp@gmail.com</td>\n",
       "      <td>bebes pre escuela</td>\n",
       "      <td>0.0</td>\n",
       "      <td>2025-01-01</td>\n",
       "      <td>2025-02-01</td>\n",
       "    </tr>\n",
       "  </tbody>\n",
       "</table>\n",
       "</div>"
      ],
      "text/plain": [
       "        ID                           Cliente   Teléfono  \\\n",
       "75    9197  Rodrigo Peláez Martínez-Barquero  648871011   \n",
       "262   6473   Rodrigo Garcia Fernandez-Parodi  615053195   \n",
       "294  12927             Rodrigo Garcia Arroyo  610996250   \n",
       "355  14684            Oliver Espinosa Romero  604882925   \n",
       "431  14368                   Gabriel Acevedo  689189710   \n",
       "438  14368                   Gabriel Acevedo  689189710   \n",
       "464   9197  Rodrigo Peláez Martínez-Barquero  648871011   \n",
       "503  12927             Rodrigo Garcia Arroyo  610996250   \n",
       "524  14684            Oliver Espinosa Romero  604882925   \n",
       "709   6473   Rodrigo Garcia Fernandez-Parodi  615053195   \n",
       "\n",
       "                        Email          Actividad  Importe Fecha comienzo  \\\n",
       "75         pelfro@hotmail.com     bebes medianos    632.0     2024-07-01   \n",
       "262    cristina.pfp@gmail.com      bebes mayores    284.4     2024-10-01   \n",
       "294  coraliayjavier@gmail.com     bebes medianos    300.2     2024-11-01   \n",
       "355       pablosvet@gmail.com            escuela      0.0     2025-01-14   \n",
       "431        nicaguto@gmail.com  bebes pre escuela      0.0     2024-09-28   \n",
       "438        nicaguto@gmail.com   grupos reducidos    300.2     2024-09-22   \n",
       "464        pelfro@hotmail.com      bebes mayores      0.0     2024-11-13   \n",
       "503  coraliayjavier@gmail.com     bebes medianos     39.5     2024-12-01   \n",
       "524       pablosvet@gmail.com        pre escuela    426.6     2024-11-01   \n",
       "709    cristina.pfp@gmail.com  bebes pre escuela      0.0     2025-01-01   \n",
       "\n",
       "    Fecha finalización  \n",
       "75          2025-05-01  \n",
       "262         2025-02-01  \n",
       "294         2025-03-01  \n",
       "355         2025-05-01  \n",
       "431         2025-02-01  \n",
       "438         2025-02-01  \n",
       "464         2025-07-01  \n",
       "503         2025-02-01  \n",
       "524         2025-01-19  \n",
       "709         2025-02-01  "
      ]
     },
     "execution_count": 43,
     "metadata": {},
     "output_type": "execute_result"
    }
   ],
   "source": [
    "# Find duplicates in the 'ID' column\n",
    "cuotas_vigentes_actividad[cuotas_vigentes_actividad['ID'].duplicated(keep=False)]"
   ]
  },
  {
   "cell_type": "code",
   "execution_count": 44,
   "metadata": {},
   "outputs": [
    {
     "name": "stdout",
     "output_type": "stream",
     "text": [
      "Total rows: 955\n",
      "Unique rows: 955\n",
      "Number of duplicate rows: 0\n"
     ]
    }
   ],
   "source": [
    "print(\"Total rows:\", len(cuotas_vigentes_actividad))\n",
    "print(\"Unique rows:\", len(cuotas_vigentes_actividad.drop_duplicates()))\n",
    "print(\"Number of duplicate rows:\", len(cuotas_vigentes_actividad) - len(cuotas_vigentes_actividad.drop_duplicates()))"
   ]
  },
  {
   "cell_type": "code",
   "execution_count": 45,
   "metadata": {},
   "outputs": [
    {
     "name": "stdout",
     "output_type": "stream",
     "text": [
      "Number of rows after dropping duplicates: 945\n"
     ]
    }
   ],
   "source": [
    "# Drop all rows where 'ID' is duplicated\n",
    "cuotas_vigentes_actividad = cuotas_vigentes_actividad[~cuotas_vigentes_actividad['ID'].duplicated(keep=False)]\n",
    "# Verify the result\n",
    "print(f\"Number of rows after dropping duplicates: {len(cuotas_vigentes_actividad)}\")"
   ]
  },
  {
   "cell_type": "markdown",
   "metadata": {},
   "source": [
    "##### Handle missing values."
   ]
  },
  {
   "cell_type": "code",
   "execution_count": 46,
   "metadata": {},
   "outputs": [],
   "source": [
    "# Fill missing values in the 'Email' column with 'desconocido'\n",
    "cuotas_vigentes_actividad['Email'] = cuotas_vigentes_actividad['Email'].fillna('desconocido')"
   ]
  },
  {
   "cell_type": "code",
   "execution_count": 47,
   "metadata": {},
   "outputs": [
    {
     "data": {
      "text/html": [
       "<div>\n",
       "<style scoped>\n",
       "    .dataframe tbody tr th:only-of-type {\n",
       "        vertical-align: middle;\n",
       "    }\n",
       "\n",
       "    .dataframe tbody tr th {\n",
       "        vertical-align: top;\n",
       "    }\n",
       "\n",
       "    .dataframe thead th {\n",
       "        text-align: right;\n",
       "    }\n",
       "</style>\n",
       "<table border=\"1\" class=\"dataframe\">\n",
       "  <thead>\n",
       "    <tr style=\"text-align: right;\">\n",
       "      <th></th>\n",
       "      <th>ID</th>\n",
       "      <th>Cliente</th>\n",
       "      <th>Teléfono</th>\n",
       "      <th>Email</th>\n",
       "      <th>Actividad</th>\n",
       "      <th>Importe</th>\n",
       "      <th>Fecha comienzo</th>\n",
       "      <th>Fecha finalización</th>\n",
       "    </tr>\n",
       "  </thead>\n",
       "  <tbody>\n",
       "    <tr>\n",
       "      <th>728</th>\n",
       "      <td>14626</td>\n",
       "      <td>Escuela Infantil Altamira</td>\n",
       "      <td>652409381</td>\n",
       "      <td>dburgos@workandlife.com</td>\n",
       "      <td>escuelas infantiles</td>\n",
       "      <td>NaN</td>\n",
       "      <td>2025-01-01</td>\n",
       "      <td>2025-02-01</td>\n",
       "    </tr>\n",
       "  </tbody>\n",
       "</table>\n",
       "</div>"
      ],
      "text/plain": [
       "        ID                    Cliente   Teléfono                    Email  \\\n",
       "728  14626  Escuela Infantil Altamira  652409381  dburgos@workandlife.com   \n",
       "\n",
       "               Actividad  Importe Fecha comienzo Fecha finalización  \n",
       "728  escuelas infantiles      NaN     2025-01-01         2025-02-01  "
      ]
     },
     "execution_count": 47,
     "metadata": {},
     "output_type": "execute_result"
    }
   ],
   "source": [
    "# Find rows where 'Importe' is NaN\n",
    "discrepancy_rows = cuotas_vigentes_actividad[cuotas_vigentes_actividad['Importe'].isna()]\n",
    "# Display the rows with discrepancies\n",
    "discrepancy_rows"
   ]
  },
  {
   "cell_type": "markdown",
   "metadata": {},
   "source": [
    "##### Existe un cliente bajo la categoria de Escuelas Infantiles con actividad pero sin pago."
   ]
  },
  {
   "cell_type": "code",
   "execution_count": 48,
   "metadata": {},
   "outputs": [],
   "source": [
    "# Fill NaN values in 'Importe' column with 0.00 and ensure float64 type\n",
    "cuotas_vigentes_actividad['Importe'] = cuotas_vigentes_actividad['Importe'].fillna(0.00).astype('float64')"
   ]
  },
  {
   "cell_type": "code",
   "execution_count": 119,
   "metadata": {},
   "outputs": [
    {
     "name": "stdout",
     "output_type": "stream",
     "text": [
      "        ID                                Cliente   Teléfono  \\\n",
      "38    9421                    Mia Hernando Medina  675861792   \n",
      "47    9923                Pepe Bermudez Rodríguez  606166414   \n",
      "87    4934                Aharon De Bonis Humanes  617528159   \n",
      "97   12082                    Erik Zonca Martinez  622849517   \n",
      "133    384              Carlos Rodriguez Gonzalez  661363135   \n",
      "136    941               Carlota Samaran Ferreiro  671020355   \n",
      "151   1253                Jimena Samaran Ferreiro  671020355   \n",
      "164    898                    Oliver Gomez Martin  616216419   \n",
      "181   4940              Mateo Jose Martin Manzano  670976765   \n",
      "200   3328                 Gabriela Romero Aguado  652797161   \n",
      "210  12063               Martina Garcia Fernandez  686845916   \n",
      "248   8089                 Diego Birnbaum Cabrero  616342743   \n",
      "285  13218                   Martin Jimenez Quero  675735528   \n",
      "298  12994      Adriana Mañas Rodríguez  (Tienda)  605925298   \n",
      "302  14866               Astrid Hernando Peregrín  679197639   \n",
      "354  14222  Nicolas (Hijo De Pino) Gonzalez Cobos  660111128   \n",
      "360   6881                         Ana Díaz Torre  629098412   \n",
      "370   5828               Martina Sofía Paz Mendez  640619611   \n",
      "393   9282                Miguel Calderon Cantero  650126312   \n",
      "418  14638                    Javier Bolaño Avila  687769495   \n",
      "443   8713                   Julio Trenas Rospide  689199462   \n",
      "447   9634                 Paula Martínez Leyenda  646655653   \n",
      "453  13331        Apolo Camacho Nieto (Bebe Ruth)  681239966   \n",
      "461   1717                Carmen Martínez Leyenda  646655653   \n",
      "468  11196                          Iris Prestini  689378056   \n",
      "474  13354             Adriana Del Valle Menéndez  620143047   \n",
      "485   7624              Carlota Fuentes Fernandez  650354031   \n",
      "502  11554                   Paula Quesada Martin  661716696   \n",
      "516  14429                       Eva Barcia Docal  680663799   \n",
      "523  12521              Claudia De Vita Gutiérrez  683449584   \n",
      "551  14024                Angeles Navarro Ruperez  699971762   \n",
      "556  13510              Miguel Ángel García Pinar  659260060   \n",
      "557    641                Angel Borrego Rodriguez  629836576   \n",
      "586  10919                     Nicolás Fadón Vera  619919771   \n",
      "589  14316            Rania El Matrouch El Harrak  647769883   \n",
      "596   8175            Vega Fernández Diaz- Blanco  679998366   \n",
      "626  11965              Marcos Rodríguez Martínez  661117275   \n",
      "633  11302               Pablo Tejerina Fernández  639462585   \n",
      "653  14000          Carlota Lopez Calles (Tienda)  605693224   \n",
      "656  13191                   Diego Martín Colinas  600495620   \n",
      "682  13192                   Pablo Martín Colinas  600495620   \n",
      "697   7314                   Claudia Neira Segura  620626397   \n",
      "704  12806                      Lucas Astiaso Gea  627346132   \n",
      "706  11527                   Mario Santos Gallego  679789063   \n",
      "711   8406                Zoe De Arbeloa Coirazza  654426388   \n",
      "728  14626              Escuela Infantil Altamira  652409381   \n",
      "752   6858                   Mireia González Ruiz  677135134   \n",
      "784  12213                   Lara  Curieses Perea  606586083   \n",
      "796  12834             Victoria Vázquez Lipoveanu  666527977   \n",
      "808   6007               Dante Castellanos Garcia  619889958   \n",
      "813   5297                Olivia Sanchez González  633032212   \n",
      "814   6819                  Valeria Sanchez Marin  646157418   \n",
      "823  11197                          Lily Prestini  689378056   \n",
      "830    533                   Micaela Pequeno Reis  665595043   \n",
      "838  10025                     Alfonso Ramos Isac  646081564   \n",
      "863  12905                   Adriana Cortes Arina  663062578   \n",
      "899  15188                  Jorge Bernabeu Martin  667291567   \n",
      "909  13824                 Diego González Montero  666071574   \n",
      "925  14484                       Mia Martin Negri  646361093   \n",
      "927   7202                 Alejandra Zurita Navas  652167466   \n",
      "947  13241                      Jorge Aristín Gil  679177976   \n",
      "948   4540                Lorenzo Escobar Carcedo  616433602   \n",
      "\n",
      "                                     Email              Actividad  Importe  \\\n",
      "38                lara_tokoyhi@hotmail.com          bebes mayores      0.0   \n",
      "47                   lauroga77@hotmail.com          bebes mayores      0.0   \n",
      "87         alfredodeboniscasas@hotmail.com      bebes pre escuela      0.0   \n",
      "97              adelia.martinez@icloud.com      bebes pre escuela      0.0   \n",
      "133                  oscarygloria@yahoo.es                escuela      0.0   \n",
      "136             carmenferreiro@hotmail.com                escuela      0.0   \n",
      "151             carmenferreiro@hotmail.com                escuela      0.0   \n",
      "164    patriciamartinfernandez@hotmail.com                escuela      0.0   \n",
      "181                  cris_mv87@hotmail.com       grupos reducidos      0.0   \n",
      "200            romeronavarro88@hotmail.com            pre escuela      0.0   \n",
      "210        anafernandezcabezas@hotmail.com            pre escuela      0.0   \n",
      "248            mcabrerogutierrez@gmail.com          bebes mayores      0.0   \n",
      "285           marcosjimenezhueso@gmail.com         bebes medianos      0.0   \n",
      "298                   amanas1987@gmail.com         bebes pequeños      0.0   \n",
      "302               paulaperegrinr@gmail.com         bebes pequeños      0.0   \n",
      "354           coboshernandezpino@gmail.com                escuela      0.0   \n",
      "360                  francisco.diaz@upm.es       grupos reducidos      0.0   \n",
      "370                     ella93me@gmail.com       grupos reducidos      0.0   \n",
      "393                jimenacantero@gmail.com            pre escuela      0.0   \n",
      "418                elisavilgar@hotmail.com         bebes pequeños      0.0   \n",
      "443                  juliotr82@hotmail.com            pre escuela      0.0   \n",
      "447                maria.leyenda@gmail.com          bebes mayores      0.0   \n",
      "453                ruthnietodiaz@gmail.com         bebes pequeños      0.0   \n",
      "461                maria.leyenda@gmail.com            pre escuela      0.0   \n",
      "468             vittoria.milizia@gmail.com            pre escuela      0.0   \n",
      "474         helena.menendez.2010@gmail.com         bebes medianos      0.0   \n",
      "485               raul.fuentesg@hotmail.es       grupos reducidos      0.0   \n",
      "502              anamartinbuceta@gmail.com         bebes medianos      0.0   \n",
      "516                    docal72@hotmail.com      bebes pre escuela      0.0   \n",
      "523                 guti_marta@hotmail.com       grupos reducidos      0.0   \n",
      "551                   aruperez57@gmail.com    adultos aprendizaje      0.0   \n",
      "556  miguel_angel_garcia_pinar@hotmail.com    adultos aprendizaje      0.0   \n",
      "557                       econ324@yahoo.es  adultos mantenimiento      0.0   \n",
      "586           celia.vera.pascual@gmail.com          bebes mayores      0.0   \n",
      "589                 honeytennouf@gmail.con          bebes mayores      0.0   \n",
      "596                   franmasone@gmail.com          bebes mayores      0.0   \n",
      "626             paulamartinezm90@gmail.com         bebes medianos      0.0   \n",
      "633                   fermabea@hotmail.com         bebes medianos      0.0   \n",
      "653       luislopez.angelacalles@gmail.com         bebes pequeños      0.0   \n",
      "656                   jmlopez293@gmail.com         bebes pequeños      0.0   \n",
      "682                   jmlopez293@gmail.com         bebes pequeños      0.0   \n",
      "697                  cseguram.15@gmail.com      bebes pre escuela      0.0   \n",
      "704                 alicia.gea@hotmail.com      bebes pre escuela      0.0   \n",
      "706            egallegogallego87@gmail.com      bebes pre escuela      0.0   \n",
      "711                    vannecoi@icloud.com      bebes pre escuela      0.0   \n",
      "728                dburgos@workandlife.com    escuelas infantiles      0.0   \n",
      "752          maribel.ruizmasso@hotmail.com       grupos reducidos      0.0   \n",
      "784                     tepeream@gmail.com         bebes medianos      0.0   \n",
      "796                      ernesk8@gmail.com         bebes medianos      0.0   \n",
      "808                      saragey@gmail.com      bebes pre escuela      0.0   \n",
      "813      gonzalezbernal.patricia@gmail.com      bebes pre escuela      0.0   \n",
      "814               sanmarinblanco@gmail.com      bebes pre escuela      0.0   \n",
      "823             vittoria.milizia@gmail.com       grupos reducidos      0.0   \n",
      "830               marcus.pequeno@gmail.com            pre escuela      0.0   \n",
      "838                     aramopas@gmail.com          bebes mayores      0.0   \n",
      "863               anaarinasieiro@gmail.com         bebes medianos      0.0   \n",
      "899                   cmrollon@hotmail.com         bebes pequeños      0.0   \n",
      "909                   laura.mtrm@gmail.com      bebes pre escuela      0.0   \n",
      "925                michelanegri@icloud.com                escuela      0.0   \n",
      "927             mariajosenavas@hotmail.com       grupos reducidos      0.0   \n",
      "947                    aristin77@gmail.com            pre escuela      0.0   \n",
      "948                ana.carcedo@hotmail.com            pre escuela      0.0   \n",
      "\n",
      "    Fecha comienzo Fecha finalización  Duración     Tipo cliente  \n",
      "38      2024-09-01         2025-07-01        10  Servicio gratis  \n",
      "47      2024-09-01         2025-07-01        10  Servicio gratis  \n",
      "87      2024-09-01         2025-07-01        10  Servicio gratis  \n",
      "97      2024-09-01         2025-07-01        10  Servicio gratis  \n",
      "133     2024-09-01         2025-07-01        10  Servicio gratis  \n",
      "136     2024-09-01         2025-07-01        10  Servicio gratis  \n",
      "151     2024-09-01         2025-07-01        10  Servicio gratis  \n",
      "164     2024-09-01         2025-07-01        10  Servicio gratis  \n",
      "181     2024-09-01         2025-07-01        10  Servicio gratis  \n",
      "200     2024-09-12         2025-07-12        10  Servicio gratis  \n",
      "210     2024-09-01         2025-07-01        10  Servicio gratis  \n",
      "248     2024-10-06         2025-02-01         4  Servicio gratis  \n",
      "285     2024-09-19         2025-01-19         4  Servicio gratis  \n",
      "298     2024-09-20         2025-01-19         4  Servicio gratis  \n",
      "302     2025-01-01         2025-05-01         4  Servicio gratis  \n",
      "354     2024-12-01         2025-04-01         4  Servicio gratis  \n",
      "360     2025-01-01         2025-05-01         4  Servicio gratis  \n",
      "370     2024-10-01         2025-02-01         4  Servicio gratis  \n",
      "393     2024-11-11         2025-03-01         4  Servicio gratis  \n",
      "418     2024-10-18         2025-03-01         5  Servicio gratis  \n",
      "443     2024-11-25         2025-04-01         5  Servicio gratis  \n",
      "447     2024-12-01         2025-07-01         7  Servicio gratis  \n",
      "453     2024-12-01         2025-07-01         7  Servicio gratis  \n",
      "461     2024-12-01         2025-07-01         7  Servicio gratis  \n",
      "468     2024-11-07         2025-07-15         8  Servicio gratis  \n",
      "474     2024-10-01         2025-07-01         9  Servicio gratis  \n",
      "485     2024-10-16         2025-07-01         9  Servicio gratis  \n",
      "502     2024-12-01         2025-02-01         2  Servicio gratis  \n",
      "516     2024-12-01         2025-02-01         2  Servicio gratis  \n",
      "523     2025-01-13         2025-03-13         2  Servicio gratis  \n",
      "551     2025-01-01         2025-02-01         1  Servicio gratis  \n",
      "556     2025-01-01         2025-02-01         1  Servicio gratis  \n",
      "557     2025-01-01         2025-02-01         1  Servicio gratis  \n",
      "586     2025-01-01         2025-02-04         1  Servicio gratis  \n",
      "589     2024-12-03         2025-01-22         1  Servicio gratis  \n",
      "596     2025-01-01         2025-02-01         1  Servicio gratis  \n",
      "626     2025-01-01         2025-02-01         1  Servicio gratis  \n",
      "633     2025-01-01         2025-02-01         1  Servicio gratis  \n",
      "653     2025-01-09         2025-02-13         1  Servicio gratis  \n",
      "656     2025-01-01         2025-02-01         1  Servicio gratis  \n",
      "682     2025-01-01         2025-02-01         1  Servicio gratis  \n",
      "697     2025-01-01         2025-02-01         1  Servicio gratis  \n",
      "704     2025-01-01         2025-02-01         1  Servicio gratis  \n",
      "706     2025-01-01         2025-02-01         1  Servicio gratis  \n",
      "711     2025-01-01         2025-02-01         1  Servicio gratis  \n",
      "728     2025-01-01         2025-02-01         1  Servicio gratis  \n",
      "752     2025-01-01         2025-02-01         1  Servicio gratis  \n",
      "784     2025-01-01         2025-07-01         6  Servicio gratis  \n",
      "796     2025-01-01         2025-07-01         6  Servicio gratis  \n",
      "808     2025-01-01         2025-07-01         6  Servicio gratis  \n",
      "813     2024-09-01         2025-03-01         6  Servicio gratis  \n",
      "814     2025-01-01         2025-07-01         6  Servicio gratis  \n",
      "823     2025-01-01         2025-07-15         6  Servicio gratis  \n",
      "830     2024-09-01         2025-03-01         6  Servicio gratis  \n",
      "838     2024-12-01         2025-03-01         3  Servicio gratis  \n",
      "863     2024-11-04         2025-02-01         3  Servicio gratis  \n",
      "899     2024-12-17         2025-03-01         3  Servicio gratis  \n",
      "909     2024-11-01         2025-02-01         3  Servicio gratis  \n",
      "925     2025-01-01         2025-04-01         3  Servicio gratis  \n",
      "927     2024-12-01         2025-03-01         3  Servicio gratis  \n",
      "947     2024-11-01         2025-02-01         3  Servicio gratis  \n",
      "948     2024-11-01         2025-02-01         3  Servicio gratis  \n"
     ]
    }
   ],
   "source": [
    "zero_importe = cuotas_vigentes_actividad[cuotas_vigentes_actividad['Importe'] == 0.0]\n",
    "pd.set_option('display.max_rows', 62)\n",
    "print(zero_importe.head(62))"
   ]
  },
  {
   "cell_type": "code",
   "execution_count": 50,
   "metadata": {},
   "outputs": [
    {
     "name": "stdout",
     "output_type": "stream",
     "text": [
      "Number of clients with Importe = 0.0: 62\n"
     ]
    }
   ],
   "source": [
    "zero_importe = cuotas_vigentes_actividad[cuotas_vigentes_actividad['Importe'] == 0.0]\n",
    "count = len(zero_importe)\n",
    "print(f\"Number of clients with Importe = 0.0: {count}\")"
   ]
  },
  {
   "cell_type": "markdown",
   "metadata": {},
   "source": [
    "##### Existen 62 clientes activos que están recibiendo un servicio pero no hay registro de pago."
   ]
  },
  {
   "cell_type": "code",
   "execution_count": 51,
   "metadata": {},
   "outputs": [
    {
     "name": "stdout",
     "output_type": "stream",
     "text": [
      "Data type of Importe column: float64\n",
      "Number of NaN values: 0\n"
     ]
    }
   ],
   "source": [
    "# Verify the data type and that there are no more NaN values\n",
    "print(\"Data type of Importe column:\", cuotas_vigentes_actividad['Importe'].dtype)\n",
    "print(\"Number of NaN values:\", cuotas_vigentes_actividad['Importe'].isna().sum())"
   ]
  },
  {
   "cell_type": "code",
   "execution_count": 52,
   "metadata": {},
   "outputs": [
    {
     "name": "stdout",
     "output_type": "stream",
     "text": [
      "[10 11 14  4  5  7  8  9  2  1  6  3]\n"
     ]
    }
   ],
   "source": [
    "# Calculate duration in months\n",
    "cuotas_vigentes_actividad['Duración'] = (\n",
    "    (cuotas_vigentes_actividad['Fecha finalización'].dt.year - cuotas_vigentes_actividad['Fecha comienzo'].dt.year) * 12 +\n",
    "    (cuotas_vigentes_actividad['Fecha finalización'].dt.month - cuotas_vigentes_actividad['Fecha comienzo'].dt.month)\n",
    ")\n",
    "print(cuotas_vigentes_actividad['Duración'].unique())"
   ]
  },
  {
   "cell_type": "code",
   "execution_count": 53,
   "metadata": {},
   "outputs": [
    {
     "name": "stdout",
     "output_type": "stream",
     "text": [
      "\n",
      "Distribución de tipos de clientes:\n",
      "Tipo cliente\n",
      "Activo             883\n",
      "Servicio gratis     62\n",
      "Name: count, dtype: int64\n",
      "\n",
      "Porcentaje de distribución de tipos de clientes:\n",
      "Tipo cliente\n",
      "Activo             93.439153\n",
      "Servicio gratis     6.560847\n",
      "Name: proportion, dtype: float64\n"
     ]
    }
   ],
   "source": [
    "def classify_client_cuotas(row):\n",
    "    if row['Importe'] == 0.0 and (row['Fecha comienzo'] != pd.Timestamp.min or row['Fecha finalizacion'] != pd.Timestamp.min):\n",
    "        return 'Servicio gratis'\n",
    "    elif row['Importe'] > 0.0:\n",
    "        return 'Activo'\n",
    "    else:\n",
    "        return 'Indefinido'  # For any cases that don't match the above conditions\n",
    "\n",
    "# Add the new classification column\n",
    "cuotas_vigentes_actividad['Tipo cliente'] = cuotas_vigentes_actividad.apply(classify_client_cuotas, axis=1)\n",
    "\n",
    "# See the distribution of client types\n",
    "client_type_distribution = cuotas_vigentes_actividad['Tipo cliente'].value_counts()\n",
    "print(\"\\nDistribución de tipos de clientes:\")\n",
    "print(client_type_distribution)\n",
    "\n",
    "# See the percentage distribution\n",
    "client_type_percentage = cuotas_vigentes_actividad['Tipo cliente'].value_counts(normalize=True) * 100\n",
    "print(\"\\nPorcentaje de distribución de tipos de clientes:\")\n",
    "print(client_type_percentage)"
   ]
  },
  {
   "cell_type": "code",
   "execution_count": 54,
   "metadata": {},
   "outputs": [
    {
     "name": "stdout",
     "output_type": "stream",
     "text": [
      "<class 'pandas.core.frame.DataFrame'>\n",
      "Index: 945 entries, 0 to 954\n",
      "Data columns (total 10 columns):\n",
      " #   Column              Non-Null Count  Dtype         \n",
      "---  ------              --------------  -----         \n",
      " 0   ID                  945 non-null    object        \n",
      " 1   Cliente             945 non-null    object        \n",
      " 2   Teléfono            945 non-null    object        \n",
      " 3   Email               945 non-null    object        \n",
      " 4   Actividad           945 non-null    object        \n",
      " 5   Importe             945 non-null    float64       \n",
      " 6   Fecha comienzo      945 non-null    datetime64[ns]\n",
      " 7   Fecha finalización  945 non-null    datetime64[ns]\n",
      " 8   Duración            945 non-null    int32         \n",
      " 9   Tipo cliente        945 non-null    object        \n",
      "dtypes: datetime64[ns](2), float64(1), int32(1), object(6)\n",
      "memory usage: 77.5+ KB\n"
     ]
    }
   ],
   "source": [
    "cuotas_vigentes_actividad.info()"
   ]
  },
  {
   "cell_type": "markdown",
   "metadata": {},
   "source": [
    "##### En resumen, esta tabla contiene clientes activos que han realizado un pago para un servicio y clientes que tienen pendiente un pago para el servicio."
   ]
  },
  {
   "cell_type": "markdown",
   "metadata": {},
   "source": [
    "***"
   ]
  },
  {
   "cell_type": "markdown",
   "metadata": {},
   "source": [
    "##### Join both tables with active customers."
   ]
  },
  {
   "cell_type": "code",
   "execution_count": 55,
   "metadata": {},
   "outputs": [
    {
     "name": "stdout",
     "output_type": "stream",
     "text": [
      "Number of rows in socios_activos_sin_cv: 826\n",
      "Number of rows in cuotas_vigentes_actividad: 945\n",
      "Number of rows in combined table: 1771\n",
      "\n",
      "Columns in combined table:\n",
      "Index(['ID', 'Cliente', 'Teléfono', 'Email', 'Actividad', 'Importe',\n",
      "       'Fecha comienzo', 'Fecha finalización', 'Duración', 'Tipo cliente'],\n",
      "      dtype='object')\n"
     ]
    }
   ],
   "source": [
    "# Concatenate the two tables vertically\n",
    "total_clientes = pd.concat([clientes, cuotas_vigentes_actividad], axis=0)\n",
    "\n",
    "# Reset the index\n",
    "total_clientes = total_clientes.reset_index(drop=True)\n",
    "\n",
    "# Verify the combination\n",
    "print(\"Number of rows in socios_activos_sin_cv:\", len(clientes))\n",
    "print(\"Number of rows in cuotas_vigentes_actividad:\", len(cuotas_vigentes_actividad))\n",
    "print(\"Number of rows in combined table:\", len(total_clientes))\n",
    "\n",
    "# Show the columns to verify they match\n",
    "print(\"\\nColumns in combined table:\")\n",
    "print(total_clientes.columns)"
   ]
  },
  {
   "cell_type": "code",
   "execution_count": 56,
   "metadata": {},
   "outputs": [
    {
     "data": {
      "text/html": [
       "<div>\n",
       "<style scoped>\n",
       "    .dataframe tbody tr th:only-of-type {\n",
       "        vertical-align: middle;\n",
       "    }\n",
       "\n",
       "    .dataframe tbody tr th {\n",
       "        vertical-align: top;\n",
       "    }\n",
       "\n",
       "    .dataframe thead th {\n",
       "        text-align: right;\n",
       "    }\n",
       "</style>\n",
       "<table border=\"1\" class=\"dataframe\">\n",
       "  <thead>\n",
       "    <tr style=\"text-align: right;\">\n",
       "      <th></th>\n",
       "      <th>ID</th>\n",
       "      <th>Cliente</th>\n",
       "      <th>Teléfono</th>\n",
       "      <th>Email</th>\n",
       "      <th>Actividad</th>\n",
       "      <th>Importe</th>\n",
       "      <th>Fecha comienzo</th>\n",
       "      <th>Fecha finalización</th>\n",
       "      <th>Duración</th>\n",
       "      <th>Tipo cliente</th>\n",
       "    </tr>\n",
       "  </thead>\n",
       "  <tbody>\n",
       "    <tr>\n",
       "      <th>0</th>\n",
       "      <td>10182</td>\n",
       "      <td>Jose Luis Sierra Campoy</td>\n",
       "      <td>644135263.0</td>\n",
       "      <td>carolina.campoy.b@gmail.com</td>\n",
       "      <td>sin actividad vigente</td>\n",
       "      <td>79.00</td>\n",
       "      <td>2024-12-01 00:00:00.000000000</td>\n",
       "      <td>2025-01-01 00:00:00.000000000</td>\n",
       "      <td>1</td>\n",
       "      <td>Activo</td>\n",
       "    </tr>\n",
       "    <tr>\n",
       "      <th>1</th>\n",
       "      <td>10189</td>\n",
       "      <td>Juan Soto Cid</td>\n",
       "      <td>608710339.0</td>\n",
       "      <td>jsotoaprell@gmail.com</td>\n",
       "      <td>sin actividad vigente</td>\n",
       "      <td>180.00</td>\n",
       "      <td>2024-05-01 00:00:00.000000000</td>\n",
       "      <td>2024-07-01 00:00:00.000000000</td>\n",
       "      <td>2</td>\n",
       "      <td>Activo</td>\n",
       "    </tr>\n",
       "    <tr>\n",
       "      <th>2</th>\n",
       "      <td>1028</td>\n",
       "      <td>Martin Ruiz Soto</td>\n",
       "      <td>618940508.0</td>\n",
       "      <td>msotoranero@gmail.com</td>\n",
       "      <td>sin actividad vigente</td>\n",
       "      <td>225.15</td>\n",
       "      <td>2024-07-31 00:00:00.000000000</td>\n",
       "      <td>2024-12-15 00:00:00.000000000</td>\n",
       "      <td>5</td>\n",
       "      <td>Activo</td>\n",
       "    </tr>\n",
       "    <tr>\n",
       "      <th>3</th>\n",
       "      <td>10394</td>\n",
       "      <td>Fernando Alvarez</td>\n",
       "      <td>652162439.0</td>\n",
       "      <td>desconocido</td>\n",
       "      <td>sin actividad vigente</td>\n",
       "      <td>80.00</td>\n",
       "      <td>2023-07-12 00:00:00.000000000</td>\n",
       "      <td>2023-08-01 00:00:00.000000000</td>\n",
       "      <td>1</td>\n",
       "      <td>Activo</td>\n",
       "    </tr>\n",
       "    <tr>\n",
       "      <th>4</th>\n",
       "      <td>10399</td>\n",
       "      <td>Cp Esther Esther</td>\n",
       "      <td>678118106.0</td>\n",
       "      <td>esther.television@gmail.com</td>\n",
       "      <td>sin actividad vigente</td>\n",
       "      <td>0.00</td>\n",
       "      <td>1677-09-21 00:12:43.145224193</td>\n",
       "      <td>1677-09-21 00:12:43.145224193</td>\n",
       "      <td>0</td>\n",
       "      <td>Lead para información</td>\n",
       "    </tr>\n",
       "  </tbody>\n",
       "</table>\n",
       "</div>"
      ],
      "text/plain": [
       "      ID                  Cliente     Teléfono                        Email  \\\n",
       "0  10182  Jose Luis Sierra Campoy  644135263.0  carolina.campoy.b@gmail.com   \n",
       "1  10189            Juan Soto Cid  608710339.0        jsotoaprell@gmail.com   \n",
       "2   1028         Martin Ruiz Soto  618940508.0        msotoranero@gmail.com   \n",
       "3  10394         Fernando Alvarez  652162439.0                  desconocido   \n",
       "4  10399         Cp Esther Esther  678118106.0  esther.television@gmail.com   \n",
       "\n",
       "               Actividad  Importe                 Fecha comienzo  \\\n",
       "0  sin actividad vigente    79.00  2024-12-01 00:00:00.000000000   \n",
       "1  sin actividad vigente   180.00  2024-05-01 00:00:00.000000000   \n",
       "2  sin actividad vigente   225.15  2024-07-31 00:00:00.000000000   \n",
       "3  sin actividad vigente    80.00  2023-07-12 00:00:00.000000000   \n",
       "4  sin actividad vigente     0.00  1677-09-21 00:12:43.145224193   \n",
       "\n",
       "              Fecha finalización  Duración           Tipo cliente  \n",
       "0  2025-01-01 00:00:00.000000000         1                 Activo  \n",
       "1  2024-07-01 00:00:00.000000000         2                 Activo  \n",
       "2  2024-12-15 00:00:00.000000000         5                 Activo  \n",
       "3  2023-08-01 00:00:00.000000000         1                 Activo  \n",
       "4  1677-09-21 00:12:43.145224193         0  Lead para información  "
      ]
     },
     "execution_count": 56,
     "metadata": {},
     "output_type": "execute_result"
    }
   ],
   "source": [
    "total_clientes.head()"
   ]
  },
  {
   "cell_type": "code",
   "execution_count": 57,
   "metadata": {},
   "outputs": [
    {
     "name": "stdout",
     "output_type": "stream",
     "text": [
      "<class 'pandas.core.frame.DataFrame'>\n",
      "RangeIndex: 1771 entries, 0 to 1770\n",
      "Data columns (total 10 columns):\n",
      " #   Column              Non-Null Count  Dtype  \n",
      "---  ------              --------------  -----  \n",
      " 0   ID                  1771 non-null   object \n",
      " 1   Cliente             1771 non-null   object \n",
      " 2   Teléfono            1771 non-null   object \n",
      " 3   Email               1771 non-null   object \n",
      " 4   Actividad           1771 non-null   object \n",
      " 5   Importe             1771 non-null   float64\n",
      " 6   Fecha comienzo      1771 non-null   object \n",
      " 7   Fecha finalización  1771 non-null   object \n",
      " 8   Duración            1771 non-null   int64  \n",
      " 9   Tipo cliente        1771 non-null   object \n",
      "dtypes: float64(1), int64(1), object(8)\n",
      "memory usage: 138.5+ KB\n"
     ]
    }
   ],
   "source": [
    "total_clientes.info()"
   ]
  },
  {
   "cell_type": "markdown",
   "metadata": {},
   "source": [
    "##### Handle missing values."
   ]
  },
  {
   "cell_type": "code",
   "execution_count": 58,
   "metadata": {},
   "outputs": [],
   "source": [
    "# Convert 'Fecha comienzo' and 'Fecha finalización' to datetime\n",
    "total_clientes['Fecha comienzo'] = pd.to_datetime(total_clientes['Fecha comienzo'])\n",
    "total_clientes['Fecha finalización'] = pd.to_datetime(total_clientes['Fecha finalización'])"
   ]
  },
  {
   "cell_type": "markdown",
   "metadata": {},
   "source": [
    "##### Check consistency on columns."
   ]
  },
  {
   "cell_type": "code",
   "execution_count": 59,
   "metadata": {},
   "outputs": [
    {
     "data": {
      "text/plain": [
       "array([ 1,  2,  5,  0,  4,  3, 14, 10,  7,  6, 11,  8,  9])"
      ]
     },
     "execution_count": 59,
     "metadata": {},
     "output_type": "execute_result"
    }
   ],
   "source": [
    "total_clientes['Duración'].unique()"
   ]
  },
  {
   "cell_type": "code",
   "execution_count": 60,
   "metadata": {},
   "outputs": [
    {
     "name": "stdout",
     "output_type": "stream",
     "text": [
      "['sin actividad vigente' 'bebes mayores' 'bebes medianos' 'bebes pequeños'\n",
      " 'bebes pre escuela' 'escuela' 'grupos reducidos' 'pre escuela'\n",
      " 'adultos aprendizaje' 'act acuatica embarazadas' 'bono 10 baños'\n",
      " 'adultos mantenimiento' 'escuelas infantiles']\n"
     ]
    }
   ],
   "source": [
    "# Print unique values in the 'Actividad' column\n",
    "print(total_clientes['Actividad'].unique())"
   ]
  },
  {
   "cell_type": "markdown",
   "metadata": {},
   "source": [
    "##### Handle dupplicates."
   ]
  },
  {
   "cell_type": "code",
   "execution_count": 61,
   "metadata": {},
   "outputs": [
    {
     "name": "stdout",
     "output_type": "stream",
     "text": [
      "Duplicates by Cliente:\n",
      "                                   Cliente     ID\n",
      "32                  Alberto Villar Alvarez  10779\n",
      "1061                Alberto Villar Alvarez  10779\n",
      "1706  Alejandra Del Rocio Colmenares López  14251\n",
      "341   Alejandra Del Rocio Colmenares López  14251\n",
      "780                       Bosco Nuñez Mata   9709\n",
      "1068                      Bosco Nuñez Mata   9709\n",
      "1204                 Chloe Oñate Maldonado  12309\n",
      "163                  Chloe Oñate Maldonado  12309\n",
      "177                   Cp Stephanie  Mojica  12392\n",
      "262                   Cp Stephanie  Mojica  13276\n",
      "1709         Daniel Horacio Juárez Riffrán  13148\n",
      "250          Daniel Horacio Juárez Riffrán  13148\n",
      "1327            Gabriel Andres Diaz Millan  13990\n",
      "317             Gabriel Andres Diaz Millan  13990\n",
      "1187             Gonzalo Barrios Fernandez   9944\n",
      "812              Gonzalo Barrios Fernandez   9944\n",
      "1576                   Iker Figueroa Mills  14524\n",
      "356                    Iker Figueroa Mills  14524\n",
      "1390                         Isabel Mencía  14268\n",
      "342                          Isabel Mencía  14268\n",
      "0                  Jose Luis Sierra Campoy  10182\n",
      "1431               Jose Luis Sierra Campoy  10182\n",
      "1558                Julia Hernandez Narros   6124\n",
      "548                 Julia Hernandez Narros   6124\n",
      "1520                  Kenzo Figueroa Mills  14526\n",
      "358                   Kenzo Figueroa Mills  14526\n",
      "355                   Lukas Figueroa Mills  14523\n",
      "1540                  Lukas Figueroa Mills  14523\n",
      "1522                   Luna Figueroa Mills  14525\n",
      "357                    Luna Figueroa Mills  14525\n",
      "1353         Maria Henar Sarmiento Carrión  15042\n",
      "402          Maria Henar Sarmiento Carrión  15042\n",
      "1697                 Marta Hernando Matias   9612\n",
      "761                  Marta Hernando Matias   9612\n",
      "400                           Martin Feria  15016\n",
      "1492                          Martin Feria  15016\n",
      "1165           Miguel Ángel Villar Alvarez   4418\n",
      "507            Miguel Ángel Villar Alvarez   4418\n",
      "205           Percy Raul Cordova Domínguez  12629\n",
      "1058          Percy Raul Cordova Domínguez  12629\n",
      "1701                           Sofia Lukas  11972\n",
      "127                            Sofia Lukas  11972\n",
      "1506            Victoria Rodriguez Pereira  13075\n",
      "247             Victoria Rodriguez Pereira  13075\n"
     ]
    },
    {
     "name": "stdout",
     "output_type": "stream",
     "text": [
      "\n",
      "Grouped analysis:\n",
      "                                   Cliente              ID\n",
      "154                 Alberto Villar Alvarez  [10779, 10779]\n",
      "158   Alejandra Del Rocio Colmenares López  [14251, 14251]\n",
      "305                       Bosco Nuñez Mata    [9709, 9709]\n",
      "372                  Chloe Oñate Maldonado  [12309, 12309]\n",
      "743                   Cp Stephanie  Mojica  [12392, 13276]\n",
      "814          Daniel Horacio Juárez Riffrán  [13148, 13148]\n",
      "921             Gabriel Andres Diaz Millan  [13990, 13990]\n",
      "953              Gonzalo Barrios Fernandez    [9944, 9944]\n",
      "1004                   Iker Figueroa Mills  [14524, 14524]\n",
      "1026                         Isabel Mencía  [14268, 14268]\n",
      "1100               Jose Luis Sierra Campoy  [10182, 10182]\n",
      "1118                Julia Hernandez Narros    [6124, 6124]\n",
      "1137                  Kenzo Figueroa Mills  [14526, 14526]\n",
      "1268                  Lukas Figueroa Mills  [14523, 14523]\n",
      "1271                   Luna Figueroa Mills  [14525, 14525]\n",
      "1324         Maria Henar Sarmiento Carrión  [15042, 15042]\n",
      "1344                 Marta Hernando Matias    [9612, 9612]\n",
      "1348                          Martin Feria  [15016, 15016]\n",
      "1445           Miguel Ángel Villar Alvarez    [4418, 4418]\n",
      "1574          Percy Raul Cordova Domínguez  [12629, 12629]\n",
      "1656                           Sofia Lukas  [11972, 11972]\n",
      "1720            Victoria Rodriguez Pereira  [13075, 13075]\n",
      "\n",
      "Entries for cliente: Alberto Villar Alvarez\n",
      "                     Cliente     ID\n",
      "32    Alberto Villar Alvarez  10779\n",
      "1061  Alberto Villar Alvarez  10779\n",
      "\n",
      "Entries for cliente: Alejandra Del Rocio Colmenares López\n",
      "                                   Cliente     ID\n",
      "341   Alejandra Del Rocio Colmenares López  14251\n",
      "1706  Alejandra Del Rocio Colmenares López  14251\n",
      "\n",
      "Entries for cliente: Bosco Nuñez Mata\n",
      "               Cliente    ID\n",
      "780   Bosco Nuñez Mata  9709\n",
      "1068  Bosco Nuñez Mata  9709\n",
      "\n",
      "Entries for cliente: Chloe Oñate Maldonado\n",
      "                    Cliente     ID\n",
      "163   Chloe Oñate Maldonado  12309\n",
      "1204  Chloe Oñate Maldonado  12309\n",
      "\n",
      "Entries for cliente: Cp Stephanie  Mojica\n",
      "                  Cliente     ID\n",
      "177  Cp Stephanie  Mojica  12392\n",
      "262  Cp Stephanie  Mojica  13276\n",
      "\n",
      "Entries for cliente: Daniel Horacio Juárez Riffrán\n",
      "                            Cliente     ID\n",
      "250   Daniel Horacio Juárez Riffrán  13148\n",
      "1709  Daniel Horacio Juárez Riffrán  13148\n",
      "\n",
      "Entries for cliente: Gabriel Andres Diaz Millan\n",
      "                         Cliente     ID\n",
      "317   Gabriel Andres Diaz Millan  13990\n",
      "1327  Gabriel Andres Diaz Millan  13990\n",
      "\n",
      "Entries for cliente: Gonzalo Barrios Fernandez\n",
      "                        Cliente    ID\n",
      "812   Gonzalo Barrios Fernandez  9944\n",
      "1187  Gonzalo Barrios Fernandez  9944\n",
      "\n",
      "Entries for cliente: Iker Figueroa Mills\n",
      "                  Cliente     ID\n",
      "356   Iker Figueroa Mills  14524\n",
      "1576  Iker Figueroa Mills  14524\n",
      "\n",
      "Entries for cliente: Isabel Mencía\n",
      "            Cliente     ID\n",
      "342   Isabel Mencía  14268\n",
      "1390  Isabel Mencía  14268\n",
      "\n",
      "Entries for cliente: Jose Luis Sierra Campoy\n",
      "                      Cliente     ID\n",
      "0     Jose Luis Sierra Campoy  10182\n",
      "1431  Jose Luis Sierra Campoy  10182\n",
      "\n",
      "Entries for cliente: Julia Hernandez Narros\n",
      "                     Cliente    ID\n",
      "548   Julia Hernandez Narros  6124\n",
      "1558  Julia Hernandez Narros  6124\n",
      "\n",
      "Entries for cliente: Kenzo Figueroa Mills\n",
      "                   Cliente     ID\n",
      "358   Kenzo Figueroa Mills  14526\n",
      "1520  Kenzo Figueroa Mills  14526\n",
      "\n",
      "Entries for cliente: Lukas Figueroa Mills\n",
      "                   Cliente     ID\n",
      "355   Lukas Figueroa Mills  14523\n",
      "1540  Lukas Figueroa Mills  14523\n",
      "\n",
      "Entries for cliente: Luna Figueroa Mills\n",
      "                  Cliente     ID\n",
      "357   Luna Figueroa Mills  14525\n",
      "1522  Luna Figueroa Mills  14525\n",
      "\n",
      "Entries for cliente: Maria Henar Sarmiento Carrión\n",
      "                            Cliente     ID\n",
      "402   Maria Henar Sarmiento Carrión  15042\n",
      "1353  Maria Henar Sarmiento Carrión  15042\n",
      "\n",
      "Entries for cliente: Marta Hernando Matias\n",
      "                    Cliente    ID\n",
      "761   Marta Hernando Matias  9612\n",
      "1697  Marta Hernando Matias  9612\n",
      "\n",
      "Entries for cliente: Martin Feria\n",
      "           Cliente     ID\n",
      "400   Martin Feria  15016\n",
      "1492  Martin Feria  15016\n",
      "\n",
      "Entries for cliente: Miguel Ángel Villar Alvarez\n",
      "                          Cliente    ID\n",
      "507   Miguel Ángel Villar Alvarez  4418\n",
      "1165  Miguel Ángel Villar Alvarez  4418\n",
      "\n",
      "Entries for cliente: Percy Raul Cordova Domínguez\n",
      "                           Cliente     ID\n",
      "205   Percy Raul Cordova Domínguez  12629\n",
      "1058  Percy Raul Cordova Domínguez  12629\n",
      "\n",
      "Entries for cliente: Sofia Lukas\n",
      "          Cliente     ID\n",
      "127   Sofia Lukas  11972\n",
      "1701  Sofia Lukas  11972\n",
      "\n",
      "Entries for cliente: Victoria Rodriguez Pereira\n",
      "                         Cliente     ID\n",
      "247   Victoria Rodriguez Pereira  13075\n",
      "1506  Victoria Rodriguez Pereira  13075\n",
      "\n",
      "Counts of duplicate entries:\n",
      "Empty DataFrame\n",
      "Columns: [Cliente, ID, count]\n",
      "Index: []\n"
     ]
    }
   ],
   "source": [
    "# Check duplicates in Cliente first, then analyze their IDs\n",
    "duplicates_by_cliente = total_clientes[total_clientes.duplicated(subset=['Cliente'], keep=False)]\n",
    "print(\"Duplicates by Cliente:\")\n",
    "print(duplicates_by_cliente.sort_values('Cliente')[['Cliente', 'ID']])\n",
    "\n",
    "# Group by to see all instances\n",
    "grouped_duplicates = (total_clientes\n",
    "                     .groupby('Cliente')['ID']\n",
    "                     .agg(list)\n",
    "                     .reset_index()\n",
    "                     .loc[lambda x: x['ID'].str.len() > 1])\n",
    "print(\"\\nGrouped analysis:\")\n",
    "print(grouped_duplicates)\n",
    "\n",
    "# Detailed analysis of specific cases\n",
    "for cliente in grouped_duplicates['Cliente']:\n",
    "    print(f\"\\nEntries for cliente: {cliente}\")\n",
    "    print(total_clientes[total_clientes['Cliente'] == cliente][['Cliente', 'ID']])\n",
    "\n",
    "# Count occurrences\n",
    "duplicate_counts = (total_clientes\n",
    "                   .groupby(['Cliente', 'ID'])\n",
    "                   .size()\n",
    "                   .reset_index(name='count')\n",
    "                   .sort_values('count', ascending=False))\n",
    "print(\"\\nCounts of duplicate entries:\")\n",
    "print(duplicate_counts[duplicate_counts['count'] > 1])"
   ]
  },
  {
   "cell_type": "markdown",
   "metadata": {},
   "source": [
    "##### 21 clientes duplicados."
   ]
  },
  {
   "cell_type": "code",
   "execution_count": 62,
   "metadata": {},
   "outputs": [
    {
     "name": "stdout",
     "output_type": "stream",
     "text": [
      "Before cleaning:\n",
      "                                  Cliente     ID  count\n",
      "0                          Cp Lucía Ávila  12393      1\n",
      "1     ! Cp Anni Christina Marulanda Muñoz  10542      1\n",
      "2           !Cp  Zoe Zayra Leal Cristaldo  11108      1\n",
      "3                 !Cp Aarón Martin García  13305      1\n",
      "4               !Cp Adaia Asensio Suescun  12170      1\n",
      "...                                   ...    ...    ...\n",
      "1766              Álex Andrade De La Cruz  13514      1\n",
      "1767                Álvaro Benito Herrero  13593      1\n",
      "1768                 Álvaro Oliva Bragado  11308      1\n",
      "1769            Álvaro Peláez  De Freitas  12062      1\n",
      "1770            Ángel Hernández De Santos  13675      1\n",
      "\n",
      "[1771 rows x 3 columns]\n",
      "\n",
      "Rows with multiple occurrences:\n",
      "Series([], dtype: int64)\n",
      "\n",
      "Duplicate rows found: 0\n",
      "\n",
      "Original shape: (1771, 10)\n",
      "New shape: (1771, 10)\n",
      "\n",
      "Sample of potentially problematic rows:\n",
      "ID: 10779\n",
      "Cliente: 'Alberto Villar Alvarez'\n",
      "ID: '10779'\n",
      "Cliente: 'Alberto Villar Alvarez'\n"
     ]
    }
   ],
   "source": [
    "# More detailed check\n",
    "print(\"Before cleaning:\")\n",
    "print(total_clientes.groupby(['Cliente', 'ID']).size().reset_index(name='count'))\n",
    "print(\"\\nRows with multiple occurrences:\")\n",
    "print(total_clientes.groupby(['Cliente', 'ID']).size()[total_clientes.groupby(['Cliente', 'ID']).size() > 1])\n",
    "\n",
    "# Explicit duplicate check\n",
    "duplicates = total_clientes[total_clientes.duplicated(['Cliente', 'ID'], keep=False)]\n",
    "print(\"\\nDuplicate rows found:\", len(duplicates))\n",
    "\n",
    "# Try removing duplicates with explicit parameters\n",
    "clients_combined_clean = total_clientes.drop_duplicates(\n",
    "    subset=['Cliente', 'ID'],\n",
    "    keep='first',\n",
    "    ignore_index=True\n",
    ")\n",
    "\n",
    "print(\"\\nOriginal shape:\", total_clientes.shape)\n",
    "print(\"New shape:\", clients_combined_clean.shape)\n",
    "\n",
    "# Check for hidden characters or spaces\n",
    "print(\"\\nSample of potentially problematic rows:\")\n",
    "for idx, row in total_clientes[total_clientes['Cliente'] == 'Alberto Villar Alvarez'].iterrows():\n",
    "    print(f\"ID: {repr(row['ID'])}\")\n",
    "    print(f\"Cliente: {repr(row['Cliente'])}\")"
   ]
  },
  {
   "cell_type": "code",
   "execution_count": 63,
   "metadata": {},
   "outputs": [
    {
     "name": "stdout",
     "output_type": "stream",
     "text": [
      "Before cleaning: 1771\n",
      "After cleaning: 1750\n",
      "Remaining duplicates: 0\n",
      "\n",
      "Sample of cleaned data:\n",
      "                   Cliente     ID\n",
      "0  Jose Luis Sierra Campoy  10182\n",
      "1            Juan Soto Cid  10189\n",
      "2         Martin Ruiz Soto   1028\n",
      "3         Fernando Alvarez  10394\n",
      "4         Cp Esther Esther  10399\n"
     ]
    }
   ],
   "source": [
    "# Standardize ID column to string format\n",
    "total_clientes['ID'] = total_clientes['ID'].astype(str)\n",
    "\n",
    "# Now try removing duplicates again\n",
    "print(\"Before cleaning:\", len(total_clientes))\n",
    "total_clientes = total_clientes.drop_duplicates(subset=['Cliente', 'ID'])\n",
    "print(\"After cleaning:\", len(total_clientes))\n",
    "\n",
    "# Verify the removal worked\n",
    "duplicates = total_clientes[total_clientes.duplicated(['Cliente', 'ID'], keep=False)]\n",
    "print(\"Remaining duplicates:\", len(duplicates))\n",
    "\n",
    "# Optional: Reset index after cleaning\n",
    "total_clientes = total_clientes.reset_index(drop=True)\n",
    "\n",
    "# Show sample of cleaned data\n",
    "print(\"\\nSample of cleaned data:\")\n",
    "print(total_clientes[['Cliente', 'ID']].head())"
   ]
  },
  {
   "cell_type": "code",
   "execution_count": 64,
   "metadata": {},
   "outputs": [
    {
     "name": "stdout",
     "output_type": "stream",
     "text": [
      "\n",
      "Duplicates in ID column:\n",
      "Number of duplicate IDs: 0\n",
      "\n",
      "Duplicates in Cliente column:\n",
      "Number of duplicate Clients: 2\n",
      "\n",
      "Rows with duplicate Clients:\n",
      "        ID               Cliente     Teléfono                         Email  \\\n",
      "177  12392  Cp Stephanie  Mojica  636898855.0  stephanie.mojica@hotmail.com   \n",
      "262  13276  Cp Stephanie  Mojica  636898855.0           steffy986@gmail.com   \n",
      "\n",
      "                 Actividad  Importe                Fecha comienzo  \\\n",
      "177  sin actividad vigente      0.0 1677-09-21 00:12:43.145224193   \n",
      "262  sin actividad vigente      0.0 1677-09-21 00:12:43.145224193   \n",
      "\n",
      "               Fecha finalización  Duración           Tipo cliente  \n",
      "177 1677-09-21 00:12:43.145224193         0  Lead para información  \n",
      "262 1677-09-21 00:12:43.145224193         0  Lead para información  \n",
      "\n",
      "Count of duplicate IDs:\n",
      "Series([], Name: count, dtype: int64)\n",
      "\n",
      "Count of duplicate Clients:\n",
      "Cliente\n",
      "Cp Stephanie  Mojica    2\n",
      "Name: count, dtype: int64\n"
     ]
    }
   ],
   "source": [
    "# Check duplicates in ID column\n",
    "duplicates_ID = total_clientes[total_clientes['ID'].duplicated(keep=False)]\n",
    "print(\"\\nDuplicates in ID column:\")\n",
    "print(f\"Number of duplicate IDs: {len(duplicates_ID)}\")\n",
    "if len(duplicates_ID) > 0:\n",
    "    print(\"\\nRows with duplicate IDs:\")\n",
    "    print(duplicates_ID.sort_values('ID'))\n",
    "\n",
    "# Check duplicates in Cliente column\n",
    "duplicates_Cliente = total_clientes[total_clientes['Cliente'].duplicated(keep=False)]\n",
    "print(\"\\nDuplicates in Cliente column:\")\n",
    "print(f\"Number of duplicate Clients: {len(duplicates_Cliente)}\")\n",
    "if len(duplicates_Cliente) > 0:\n",
    "    print(\"\\nRows with duplicate Clients:\")\n",
    "    print(duplicates_Cliente.sort_values('Cliente'))\n",
    "\n",
    "# Get value counts for each column to see how many times each value appears\n",
    "print(\"\\nCount of duplicate IDs:\")\n",
    "print(total_clientes['ID'].value_counts()[total_clientes['ID'].value_counts() > 1])\n",
    "\n",
    "print(\"\\nCount of duplicate Clients:\")\n",
    "print(total_clientes['Cliente'].value_counts()[total_clientes['Cliente'].value_counts() > 1])"
   ]
  },
  {
   "cell_type": "markdown",
   "metadata": {},
   "source": [
    "##### Hay un cliente categoría lead para información que se registró en el sistema con dos ID diferentes, y datos diferentes para el mismo cliente. No está claro si es el mismo cliente o son dos clientes diferentes. No lo voy a eliminar para verificar."
   ]
  },
  {
   "cell_type": "markdown",
   "metadata": {},
   "source": [
    "***"
   ]
  },
  {
   "cell_type": "code",
   "execution_count": 65,
   "metadata": {},
   "outputs": [],
   "source": [
    "# Save file with new name 'clientes_activos'.\n",
    "total_clientes.to_csv('/Users/cesarchaparro/Desktop/GitHub/Chapoteos/tablas/CSV/total_clientes.csv', index=False)"
   ]
  },
  {
   "cell_type": "code",
   "execution_count": 66,
   "metadata": {},
   "outputs": [
    {
     "data": {
      "text/html": [
       "<div>\n",
       "<style scoped>\n",
       "    .dataframe tbody tr th:only-of-type {\n",
       "        vertical-align: middle;\n",
       "    }\n",
       "\n",
       "    .dataframe tbody tr th {\n",
       "        vertical-align: top;\n",
       "    }\n",
       "\n",
       "    .dataframe thead th {\n",
       "        text-align: right;\n",
       "    }\n",
       "</style>\n",
       "<table border=\"1\" class=\"dataframe\">\n",
       "  <thead>\n",
       "    <tr style=\"text-align: right;\">\n",
       "      <th></th>\n",
       "      <th>ID</th>\n",
       "      <th>Cliente</th>\n",
       "      <th>Teléfono</th>\n",
       "      <th>Email</th>\n",
       "      <th>Actividad</th>\n",
       "      <th>Importe</th>\n",
       "      <th>Fecha comienzo</th>\n",
       "      <th>Fecha finalización</th>\n",
       "      <th>Duración</th>\n",
       "      <th>Tipo cliente</th>\n",
       "    </tr>\n",
       "  </thead>\n",
       "  <tbody>\n",
       "    <tr>\n",
       "      <th>0</th>\n",
       "      <td>10182.0</td>\n",
       "      <td>Jose Luis Sierra Campoy</td>\n",
       "      <td>644135263.0</td>\n",
       "      <td>carolina.campoy.b@gmail.com</td>\n",
       "      <td>sin actividad vigente</td>\n",
       "      <td>79.00</td>\n",
       "      <td>2024-12-01 00:00:00.000000000</td>\n",
       "      <td>2025-01-01 00:00:00.000000000</td>\n",
       "      <td>1</td>\n",
       "      <td>Activo</td>\n",
       "    </tr>\n",
       "    <tr>\n",
       "      <th>1</th>\n",
       "      <td>10189.0</td>\n",
       "      <td>Juan Soto Cid</td>\n",
       "      <td>608710339.0</td>\n",
       "      <td>jsotoaprell@gmail.com</td>\n",
       "      <td>sin actividad vigente</td>\n",
       "      <td>180.00</td>\n",
       "      <td>2024-05-01 00:00:00.000000000</td>\n",
       "      <td>2024-07-01 00:00:00.000000000</td>\n",
       "      <td>2</td>\n",
       "      <td>Activo</td>\n",
       "    </tr>\n",
       "    <tr>\n",
       "      <th>2</th>\n",
       "      <td>1028.0</td>\n",
       "      <td>Martin Ruiz Soto</td>\n",
       "      <td>618940508.0</td>\n",
       "      <td>msotoranero@gmail.com</td>\n",
       "      <td>sin actividad vigente</td>\n",
       "      <td>225.15</td>\n",
       "      <td>2024-07-31 00:00:00.000000000</td>\n",
       "      <td>2024-12-15 00:00:00.000000000</td>\n",
       "      <td>5</td>\n",
       "      <td>Activo</td>\n",
       "    </tr>\n",
       "    <tr>\n",
       "      <th>3</th>\n",
       "      <td>10394.0</td>\n",
       "      <td>Fernando Alvarez</td>\n",
       "      <td>652162439.0</td>\n",
       "      <td>desconocido</td>\n",
       "      <td>sin actividad vigente</td>\n",
       "      <td>80.00</td>\n",
       "      <td>2023-07-12 00:00:00.000000000</td>\n",
       "      <td>2023-08-01 00:00:00.000000000</td>\n",
       "      <td>1</td>\n",
       "      <td>Activo</td>\n",
       "    </tr>\n",
       "    <tr>\n",
       "      <th>4</th>\n",
       "      <td>10399.0</td>\n",
       "      <td>Cp Esther Esther</td>\n",
       "      <td>678118106.0</td>\n",
       "      <td>esther.television@gmail.com</td>\n",
       "      <td>sin actividad vigente</td>\n",
       "      <td>0.00</td>\n",
       "      <td>1677-09-21 00:12:43.145224193</td>\n",
       "      <td>1677-09-21 00:12:43.145224193</td>\n",
       "      <td>0</td>\n",
       "      <td>Lead para información</td>\n",
       "    </tr>\n",
       "  </tbody>\n",
       "</table>\n",
       "</div>"
      ],
      "text/plain": [
       "        ID                  Cliente     Teléfono                        Email  \\\n",
       "0  10182.0  Jose Luis Sierra Campoy  644135263.0  carolina.campoy.b@gmail.com   \n",
       "1  10189.0            Juan Soto Cid  608710339.0        jsotoaprell@gmail.com   \n",
       "2   1028.0         Martin Ruiz Soto  618940508.0        msotoranero@gmail.com   \n",
       "3  10394.0         Fernando Alvarez  652162439.0                  desconocido   \n",
       "4  10399.0         Cp Esther Esther  678118106.0  esther.television@gmail.com   \n",
       "\n",
       "               Actividad  Importe                 Fecha comienzo  \\\n",
       "0  sin actividad vigente    79.00  2024-12-01 00:00:00.000000000   \n",
       "1  sin actividad vigente   180.00  2024-05-01 00:00:00.000000000   \n",
       "2  sin actividad vigente   225.15  2024-07-31 00:00:00.000000000   \n",
       "3  sin actividad vigente    80.00  2023-07-12 00:00:00.000000000   \n",
       "4  sin actividad vigente     0.00  1677-09-21 00:12:43.145224193   \n",
       "\n",
       "              Fecha finalización  Duración           Tipo cliente  \n",
       "0  2025-01-01 00:00:00.000000000         1                 Activo  \n",
       "1  2024-07-01 00:00:00.000000000         2                 Activo  \n",
       "2  2024-12-15 00:00:00.000000000         5                 Activo  \n",
       "3  2023-08-01 00:00:00.000000000         1                 Activo  \n",
       "4  1677-09-21 00:12:43.145224193         0  Lead para información  "
      ]
     },
     "execution_count": 66,
     "metadata": {},
     "output_type": "execute_result"
    }
   ],
   "source": [
    "total_clientes = pd.read_csv('/Users/cesarchaparro/Desktop/GitHub/Chapoteos/tablas/CSV/total_clientes.csv')\n",
    "total_clientes.head()"
   ]
  },
  {
   "cell_type": "code",
   "execution_count": 67,
   "metadata": {},
   "outputs": [
    {
     "name": "stdout",
     "output_type": "stream",
     "text": [
      "<class 'pandas.core.frame.DataFrame'>\n",
      "RangeIndex: 1750 entries, 0 to 1749\n",
      "Data columns (total 10 columns):\n",
      " #   Column              Non-Null Count  Dtype  \n",
      "---  ------              --------------  -----  \n",
      " 0   ID                  1749 non-null   float64\n",
      " 1   Cliente             1750 non-null   object \n",
      " 2   Teléfono            1745 non-null   object \n",
      " 3   Email               1750 non-null   object \n",
      " 4   Actividad           1750 non-null   object \n",
      " 5   Importe             1750 non-null   float64\n",
      " 6   Fecha comienzo      1750 non-null   object \n",
      " 7   Fecha finalización  1750 non-null   object \n",
      " 8   Duración            1750 non-null   int64  \n",
      " 9   Tipo cliente        1750 non-null   object \n",
      "dtypes: float64(2), int64(1), object(7)\n",
      "memory usage: 136.8+ KB\n"
     ]
    }
   ],
   "source": [
    "total_clientes.info()"
   ]
  },
  {
   "cell_type": "code",
   "execution_count": 68,
   "metadata": {},
   "outputs": [
    {
     "name": "stdout",
     "output_type": "stream",
     "text": [
      "<class 'pandas.core.frame.DataFrame'>\n",
      "RangeIndex: 1750 entries, 0 to 1749\n",
      "Data columns (total 10 columns):\n",
      " #   Column              Non-Null Count  Dtype         \n",
      "---  ------              --------------  -----         \n",
      " 0   ID                  1750 non-null   object        \n",
      " 1   Cliente             1750 non-null   object        \n",
      " 2   Teléfono            1750 non-null   object        \n",
      " 3   Email               1750 non-null   object        \n",
      " 4   Actividad           1750 non-null   object        \n",
      " 5   Importe             1750 non-null   float64       \n",
      " 6   Fecha comienzo      1750 non-null   datetime64[ns]\n",
      " 7   Fecha finalización  1750 non-null   datetime64[ns]\n",
      " 8   Duración            1750 non-null   int64         \n",
      " 9   Tipo cliente        1750 non-null   object        \n",
      "dtypes: datetime64[ns](2), float64(1), int64(1), object(6)\n",
      "memory usage: 136.8+ KB\n"
     ]
    }
   ],
   "source": [
    "# Convert ID to string\n",
    "total_clientes['ID'] = total_clientes['ID'].astype(str)\n",
    "\n",
    "# Convert date columns to datetime with error handling\n",
    "total_clientes['Fecha comienzo'] = pd.to_datetime(total_clientes['Fecha comienzo'], \n",
    "                                                              format='mixed',  # Handle mixed formats\n",
    "                                                              errors='coerce')  # Handle any problematic conversions\n",
    "\n",
    "total_clientes['Fecha finalización'] = pd.to_datetime(total_clientes['Fecha finalización'], \n",
    "                                                                  format='mixed',  # Handle mixed formats\n",
    "                                                                  errors='coerce')  # Handle any problematic conversions\n",
    "# Fill missing values in the 'Teléfono' column with 'desconocido'\n",
    "total_clientes['Teléfono'] = total_clientes['Teléfono'].fillna('desconocido')\n",
    "total_clientes.info()"
   ]
  },
  {
   "cell_type": "markdown",
   "metadata": {},
   "source": [
    "***"
   ]
  },
  {
   "cell_type": "markdown",
   "metadata": {},
   "source": [
    "##### Ver si hay clientes en la tabla de socios_activos que ya existen en la table de total_clientes_activos."
   ]
  },
  {
   "cell_type": "code",
   "execution_count": 69,
   "metadata": {},
   "outputs": [
    {
     "name": "stdout",
     "output_type": "stream",
     "text": [
      "Number of common values: 1745\n"
     ]
    }
   ],
   "source": [
    "# Find common values in the 'Cliente' column\n",
    "socios_totales = pd.merge(socios_activos, total_clientes, on='Cliente')\n",
    "\n",
    "# Count the number of common values\n",
    "common_count = len(socios_totales)\n",
    "\n",
    "print(f\"Number of common values: {common_count}\")"
   ]
  },
  {
   "cell_type": "code",
   "execution_count": 70,
   "metadata": {},
   "outputs": [
    {
     "name": "stdout",
     "output_type": "stream",
     "text": [
      "<class 'pandas.core.frame.DataFrame'>\n",
      "RangeIndex: 1745 entries, 0 to 1744\n",
      "Data columns (total 15 columns):\n",
      " #   Column              Non-Null Count  Dtype         \n",
      "---  ------              --------------  -----         \n",
      " 0   ID_x                1745 non-null   object        \n",
      " 1   Cliente             1745 non-null   object        \n",
      " 2   DNI                 1745 non-null   object        \n",
      " 3   Email_x             1745 non-null   object        \n",
      " 4   Teléfono_x          1745 non-null   object        \n",
      " 5   Fecha alta          1745 non-null   datetime64[ns]\n",
      " 6   ID_y                1745 non-null   object        \n",
      " 7   Teléfono_y          1745 non-null   object        \n",
      " 8   Email_y             1745 non-null   object        \n",
      " 9   Actividad           1745 non-null   object        \n",
      " 10  Importe             1745 non-null   float64       \n",
      " 11  Fecha comienzo      1745 non-null   datetime64[ns]\n",
      " 12  Fecha finalización  1745 non-null   datetime64[ns]\n",
      " 13  Duración            1745 non-null   int64         \n",
      " 14  Tipo cliente        1745 non-null   object        \n",
      "dtypes: datetime64[ns](3), float64(1), int64(1), object(10)\n",
      "memory usage: 204.6+ KB\n"
     ]
    }
   ],
   "source": [
    "socios_totales.info()"
   ]
  },
  {
   "cell_type": "markdown",
   "metadata": {},
   "source": [
    "##### Hay 1745 clientes que están en ambas tablas."
   ]
  },
  {
   "cell_type": "code",
   "execution_count": 71,
   "metadata": {},
   "outputs": [],
   "source": [
    "# Delete the columns ID_y, Teléfono_y, and Email_y\n",
    "socios_totales.drop(['ID_y', 'Teléfono_y', 'Email_y'], axis=1, inplace=True)\n",
    "# Rename columns\n",
    "socios_totales = socios_totales.rename(columns={\n",
    "    'ID_x': 'ID',\n",
    "    'Email_x': 'Email',\n",
    "    'Teléfono_x': 'Teléfono'\n",
    "})"
   ]
  },
  {
   "cell_type": "code",
   "execution_count": 72,
   "metadata": {},
   "outputs": [
    {
     "data": {
      "text/html": [
       "<div>\n",
       "<style scoped>\n",
       "    .dataframe tbody tr th:only-of-type {\n",
       "        vertical-align: middle;\n",
       "    }\n",
       "\n",
       "    .dataframe tbody tr th {\n",
       "        vertical-align: top;\n",
       "    }\n",
       "\n",
       "    .dataframe thead th {\n",
       "        text-align: right;\n",
       "    }\n",
       "</style>\n",
       "<table border=\"1\" class=\"dataframe\">\n",
       "  <thead>\n",
       "    <tr style=\"text-align: right;\">\n",
       "      <th></th>\n",
       "      <th>ID</th>\n",
       "      <th>Cliente</th>\n",
       "      <th>DNI</th>\n",
       "      <th>Email</th>\n",
       "      <th>Teléfono</th>\n",
       "      <th>Fecha alta</th>\n",
       "      <th>Actividad</th>\n",
       "      <th>Importe</th>\n",
       "      <th>Fecha comienzo</th>\n",
       "      <th>Fecha finalización</th>\n",
       "      <th>Duración</th>\n",
       "      <th>Tipo cliente</th>\n",
       "    </tr>\n",
       "  </thead>\n",
       "  <tbody>\n",
       "    <tr>\n",
       "      <th>0</th>\n",
       "      <td>0</td>\n",
       "      <td>Juan De La Fuente Hormaechea</td>\n",
       "      <td>05316429w</td>\n",
       "      <td>achormaechea@gmail.com</td>\n",
       "      <td>609712590</td>\n",
       "      <td>2023-10-13</td>\n",
       "      <td>bebes mayores</td>\n",
       "      <td>426.60</td>\n",
       "      <td>2024-09-16</td>\n",
       "      <td>2025-03-16</td>\n",
       "      <td>6</td>\n",
       "      <td>Activo</td>\n",
       "    </tr>\n",
       "    <tr>\n",
       "      <th>1</th>\n",
       "      <td>58</td>\n",
       "      <td>Bosco Moro Conde</td>\n",
       "      <td>28816889</td>\n",
       "      <td>martaconde00@hotmail.com</td>\n",
       "      <td>626435282</td>\n",
       "      <td>2019-04-12</td>\n",
       "      <td>pre escuela</td>\n",
       "      <td>632.00</td>\n",
       "      <td>2024-09-01</td>\n",
       "      <td>2025-07-01</td>\n",
       "      <td>10</td>\n",
       "      <td>Activo</td>\n",
       "    </tr>\n",
       "    <tr>\n",
       "      <th>2</th>\n",
       "      <td>62</td>\n",
       "      <td>Chloe D'Agostino Fuertes</td>\n",
       "      <td>51087142</td>\n",
       "      <td>ifuertesg@gmail.com</td>\n",
       "      <td>637119861</td>\n",
       "      <td>2019-04-14</td>\n",
       "      <td>pre escuela</td>\n",
       "      <td>79.00</td>\n",
       "      <td>2025-01-01</td>\n",
       "      <td>2025-02-01</td>\n",
       "      <td>1</td>\n",
       "      <td>Activo</td>\n",
       "    </tr>\n",
       "    <tr>\n",
       "      <th>3</th>\n",
       "      <td>136</td>\n",
       "      <td>Lucia Molero Lopez</td>\n",
       "      <td>50754177</td>\n",
       "      <td>marialopez48@hotmail.com</td>\n",
       "      <td>620038846</td>\n",
       "      <td>2019-05-04</td>\n",
       "      <td>escuela</td>\n",
       "      <td>632.00</td>\n",
       "      <td>2024-09-01</td>\n",
       "      <td>2025-07-01</td>\n",
       "      <td>10</td>\n",
       "      <td>Activo</td>\n",
       "    </tr>\n",
       "    <tr>\n",
       "      <th>4</th>\n",
       "      <td>143</td>\n",
       "      <td>Juan Gutierrez Lopez</td>\n",
       "      <td>2284432</td>\n",
       "      <td>laris84@gmail.com</td>\n",
       "      <td>636163502</td>\n",
       "      <td>2019-05-05</td>\n",
       "      <td>pre escuela</td>\n",
       "      <td>604.35</td>\n",
       "      <td>2024-11-01</td>\n",
       "      <td>2025-08-01</td>\n",
       "      <td>9</td>\n",
       "      <td>Activo</td>\n",
       "    </tr>\n",
       "  </tbody>\n",
       "</table>\n",
       "</div>"
      ],
      "text/plain": [
       "    ID                       Cliente        DNI                     Email  \\\n",
       "0    0  Juan De La Fuente Hormaechea  05316429w    achormaechea@gmail.com   \n",
       "1   58              Bosco Moro Conde   28816889  martaconde00@hotmail.com   \n",
       "2   62      Chloe D'Agostino Fuertes   51087142       ifuertesg@gmail.com   \n",
       "3  136            Lucia Molero Lopez   50754177  marialopez48@hotmail.com   \n",
       "4  143          Juan Gutierrez Lopez    2284432         laris84@gmail.com   \n",
       "\n",
       "    Teléfono Fecha alta      Actividad  Importe Fecha comienzo  \\\n",
       "0  609712590 2023-10-13  bebes mayores   426.60     2024-09-16   \n",
       "1  626435282 2019-04-12    pre escuela   632.00     2024-09-01   \n",
       "2  637119861 2019-04-14    pre escuela    79.00     2025-01-01   \n",
       "3  620038846 2019-05-04        escuela   632.00     2024-09-01   \n",
       "4  636163502 2019-05-05    pre escuela   604.35     2024-11-01   \n",
       "\n",
       "  Fecha finalización  Duración Tipo cliente  \n",
       "0         2025-03-16         6       Activo  \n",
       "1         2025-07-01        10       Activo  \n",
       "2         2025-02-01         1       Activo  \n",
       "3         2025-07-01        10       Activo  \n",
       "4         2025-08-01         9       Activo  "
      ]
     },
     "execution_count": 72,
     "metadata": {},
     "output_type": "execute_result"
    }
   ],
   "source": [
    "socios_totales.head()"
   ]
  },
  {
   "cell_type": "markdown",
   "metadata": {},
   "source": [
    "##### Información más detallada de los clientes que están incluidos en ambas tablas y de los clientes que están solamente en cada una de las tablas."
   ]
  },
  {
   "cell_type": "code",
   "execution_count": 73,
   "metadata": {},
   "outputs": [
    {
     "name": "stdout",
     "output_type": "stream",
     "text": [
      "Columns in total_clientes:\n",
      "['ID', 'Cliente', 'Teléfono', 'Email', 'Actividad', 'Importe', 'Fecha comienzo', 'Fecha finalización', 'Duración', 'Tipo cliente']\n",
      "ID                            object\n",
      "Cliente                       object\n",
      "Teléfono                      object\n",
      "Email                         object\n",
      "Actividad                     object\n",
      "Importe                      float64\n",
      "Fecha comienzo        datetime64[ns]\n",
      "Fecha finalización    datetime64[ns]\n",
      "Duración                       int64\n",
      "Tipo cliente                  object\n",
      "dtype: object\n",
      "\n",
      "Columns in socios_activos:\n",
      "['ID', 'Cliente', 'DNI', 'Email', 'Teléfono', 'Fecha alta']\n",
      "ID                    object\n",
      "Cliente               object\n",
      "DNI                   object\n",
      "Email                 object\n",
      "Teléfono              object\n",
      "Fecha alta    datetime64[ns]\n",
      "dtype: object\n"
     ]
    },
    {
     "name": "stdout",
     "output_type": "stream",
     "text": [
      "\n",
      "Number of common rows: 1745\n",
      "\n",
      "Rows only in total_clientes: 7\n",
      "\n",
      "These are the rows from total_clientes that are not in socios_activos:\n",
      "Client values:\n",
      "171     Javier Jimenez De La Iglesia Perez,\n",
      "957              Alvaro Sacramento Sanchez,\n",
      "972                German Escobar Blazquez,\n",
      "973              Guillermo Amaro Rodriguez,\n",
      "974                       Hugo Caba Cordon,\n",
      "987                      Marco Sierra Guix,\n",
      "1023              Daniel Sanchez De Frutos,\n",
      "Name: Cliente, dtype: object\n",
      "\n",
      "Cliente values:\n",
      "171     Javier Jimenez De La Iglesia Perez,\n",
      "957              Alvaro Sacramento Sanchez,\n",
      "972                German Escobar Blazquez,\n",
      "973              Guillermo Amaro Rodriguez,\n",
      "974                       Hugo Caba Cordon,\n",
      "987                      Marco Sierra Guix,\n",
      "1023              Daniel Sanchez De Frutos,\n",
      "Name: Cliente, dtype: object\n",
      "\n",
      "Rows only in socios_activos: 36\n",
      "\n",
      "These are the rows from socios_activos that are not in total_clientes:\n",
      "Client values:\n",
      "3                        Marco Sierra Guix\n",
      "4                Guillermo Amaro Rodriguez\n",
      "13                 German Escobar Blazquez\n",
      "15                        Hugo Caba Cordon\n",
      "36                Daniel Sanchez De Frutos\n",
      "64               Alvaro Sacramento Sanchez\n",
      "66      Javier Jimenez De La Iglesia Perez\n",
      "253                  Marina Mulder Picasso\n",
      "324        Rodrigo Garcia Fernandez-Parodi\n",
      "460                   Telmo Ortega Badiola\n",
      "558                    Duplicada Duplicada\n",
      "583       Rodrigo Peláez Martínez-Barquero\n",
      "594                    Duplicada Duplicada\n",
      "759                    Macarena Perez Luis\n",
      "1007                   Paula Del Amo Pérez\n",
      "1199                 Rodrigo Garcia Arroyo\n",
      "1239                Antonio Romero Heredia\n",
      "1240                 Miguel Vazquez Calero\n",
      "1312                   Duplicada Duplicada\n",
      "1413              Vicente Paramio González\n",
      "1476             Federico De Sario Trullas\n",
      "1477                       Gabriel Acevedo\n",
      "1485          Siena Violetta Flores Sokoli\n",
      "1562                Oliver Espinosa Romero\n",
      "1572           Carlota Fernandez Fernandez\n",
      "1573                      Olivia Fernandez\n",
      "1599            Cristina Gutiérrez Lastras\n",
      "1641            Martin Fernandez Fernandez\n",
      "1674               Amelia Oreggia Dalgaard\n",
      "1698              Rafael Pavon Ballesteros\n",
      "1727                    Lia De Linos Miled\n",
      "1751                  Bintu Anmdinyac Sala\n",
      "1773             Alicia Fernandez (Tienda)\n",
      "1774         Leticia Perez-Grueso (Tienda)\n",
      "1775        Isabella Violet Romero Procter\n",
      "1777              Beatriz Panades (Tienda)\n",
      "Name: Cliente, dtype: object\n",
      "\n",
      "Client values:\n",
      "3                        Marco Sierra Guix\n",
      "4                Guillermo Amaro Rodriguez\n",
      "13                 German Escobar Blazquez\n",
      "15                        Hugo Caba Cordon\n",
      "36                Daniel Sanchez De Frutos\n",
      "64               Alvaro Sacramento Sanchez\n",
      "66      Javier Jimenez De La Iglesia Perez\n",
      "253                  Marina Mulder Picasso\n",
      "324        Rodrigo Garcia Fernandez-Parodi\n",
      "460                   Telmo Ortega Badiola\n",
      "558                    Duplicada Duplicada\n",
      "583       Rodrigo Peláez Martínez-Barquero\n",
      "594                    Duplicada Duplicada\n",
      "759                    Macarena Perez Luis\n",
      "1007                   Paula Del Amo Pérez\n",
      "1199                 Rodrigo Garcia Arroyo\n",
      "1239                Antonio Romero Heredia\n",
      "1240                 Miguel Vazquez Calero\n",
      "1312                   Duplicada Duplicada\n",
      "1413              Vicente Paramio González\n",
      "1476             Federico De Sario Trullas\n",
      "1477                       Gabriel Acevedo\n",
      "1485          Siena Violetta Flores Sokoli\n",
      "1562                Oliver Espinosa Romero\n",
      "1572           Carlota Fernandez Fernandez\n",
      "1573                      Olivia Fernandez\n",
      "1599            Cristina Gutiérrez Lastras\n",
      "1641            Martin Fernandez Fernandez\n",
      "1674               Amelia Oreggia Dalgaard\n",
      "1698              Rafael Pavon Ballesteros\n",
      "1727                    Lia De Linos Miled\n",
      "1751                  Bintu Anmdinyac Sala\n",
      "1773             Alicia Fernandez (Tienda)\n",
      "1774         Leticia Perez-Grueso (Tienda)\n",
      "1775        Isabella Violet Romero Procter\n",
      "1777              Beatriz Panades (Tienda)\n",
      "Name: Cliente, dtype: object\n",
      "\n",
      "Summary:\n",
      "Total rows in total_clientes: 1750\n",
      "Total rows in socios_activos: 1779\n",
      "Common rows: 1745\n",
      "Rows only in total_clientes: 7\n",
      "Rows only in socios_activos: 36\n"
     ]
    }
   ],
   "source": [
    "# Let's first verify the exact column names and data types\n",
    "print(\"Columns in total_clientes:\")\n",
    "print(total_clientes.columns.tolist())\n",
    "print(total_clientes.dtypes)\n",
    "print(\"\\nColumns in socios_activos:\")\n",
    "print(socios_activos.columns.tolist())\n",
    "print(socios_activos.dtypes)\n",
    "\n",
    "# Now let's proceed with the merge analysis\n",
    "# First, let's do the inner merge to get common rows\n",
    "common_rows = pd.merge(total_clientes, socios_activos, how='inner', on='Cliente')\n",
    "print(f\"\\nNumber of common rows: {len(common_rows)}\")  # Should be 1745\n",
    "\n",
    "# Find rows in total_clientes that are not in socios_activos\n",
    "left_only = pd.merge(total_clientes, socios_activos, how='left', on='Cliente', indicator=True)\n",
    "rows_only_in_total_clientes = left_only[left_only['_merge'] == 'left_only']\n",
    "print(f\"\\nRows only in total_clientes: {len(rows_only_in_total_clientes)}\")\n",
    "print(\"\\nThese are the rows from total_clientes that are not in socios_activos:\")\n",
    "# Let's try to access the columns one by one to identify any issues\n",
    "try:\n",
    "    print(\"Client values:\")\n",
    "    print(rows_only_in_total_clientes['Cliente'])\n",
    "    print(\"\\nCliente values:\")\n",
    "    print(rows_only_in_total_clientes['Cliente'])\n",
    "except KeyError as e:\n",
    "    print(f\"Error accessing column: {e}\")\n",
    "\n",
    "# Find rows in socios_activos that are not in total_clientes\n",
    "right_only = pd.merge(total_clientes, socios_activos, how='right', on='Cliente', indicator=True)\n",
    "rows_only_in_socios_activos = right_only[right_only['_merge'] == 'right_only']\n",
    "print(f\"\\nRows only in socios_activos: {len(rows_only_in_socios_activos)}\")\n",
    "print(\"\\nThese are the rows from socios_activos that are not in total_clientes:\")\n",
    "try:\n",
    "    print(\"Client values:\")\n",
    "    print(rows_only_in_socios_activos['Cliente'])\n",
    "    print(\"\\nClient values:\")\n",
    "    print(rows_only_in_socios_activos['Cliente'])\n",
    "except KeyError as e:\n",
    "    print(f\"Error accessing column: {e}\")\n",
    "\n",
    "# Summary\n",
    "print(\"\\nSummary:\")\n",
    "print(f\"Total rows in total_clientes: {len(total_clientes)}\")\n",
    "print(f\"Total rows in socios_activos: {len(socios_activos)}\")\n",
    "print(f\"Common rows: {len(common_rows)}\")\n",
    "print(f\"Rows only in total_clientes: {len(rows_only_in_total_clientes)}\")\n",
    "print(f\"Rows only in socios_activos: {len(rows_only_in_socios_activos)}\")"
   ]
  },
  {
   "cell_type": "markdown",
   "metadata": {},
   "source": [
    "##### Voy a crear otra columna en la tabla de total_clientes para categorías de público por rango de edad según la columna de Actividad."
   ]
  },
  {
   "cell_type": "code",
   "execution_count": 74,
   "metadata": {},
   "outputs": [],
   "source": [
    "# Define the mapping for age ranges\n",
    "age_range_mapping = {\n",
    "    'bebes mayores': '2-3 años',\n",
    "    'pre escuela': '3-5 años',\n",
    "    'escuela': '6-12 años',\n",
    "    'sin actividad vigente': 'indefinido',\n",
    "    'adultos mantenimiento': '>14 años',\n",
    "    'bebes pre escuela': '2-3 años',\n",
    "    'grupos reducidos': '3-5 años',\n",
    "    'act acuatica embarazadas': 'adultos',\n",
    "    'bono 10 baños': 'indefinido',\n",
    "    'bebes medianos': '1-2 años',\n",
    "    'bebes pequeños': '6 meses-1 año',\n",
    "    'adultos aprendizaje': '>14 años',\n",
    "    'escuelas infantiles': '2-5 años'\n",
    "}\n",
    "\n",
    "# Create the new column 'Age range' by mapping the 'Actividad' column\n",
    "total_clientes['Rango edad'] = total_clientes['Actividad'].map(age_range_mapping)"
   ]
  },
  {
   "cell_type": "code",
   "execution_count": 75,
   "metadata": {},
   "outputs": [
    {
     "data": {
      "text/html": [
       "<div>\n",
       "<style scoped>\n",
       "    .dataframe tbody tr th:only-of-type {\n",
       "        vertical-align: middle;\n",
       "    }\n",
       "\n",
       "    .dataframe tbody tr th {\n",
       "        vertical-align: top;\n",
       "    }\n",
       "\n",
       "    .dataframe thead th {\n",
       "        text-align: right;\n",
       "    }\n",
       "</style>\n",
       "<table border=\"1\" class=\"dataframe\">\n",
       "  <thead>\n",
       "    <tr style=\"text-align: right;\">\n",
       "      <th></th>\n",
       "      <th>ID</th>\n",
       "      <th>Cliente</th>\n",
       "      <th>Teléfono</th>\n",
       "      <th>Email</th>\n",
       "      <th>Actividad</th>\n",
       "      <th>Importe</th>\n",
       "      <th>Fecha comienzo</th>\n",
       "      <th>Fecha finalización</th>\n",
       "      <th>Duración</th>\n",
       "      <th>Tipo cliente</th>\n",
       "      <th>Rango edad</th>\n",
       "    </tr>\n",
       "  </thead>\n",
       "  <tbody>\n",
       "    <tr>\n",
       "      <th>0</th>\n",
       "      <td>10182.0</td>\n",
       "      <td>Jose Luis Sierra Campoy</td>\n",
       "      <td>644135263.0</td>\n",
       "      <td>carolina.campoy.b@gmail.com</td>\n",
       "      <td>sin actividad vigente</td>\n",
       "      <td>79.00</td>\n",
       "      <td>2024-12-01 00:00:00.000000000</td>\n",
       "      <td>2025-01-01 00:00:00.000000000</td>\n",
       "      <td>1</td>\n",
       "      <td>Activo</td>\n",
       "      <td>indefinido</td>\n",
       "    </tr>\n",
       "    <tr>\n",
       "      <th>1</th>\n",
       "      <td>10189.0</td>\n",
       "      <td>Juan Soto Cid</td>\n",
       "      <td>608710339.0</td>\n",
       "      <td>jsotoaprell@gmail.com</td>\n",
       "      <td>sin actividad vigente</td>\n",
       "      <td>180.00</td>\n",
       "      <td>2024-05-01 00:00:00.000000000</td>\n",
       "      <td>2024-07-01 00:00:00.000000000</td>\n",
       "      <td>2</td>\n",
       "      <td>Activo</td>\n",
       "      <td>indefinido</td>\n",
       "    </tr>\n",
       "    <tr>\n",
       "      <th>2</th>\n",
       "      <td>1028.0</td>\n",
       "      <td>Martin Ruiz Soto</td>\n",
       "      <td>618940508.0</td>\n",
       "      <td>msotoranero@gmail.com</td>\n",
       "      <td>sin actividad vigente</td>\n",
       "      <td>225.15</td>\n",
       "      <td>2024-07-31 00:00:00.000000000</td>\n",
       "      <td>2024-12-15 00:00:00.000000000</td>\n",
       "      <td>5</td>\n",
       "      <td>Activo</td>\n",
       "      <td>indefinido</td>\n",
       "    </tr>\n",
       "    <tr>\n",
       "      <th>3</th>\n",
       "      <td>10394.0</td>\n",
       "      <td>Fernando Alvarez</td>\n",
       "      <td>652162439.0</td>\n",
       "      <td>desconocido</td>\n",
       "      <td>sin actividad vigente</td>\n",
       "      <td>80.00</td>\n",
       "      <td>2023-07-12 00:00:00.000000000</td>\n",
       "      <td>2023-08-01 00:00:00.000000000</td>\n",
       "      <td>1</td>\n",
       "      <td>Activo</td>\n",
       "      <td>indefinido</td>\n",
       "    </tr>\n",
       "    <tr>\n",
       "      <th>4</th>\n",
       "      <td>10399.0</td>\n",
       "      <td>Cp Esther Esther</td>\n",
       "      <td>678118106.0</td>\n",
       "      <td>esther.television@gmail.com</td>\n",
       "      <td>sin actividad vigente</td>\n",
       "      <td>0.00</td>\n",
       "      <td>1677-09-21 00:12:43.145224193</td>\n",
       "      <td>1677-09-21 00:12:43.145224193</td>\n",
       "      <td>0</td>\n",
       "      <td>Lead para información</td>\n",
       "      <td>indefinido</td>\n",
       "    </tr>\n",
       "  </tbody>\n",
       "</table>\n",
       "</div>"
      ],
      "text/plain": [
       "        ID                  Cliente     Teléfono                        Email  \\\n",
       "0  10182.0  Jose Luis Sierra Campoy  644135263.0  carolina.campoy.b@gmail.com   \n",
       "1  10189.0            Juan Soto Cid  608710339.0        jsotoaprell@gmail.com   \n",
       "2   1028.0         Martin Ruiz Soto  618940508.0        msotoranero@gmail.com   \n",
       "3  10394.0         Fernando Alvarez  652162439.0                  desconocido   \n",
       "4  10399.0         Cp Esther Esther  678118106.0  esther.television@gmail.com   \n",
       "\n",
       "               Actividad  Importe                Fecha comienzo  \\\n",
       "0  sin actividad vigente    79.00 2024-12-01 00:00:00.000000000   \n",
       "1  sin actividad vigente   180.00 2024-05-01 00:00:00.000000000   \n",
       "2  sin actividad vigente   225.15 2024-07-31 00:00:00.000000000   \n",
       "3  sin actividad vigente    80.00 2023-07-12 00:00:00.000000000   \n",
       "4  sin actividad vigente     0.00 1677-09-21 00:12:43.145224193   \n",
       "\n",
       "             Fecha finalización  Duración           Tipo cliente  Rango edad  \n",
       "0 2025-01-01 00:00:00.000000000         1                 Activo  indefinido  \n",
       "1 2024-07-01 00:00:00.000000000         2                 Activo  indefinido  \n",
       "2 2024-12-15 00:00:00.000000000         5                 Activo  indefinido  \n",
       "3 2023-08-01 00:00:00.000000000         1                 Activo  indefinido  \n",
       "4 1677-09-21 00:12:43.145224193         0  Lead para información  indefinido  "
      ]
     },
     "execution_count": 75,
     "metadata": {},
     "output_type": "execute_result"
    }
   ],
   "source": [
    "total_clientes.head()"
   ]
  },
  {
   "cell_type": "code",
   "execution_count": 76,
   "metadata": {},
   "outputs": [
    {
     "name": "stdout",
     "output_type": "stream",
     "text": [
      "      Rango edad  Número de clientes\n",
      "8     indefinido                 830\n",
      "1       2-3 años                 288\n",
      "3       3-5 años                 197\n",
      "0       1-2 años                 167\n",
      "4  6 meses-1 año                 146\n",
      "5      6-12 años                  85\n",
      "7        adultos                  25\n",
      "6       >14 años                  11\n",
      "2       2-5 años                   1\n"
     ]
    }
   ],
   "source": [
    "# Aggregate clients by each unique category in the 'Age range' column\n",
    "age_range_aggregation = total_clientes.groupby('Rango edad').size().reset_index(name='Número de clientes')\n",
    "\n",
    "# Sort the aggregated DataFrame by 'Client Count' in descending order\n",
    "age_range_aggregation = age_range_aggregation.sort_values(by='Número de clientes', ascending=False)\n",
    "\n",
    "# Display the aggregated DataFrame\n",
    "print(age_range_aggregation)"
   ]
  },
  {
   "cell_type": "code",
   "execution_count": 77,
   "metadata": {},
   "outputs": [
    {
     "data": {
      "image/png": "[encoded data removed]",
      "text/plain": [
       "<Figure size 1000x600 with 1 Axes>"
      ]
     },
     "metadata": {},
     "output_type": "display_data"
    }
   ],
   "source": [
    "# Create a vertical bar plot\n",
    "plt.figure(figsize=(10, 6))  # Set the figure size\n",
    "plt.bar(age_range_aggregation['Rango edad'], age_range_aggregation['Número de clientes'], color='skyblue')\n",
    "\n",
    "# Set the title and labels\n",
    "plt.title('Número de clientes por rango de edad', fontsize=16)\n",
    "plt.xlabel('Rango edad', fontsize=14)\n",
    "plt.ylabel('Número de clientes', fontsize=14)\n",
    "\n",
    "# Rotate x-axis labels for better readability\n",
    "plt.xticks(rotation=45)\n",
    "\n",
    "# Show the plot\n",
    "plt.tight_layout()  # Adjust layout to make room for the rotated x labels\n",
    "plt.show()"
   ]
  },
  {
   "cell_type": "markdown",
   "metadata": {},
   "source": [
    "##### Podemos observar que el rango de edad de la mayor parte de clientes oscila de 1-5 años, indefinido es un rango general en el que puede entrar cualquier edad. Las campañas de marketing deberían de dirigirse y reforzarse a público de este rango de edad. "
   ]
  },
  {
   "cell_type": "markdown",
   "metadata": {},
   "source": [
    "***"
   ]
  },
  {
   "cell_type": "markdown",
   "metadata": {},
   "source": [
    "#### EXPLORATORY DATA ANALYSIS"
   ]
  },
  {
   "cell_type": "markdown",
   "metadata": {},
   "source": [
    "##### De la tabla de clientes totales en el centro tenemos las situientes KPIs."
   ]
  },
  {
   "cell_type": "code",
   "execution_count": 78,
   "metadata": {},
   "outputs": [
    {
     "name": "stdout",
     "output_type": "stream",
     "text": [
      "Clientes totales en la tabla: 1750\n",
      "Leads para información: 662 (37.83%)\n",
      "Leads con servicio gratis: 82 (4.69%)\n",
      "Clientes activos: 1088 (62.17%)\n",
      "Tasa de conversión: 62.17%\n",
      "Promedio de duración de compromiso: 2.93 meses\n"
     ]
    }
   ],
   "source": [
    "# Define functions for KPIs\n",
    "def calculate_conversion_rate(df):\n",
    "    total_clients = len(df)\n",
    "    paying_clients = df[(df['Importe'] > 0) & \n",
    "                        (df['Fecha comienzo'] != pd.Timestamp.min) & \n",
    "                        (df['Fecha finalización'] != pd.Timestamp.min)]\n",
    "    paying_clients_count = len(paying_clients)\n",
    "    conversion_rate = (paying_clients_count / total_clients) * 100 if total_clients > 0 else 0\n",
    "    return conversion_rate\n",
    "\n",
    "def calculate_engagement_metric(df):\n",
    "    # Calculate average duration of engagement\n",
    "    average_engagement_duration = df['Duración'].mean()\n",
    "    return average_engagement_duration\n",
    "\n",
    "# Calculate total number of clients\n",
    "total_clients = len(total_clientes)\n",
    "\n",
    "# Calculate leads and free service clients\n",
    "leads = total_clientes[total_clientes['Importe'] == 0]\n",
    "leads_count = len(leads)\n",
    "\n",
    "free_service_clients = total_clientes[\n",
    "    (total_clientes['Importe'] == 0) & \n",
    "    (total_clientes['Fecha comienzo'] != pd.Timestamp.min) & \n",
    "    (total_clientes['Fecha finalización'] != pd.Timestamp.min)\n",
    "]\n",
    "free_service_count = len(free_service_clients)\n",
    "\n",
    "# Calculate active clients\n",
    "paying_clients = total_clientes[\n",
    "    (total_clientes['Importe'] > 0) & \n",
    "    (total_clientes['Fecha comienzo'] != pd.Timestamp.min) & \n",
    "    (total_clientes['Fecha finalización'] != pd.Timestamp.min)\n",
    "]\n",
    "paying_clients_count = len(paying_clients)\n",
    "\n",
    "# Calculate ratios\n",
    "leads_ratio = (leads_count / total_clients) * 100 if total_clients > 0 else 0\n",
    "free_service_ratio = (free_service_count / total_clients) * 100 if total_clients > 0 else 0\n",
    "paying_ratio = (paying_clients_count / total_clients) * 100 if total_clients > 0 else 0\n",
    "\n",
    "# Calculate KPIs using functions\n",
    "conversion_rate = calculate_conversion_rate(total_clientes)\n",
    "average_engagement_duration = calculate_engagement_metric(total_clientes)\n",
    "\n",
    "# Display results\n",
    "print(f\"Clientes totales en la tabla: {total_clients}\")\n",
    "print(f\"Leads para información: {leads_count} ({leads_ratio:.2f}%)\")\n",
    "print(f\"Leads con servicio gratis: {free_service_count} ({free_service_ratio:.2f}%)\")\n",
    "print(f\"Clientes activos: {paying_clients_count} ({paying_ratio:.2f}%)\")\n",
    "print(f\"Tasa de conversión: {conversion_rate:.2f}%\")\n",
    "print(f\"Promedio de duración de compromiso: {average_engagement_duration:.2f} meses\")"
   ]
  },
  {
   "cell_type": "markdown",
   "metadata": {},
   "source": [
    "##### Los datos muestran patrones interesantes en la base de clientes y métricas de conversión:\n",
    "\n",
    "1. Segmentación de Clientes:\n",
    "- De un total de 1,750 clientes, el segmento más grande corresponde a Clientes Activos con 1,088 (62.17%)\n",
    "- Los Leads para Información representan una porción significativa con 662 clientes (37.83%)\n",
    "- Los Leads con Servicio Gratis son el segmento más pequeño con 82 clientes (4.69%)\n",
    "\n",
    "2. Rendimiento de Conversión:\n",
    "- La tasa de conversión del 62.17% es notablemente alta, indicando que más de la mitad de todos los clientes se convierten en clientes pagadores\n",
    "- Esto sugiere un embudo de ventas efectivo y una propuesta de valor que logra convertir exitosamente leads en clientes activos\n",
    "\n",
    "3. Compromiso del Cliente:\n",
    "- La duración promedio de compromiso de 2.93 meses indica un período de engagement relativamente corto\n",
    "- Esto podría presentar una oportunidad para implementar estrategias de retención para extender el ciclo de vida del cliente\n",
    "\n",
    "Recomendaciones:\n",
    "1. Investigar qué hace que la tasa de conversión sea tan exitosa para mantenerla y potencialmente mejorarla\n",
    "2. Considerar si el programa de servicio gratuito (con solo 82 clientes) está siendo utilizado efectivamente como herramienta de conversión"
   ]
  },
  {
   "cell_type": "markdown",
   "metadata": {},
   "source": [
    "##### Clientes dados de alta por año."
   ]
  },
  {
   "cell_type": "code",
   "execution_count": 79,
   "metadata": {},
   "outputs": [
    {
     "name": "stdout",
     "output_type": "stream",
     "text": [
      "Fecha alta\n",
      "2019     43\n",
      "2020     37\n",
      "2021    122\n",
      "2022    199\n",
      "2023    532\n",
      "2024    727\n",
      "2025     85\n",
      "Name: count, dtype: int64\n"
     ]
    }
   ],
   "source": [
    "# Extract year from 'Fecha alta' and count clients per year\n",
    "clients_by_year = socios_totales['Fecha alta'].dt.year.value_counts().sort_index()\n",
    "print(clients_by_year)"
   ]
  },
  {
   "cell_type": "code",
   "execution_count": 80,
   "metadata": {},
   "outputs": [
    {
     "data": {
      "image/png": "[encoded data removed]",
      "text/plain": [
       "<Figure size 640x480 with 1 Axes>"
      ]
     },
     "metadata": {},
     "output_type": "display_data"
    }
   ],
   "source": [
    "# Plotting the data\n",
    "ax = socios_totales['Fecha alta'].dt.year.value_counts().sort_index().plot(kind='bar', color='skyblue')\n",
    "\n",
    "# Setting the title and y-axis label\n",
    "ax.set_title('Número de clientes registrados por año (cumulativo)')\n",
    "ax.set_ylabel('Número de clientes')\n",
    "\n",
    "# Optionally, you can also set the x-axis label\n",
    "ax.set_xlabel('Año')\n",
    "\n",
    "# Show the plot\n",
    "plt.show()"
   ]
  },
  {
   "cell_type": "markdown",
   "metadata": {},
   "source": [
    "##### Agregación de clientes activos por la duración de su servicio y porcentaje."
   ]
  },
  {
   "cell_type": "code",
   "execution_count": 81,
   "metadata": {},
   "outputs": [
    {
     "name": "stdout",
     "output_type": "stream",
     "text": [
      "Total de clientes activos en la tabla: 1088\n",
      "\n",
      "Distribución por duración (en meses):\n",
      "    Duración  Count Porcentaje\n",
      "0          0     28      2.57%\n",
      "1          1    297      27.3%\n",
      "2          2     59      5.42%\n",
      "3          3    141     12.96%\n",
      "4          4    182     16.73%\n",
      "5          5     53      4.87%\n",
      "6          6     64      5.88%\n",
      "7          7     15      1.38%\n",
      "8          8      4      0.37%\n",
      "9          9     18      1.65%\n",
      "10        10    217     19.94%\n",
      "11        11      8      0.74%\n",
      "12        14      2      0.18%\n"
     ]
    }
   ],
   "source": [
    "# Filter only paying clients first\n",
    "paying_clients_df = total_clientes[total_clientes['Importe'] > 0]\n",
    "\n",
    "# Calculate total number of paying clients\n",
    "total_paying_clients = len(paying_clients_df)\n",
    "\n",
    "# Group by Duration and count paying clients\n",
    "clients_by_duration = paying_clients_df.groupby('Duración')['Cliente'].count().reset_index(name='Count')\n",
    "\n",
    "# Add percentage column with % symbol (percentages of paying clients)\n",
    "clients_by_duration['Porcentaje'] = (clients_by_duration['Count'] / total_paying_clients * 100).round(2).astype(str) + '%'\n",
    "\n",
    "# Sort by Duration\n",
    "clients_by_duration = clients_by_duration.sort_values('Duración')\n",
    "\n",
    "print(f\"Total de clientes activos en la tabla: {total_paying_clients}\")\n",
    "print(\"\\nDistribución por duración (en meses):\")\n",
    "print(clients_by_duration)"
   ]
  },
  {
   "cell_type": "code",
   "execution_count": 82,
   "metadata": {},
   "outputs": [
    {
     "data": {
      "image/png": "[encoded data removed]",
      "text/plain": [
       "<Figure size 1200x800 with 1 Axes>"
      ]
     },
     "metadata": {},
     "output_type": "display_data"
    }
   ],
   "source": [
    "# Create horizontal bar plot\n",
    "plt.figure(figsize=(12, 8))\n",
    "bars = plt.barh(clients_by_duration['Duración'], clients_by_duration['Count'], color='skyblue')\n",
    "\n",
    "# Customize the plot\n",
    "plt.title('Distribución de clientes por duración')\n",
    "plt.xlabel('Cantidad de clientes')\n",
    "plt.ylabel('Duración (en meses)')\n",
    "\n",
    "# Set y-axis to show all duration values\n",
    "plt.yticks(range(int(min(clients_by_duration['Duración'])), int(max(clients_by_duration['Duración'])) + 1))\n",
    "\n",
    "# Add count and percentage labels on the bars\n",
    "for i, bar in enumerate(bars):\n",
    "    width = bar.get_width()\n",
    "    percentage = clients_by_duration[\"Porcentaje\"].iloc[i]\n",
    "    \n",
    "    # Special handling for the longest bar (Duration = 1, which has the highest count)\n",
    "    if clients_by_duration['Count'].iloc[i] == clients_by_duration['Count'].max():\n",
    "        plt.text(width - 2, bar.get_y() + bar.get_height()/2, \n",
    "                f'{int(width)} ({percentage})',\n",
    "                ha='right', va='center', fontweight='bold')\n",
    "    else:\n",
    "        plt.text(width + 0.1, bar.get_y() + bar.get_height()/2, \n",
    "                f'{int(width)} ({percentage})',\n",
    "                ha='left', va='center', fontweight='bold')\n",
    "\n",
    "plt.tight_layout()\n",
    "plt.show()"
   ]
  },
  {
   "cell_type": "code",
   "execution_count": 83,
   "metadata": {},
   "outputs": [
    {
     "name": "stdout",
     "output_type": "stream",
     "text": [
      "1088\n",
      "   Fecha comienzo  Count\n",
      "0            2021      1\n",
      "1            2022     13\n",
      "2            2023    109\n",
      "3            2024    565\n",
      "4            2025    400\n"
     ]
    }
   ],
   "source": [
    "# Get total number of paying clients\n",
    "total_paying_clients = len(total_clientes[total_clientes['Importe'] > 0])\n",
    "print(total_paying_clients)\n",
    "\n",
    "# Filter for paying clients and group by year\n",
    "paying_clients_by_year = total_clientes[total_clientes['Importe'] > 0].groupby(total_clientes['Fecha comienzo'].dt.year)\\\n",
    "    .size().reset_index(name='Count')\n",
    "print(paying_clients_by_year)"
   ]
  },
  {
   "cell_type": "code",
   "execution_count": 84,
   "metadata": {},
   "outputs": [
    {
     "data": {
      "image/png": "[encoded data removed]",
      "text/plain": [
       "<Figure size 1000x600 with 1 Axes>"
      ]
     },
     "metadata": {},
     "output_type": "display_data"
    }
   ],
   "source": [
    "# Create vertical bar plot\n",
    "plt.figure(figsize=(10, 6))\n",
    "bars = plt.bar(paying_clients_by_year['Fecha comienzo'], paying_clients_by_year['Count'], color='skyblue')\n",
    "\n",
    "# Customize the plot\n",
    "plt.title('Distribución de clientes activos por año')\n",
    "plt.xlabel('Año')\n",
    "plt.ylabel('Cantidad de clientes')\n",
    "\n",
    "# Add count labels on top of the bars\n",
    "for bar in bars:\n",
    "    height = bar.get_height()\n",
    "    plt.text(bar.get_x() + bar.get_width()/2, height,\n",
    "             f'{int(height)}',\n",
    "             ha='center', va='bottom')\n",
    "\n",
    "# Rotate x-axis labels for better readability\n",
    "plt.xticks(rotation=0)\n",
    "\n",
    "plt.tight_layout()\n",
    "plt.show()"
   ]
  },
  {
   "cell_type": "code",
   "execution_count": 85,
   "metadata": {},
   "outputs": [
    {
     "name": "stdout",
     "output_type": "stream",
     "text": [
      "\n",
      "Número y procentaje de clientes por actividad:\n",
      "                   Actividad  Número de clientes Porcentaje\n",
      "12     sin actividad vigente                 826      47.2%\n",
      "3              bebes mayores                 178     10.17%\n",
      "4             bebes medianos                 167      9.54%\n",
      "5             bebes pequeños                 146      8.34%\n",
      "6          bebes pre escuela                 110      6.29%\n",
      "11               pre escuela                 103      5.89%\n",
      "10          grupos reducidos                  94      5.37%\n",
      "8                    escuela                  85      4.86%\n",
      "0   act acuatica embarazadas                  25      1.43%\n",
      "1        adultos aprendizaje                   7       0.4%\n",
      "2      adultos mantenimiento                   4      0.23%\n",
      "7              bono 10 baños                   4      0.23%\n",
      "9        escuelas infantiles                   1      0.06%\n"
     ]
    }
   ],
   "source": [
    "# Group by Actividad and count\n",
    "activity_counts = total_clientes.groupby('Actividad', dropna=False)['Cliente'].count().reset_index()\n",
    "\n",
    "# Rename the count column\n",
    "activity_counts = activity_counts.rename(columns={'Cliente': 'Número de clientes'})\n",
    "\n",
    "# Sort by number of clients in descending order\n",
    "activity_counts = activity_counts.sort_values('Número de clientes', ascending=False)\n",
    "\n",
    "# Calculate percentages\n",
    "activity_counts['Porcentaje'] = (activity_counts['Número de clientes'] / len(total_clientes) * 100).round(2)\n",
    "activity_counts['Porcentaje'] = activity_counts['Porcentaje'].astype(str) + '%'\n",
    "\n",
    "print(\"\\nNúmero y procentaje de clientes por actividad:\")\n",
    "print(activity_counts)"
   ]
  },
  {
   "cell_type": "code",
   "execution_count": 86,
   "metadata": {},
   "outputs": [
    {
     "data": {
      "image/png": "[encoded data removed]",
      "text/plain": [
       "<Figure size 1000x600 with 1 Axes>"
      ]
     },
     "metadata": {},
     "output_type": "display_data"
    }
   ],
   "source": [
    "# Sort the DataFrame by 'Número de clientes' in descending order\n",
    "activity_counts = activity_counts.sort_values('Número de clientes', ascending=True)\n",
    "\n",
    "# Plotting\n",
    "plt.figure(figsize=(10, 6))\n",
    "bars = plt.barh(activity_counts['Actividad'], activity_counts['Número de clientes'], color='skyblue')\n",
    "plt.xlabel('Número de clientes')\n",
    "plt.title('Número de clientes por actividad')\n",
    "\n",
    "# Add percentage labels on the bars\n",
    "for index, bar in enumerate(bars):\n",
    "    width = bar.get_width()\n",
    "    percentage = activity_counts['Porcentaje'].iloc[index]\n",
    "    # Place the text inside the bar if the bar is long enough\n",
    "    if width > 25:  # Adjust this threshold as needed\n",
    "        plt.text(width - 5, bar.get_y() + bar.get_height() / 2, f'{percentage}%', va='center', ha='right', color='black')\n",
    "    else:\n",
    "        plt.text(width, bar.get_y() + bar.get_height() / 2, f'{percentage}%', va='center', ha='left')\n",
    "\n",
    "plt.tight_layout()\n",
    "plt.show()"
   ]
  },
  {
   "cell_type": "code",
   "execution_count": 87,
   "metadata": {},
   "outputs": [
    {
     "name": "stdout",
     "output_type": "stream",
     "text": [
      "                                          Cliente Fecha alta  \\\n",
      "0                    Juan De La Fuente Hormaechea 2023-10-13   \n",
      "1                                Bosco Moro Conde 2019-04-12   \n",
      "2                        Chloe D'Agostino Fuertes 2019-04-14   \n",
      "3                              Lucia Molero Lopez 2019-05-04   \n",
      "4                            Juan Gutierrez Lopez 2019-05-05   \n",
      "...                                           ...        ...   \n",
      "1740                     Cp Enzo Velasco Gonzalez 2025-01-15   \n",
      "1741  Cp Lucia Yunquera Aguirre (3 Años En Abril) 2025-01-15   \n",
      "1742                    Cp Laia Gutiérrez Fuentes 2025-01-15   \n",
      "1743                       Cp Antonella Antonella 2025-01-15   \n",
      "1744                           Cp Davinia Davinia 2025-01-15   \n",
      "\n",
      "                    Fecha comienzo  Dates Match  \n",
      "0    2024-09-16 00:00:00.000000000        False  \n",
      "1    2024-09-01 00:00:00.000000000        False  \n",
      "2    2025-01-01 00:00:00.000000000        False  \n",
      "3    2024-09-01 00:00:00.000000000        False  \n",
      "4    2024-11-01 00:00:00.000000000        False  \n",
      "...                            ...          ...  \n",
      "1740 1677-09-21 00:12:43.145224193        False  \n",
      "1741 1677-09-21 00:12:43.145224193        False  \n",
      "1742 1677-09-21 00:12:43.145224193        False  \n",
      "1743 1677-09-21 00:12:43.145224193        False  \n",
      "1744 1677-09-21 00:12:43.145224193        False  \n",
      "\n",
      "[1745 rows x 4 columns]\n"
     ]
    }
   ],
   "source": [
    "# Check if the dates match\n",
    "socios_totales['Dates Match'] = socios_totales['Fecha alta'] == socios_totales['Fecha comienzo']\n",
    "\n",
    "# Print the results\n",
    "print(socios_totales[['Cliente', 'Fecha alta', 'Fecha comienzo', 'Dates Match']])"
   ]
  },
  {
   "cell_type": "code",
   "execution_count": 88,
   "metadata": {},
   "outputs": [
    {
     "name": "stdout",
     "output_type": "stream",
     "text": [
      "Número de clientes con fechas coincidentes: 69\n"
     ]
    }
   ],
   "source": [
    "# Count the number of clients where dates do match\n",
    "count_true_dates = socios_totales['Dates Match'].value_counts().get(True, 0)\n",
    "\n",
    "print(f\"Número de clientes con fechas coincidentes: {count_true_dates}\")"
   ]
  },
  {
   "cell_type": "code",
   "execution_count": 89,
   "metadata": {},
   "outputs": [
    {
     "name": "stdout",
     "output_type": "stream",
     "text": [
      "Número de clientes con fechas que no coinciden: 1676\n"
     ]
    }
   ],
   "source": [
    "# Count the number of clients where dates do not match\n",
    "count_false_dates = socios_totales['Dates Match'].value_counts().get(False, 0)\n",
    "\n",
    "print(f\"Número de clientes con fechas que no coinciden: {count_false_dates}\")"
   ]
  },
  {
   "cell_type": "markdown",
   "metadata": {},
   "source": [
    "##### Del analisis anterior se deduce que 69 clientes se dieron de alta y comenzaron el servicio el mismo día y 1676 clientes se dieron de alta pero no comenzaron el servicio el mismo día."
   ]
  },
  {
   "cell_type": "markdown",
   "metadata": {},
   "source": [
    "***"
   ]
  },
  {
   "cell_type": "markdown",
   "metadata": {},
   "source": [
    "##### Clientes no activos: (CATEGORÍA NO-ACTIVOS)"
   ]
  },
  {
   "cell_type": "code",
   "execution_count": 90,
   "metadata": {},
   "outputs": [
    {
     "name": "stdout",
     "output_type": "stream",
     "text": [
      "<class 'pandas.core.frame.DataFrame'>\n",
      "Index: 662 entries, 4 to 1743\n",
      "Data columns (total 11 columns):\n",
      " #   Column              Non-Null Count  Dtype         \n",
      "---  ------              --------------  -----         \n",
      " 0   ID                  662 non-null    object        \n",
      " 1   Cliente             662 non-null    object        \n",
      " 2   Teléfono            662 non-null    object        \n",
      " 3   Email               662 non-null    object        \n",
      " 4   Actividad           662 non-null    object        \n",
      " 5   Importe             662 non-null    float64       \n",
      " 6   Fecha comienzo      662 non-null    datetime64[ns]\n",
      " 7   Fecha finalización  662 non-null    datetime64[ns]\n",
      " 8   Duración            662 non-null    int64         \n",
      " 9   Tipo cliente        662 non-null    object        \n",
      " 10  Rango edad          662 non-null    object        \n",
      "dtypes: datetime64[ns](2), float64(1), int64(1), object(7)\n",
      "memory usage: 62.1+ KB\n"
     ]
    }
   ],
   "source": [
    "leads.info()"
   ]
  },
  {
   "cell_type": "code",
   "execution_count": 91,
   "metadata": {},
   "outputs": [
    {
     "data": {
      "text/plain": [
       "array([ 0,  1,  2,  6,  4,  3, 10,  5,  7,  8,  9])"
      ]
     },
     "execution_count": 91,
     "metadata": {},
     "output_type": "execute_result"
    }
   ],
   "source": [
    "leads['Duración'].unique()"
   ]
  },
  {
   "cell_type": "code",
   "execution_count": 92,
   "metadata": {},
   "outputs": [
    {
     "name": "stdout",
     "output_type": "stream",
     "text": [
      "\n",
      "Number of clients by Duration:\n",
      "Duración\n",
      "0     584\n",
      "1      25\n",
      "2       7\n",
      "3       9\n",
      "4       9\n",
      "5       2\n",
      "6       9\n",
      "7       3\n",
      "8       1\n",
      "9       2\n",
      "10     11\n",
      "Name: Cliente, dtype: int64\n"
     ]
    }
   ],
   "source": [
    "# Group clients by Duration\n",
    "duration_groups = leads.groupby('Duración')['Cliente'].count()\n",
    "print(\"\\nNumber of clients by Duration:\")\n",
    "print(duration_groups)"
   ]
  },
  {
   "cell_type": "code",
   "execution_count": 93,
   "metadata": {},
   "outputs": [
    {
     "data": {
      "text/plain": [
       "<DatetimeArray>\n",
       "['1677-09-21 00:12:43.145224193',           '2025-01-02 00:00:00',\n",
       "           '2024-06-01 00:00:00',           '2023-07-17 00:00:00']\n",
       "Length: 4, dtype: datetime64[ns]"
      ]
     },
     "execution_count": 93,
     "metadata": {},
     "output_type": "execute_result"
    }
   ],
   "source": [
    "clients_with_0_duration = leads[leads['Duración'] == 0]\n",
    "clients_with_0_duration['Fecha comienzo'].unique()"
   ]
  },
  {
   "cell_type": "code",
   "execution_count": 94,
   "metadata": {},
   "outputs": [
    {
     "name": "stdout",
     "output_type": "stream",
     "text": [
      "1. Clientes con zero_date en ambas columnas (Duración = 0):\n",
      "Count: 580\n",
      "\n",
      "2. Clientes con fechas reales en ambas columnas:\n",
      "Count: 82\n",
      "\n",
      "2. Clientes con fechas reales por Duración:\n",
      "          count\n",
      "Duración       \n",
      "0             4\n",
      "1            25\n",
      "2             7\n",
      "3             9\n",
      "4             9\n",
      "5             2\n",
      "6             9\n",
      "7             3\n",
      "8             1\n",
      "9             2\n",
      "10           11\n",
      "\n",
      "Clientes con Duración = 1:\n",
      "                            Cliente  Duración Fecha comienzo  \\\n",
      "5          Jeremias Hidrobo Linares         1     2023-08-01   \n",
      "241              Salomé Agudo Agudo         1     2024-09-10   \n",
      "293   Hector Sanchez Salas (Tienda)         1     2024-11-13   \n",
      "350          Arane Pulido Rodriguez         1     2024-10-07   \n",
      "467      Sport Consulting (Pruebas)         1     2021-09-01   \n",
      "487       Blanca Valhondo Rodriguez         1     2023-06-22   \n",
      "520            Adrian Parrilla Diaz         1     2024-01-01   \n",
      "761           Marta Hernando Matias         1     2024-12-01   \n",
      "1360        Angeles Navarro Ruperez         1     2025-01-01   \n",
      "1365      Miguel Ángel García Pinar         1     2025-01-01   \n",
      "1366        Angel Borrego Rodriguez         1     2025-01-01   \n",
      "1394             Nicolás Fadón Vera         1     2025-01-01   \n",
      "1397    Rania El Matrouch El Harrak         1     2024-12-03   \n",
      "1404    Vega Fernández Diaz- Blanco         1     2025-01-01   \n",
      "1433      Marcos Rodríguez Martínez         1     2025-01-01   \n",
      "1440       Pablo Tejerina Fernández         1     2025-01-01   \n",
      "1460  Carlota Lopez Calles (Tienda)         1     2025-01-09   \n",
      "1463           Diego Martín Colinas         1     2025-01-01   \n",
      "1488           Pablo Martín Colinas         1     2025-01-01   \n",
      "1502           Claudia Neira Segura         1     2025-01-01   \n",
      "1508              Lucas Astiaso Gea         1     2025-01-01   \n",
      "1509           Mario Santos Gallego         1     2025-01-01   \n",
      "1513        Zoe De Arbeloa Coirazza         1     2025-01-01   \n",
      "1529      Escuela Infantil Altamira         1     2025-01-01   \n",
      "1552           Mireia González Ruiz         1     2025-01-01   \n",
      "\n",
      "     Fecha finalización  \n",
      "5            2023-09-01  \n",
      "241          2024-10-10  \n",
      "293          2024-12-01  \n",
      "350          2024-11-19  \n",
      "467          2021-10-01  \n",
      "487          2023-07-10  \n",
      "520          2024-02-01  \n",
      "761          2025-01-01  \n",
      "1360         2025-02-01  \n",
      "1365         2025-02-01  \n",
      "1366         2025-02-01  \n",
      "1394         2025-02-04  \n",
      "1397         2025-01-22  \n",
      "1404         2025-02-01  \n",
      "1433         2025-02-01  \n",
      "1440         2025-02-01  \n",
      "1460         2025-02-13  \n",
      "1463         2025-02-01  \n",
      "1488         2025-02-01  \n",
      "1502         2025-02-01  \n",
      "1508         2025-02-01  \n",
      "1509         2025-02-01  \n",
      "1513         2025-02-01  \n",
      "1529         2025-02-01  \n",
      "1552         2025-02-01  \n",
      "\n",
      "Clientes con Duración = 2:\n",
      "                         Cliente  Duración Fecha comienzo Fecha finalización\n",
      "132   Bruno Macarron Gil (Notas)         2     2024-11-01         2025-01-01\n",
      "162     Matías Hernández Vázquez         2     2024-07-01         2024-09-01\n",
      "608        Alejandro Lomas Banzo         2     2023-03-01         2023-05-01\n",
      "642          Noa Terrones Marcos         2     2023-03-21         2023-05-01\n",
      "1315        Paula Quesada Martin         2     2024-12-01         2025-02-01\n",
      "1327            Eva Barcia Docal         2     2024-12-01         2025-02-01\n",
      "1334   Claudia De Vita Gutiérrez         2     2025-01-13         2025-03-13\n",
      "\n",
      "Clientes con Duración = 3:\n",
      "                      Cliente  Duración Fecha comienzo Fecha finalización\n",
      "784         Hugo Diez Ramirez         3     2024-01-01         2024-04-01\n",
      "1637       Alfonso Ramos Isac         3     2024-12-01         2025-03-01\n",
      "1662     Adriana Cortes Arina         3     2024-11-04         2025-02-01\n",
      "1694    Jorge Bernabeu Martin         3     2024-12-17         2025-03-01\n",
      "1704   Diego González Montero         3     2024-11-01         2025-02-01\n",
      "1720         Mia Martin Negri         3     2025-01-01         2025-04-01\n",
      "1722   Alejandra Zurita Navas         3     2024-12-01         2025-03-01\n",
      "1742        Jorge Aristín Gil         3     2024-11-01         2025-02-01\n",
      "1743  Lorenzo Escobar Carcedo         3     2024-11-01         2025-02-01\n",
      "\n",
      "Clientes con Duración = 4:\n",
      "                                    Cliente  Duración Fecha comienzo  \\\n",
      "726               Yumara  De Dios Carralero         4     2024-05-14   \n",
      "1070                 Diego Birnbaum Cabrero         4     2024-10-06   \n",
      "1106                   Martin Jimenez Quero         4     2024-09-19   \n",
      "1118      Adriana Mañas Rodríguez  (Tienda)         4     2024-09-20   \n",
      "1122               Astrid Hernando Peregrín         4     2025-01-01   \n",
      "1173  Nicolas (Hijo De Pino) Gonzalez Cobos         4     2024-12-01   \n",
      "1178                         Ana Díaz Torre         4     2025-01-01   \n",
      "1187               Martina Sofía Paz Mendez         4     2024-10-01   \n",
      "1209                Miguel Calderon Cantero         4     2024-11-11   \n",
      "\n",
      "     Fecha finalización  \n",
      "726          2024-09-01  \n",
      "1070         2025-02-01  \n",
      "1106         2025-01-19  \n",
      "1118         2025-01-19  \n",
      "1122         2025-05-01  \n",
      "1173         2025-04-01  \n",
      "1178         2025-05-01  \n",
      "1187         2025-02-01  \n",
      "1209         2025-03-01  \n",
      "\n",
      "Clientes con Duración = 6:\n",
      "                         Cliente  Duración Fecha comienzo Fecha finalización\n",
      "555         Maria Cano Bascuñana         6     2023-02-01         2023-08-01\n",
      "603                  Milo Niglia         6     2023-01-26         2023-07-01\n",
      "1583        Lara  Curieses Perea         6     2025-01-01         2025-07-01\n",
      "1595  Victoria Vázquez Lipoveanu         6     2025-01-01         2025-07-01\n",
      "1607    Dante Castellanos Garcia         6     2025-01-01         2025-07-01\n",
      "1612     Olivia Sanchez González         6     2024-09-01         2025-03-01\n",
      "1613       Valeria Sanchez Marin         6     2025-01-01         2025-07-01\n",
      "1622               Lily Prestini         6     2025-01-01         2025-07-15\n",
      "1629        Micaela Pequeno Reis         6     2024-09-01         2025-03-01\n"
     ]
    }
   ],
   "source": [
    "# Define zero_date\n",
    "zero_date = pd.Timestamp.min \n",
    "\n",
    "# 1. Identify clients with zero_date in both date columns\n",
    "zero_dates = leads[(leads['Fecha comienzo'] == zero_date) & \n",
    "                  (leads['Fecha finalización'] == zero_date)]\n",
    "\n",
    "# 2. Identify clients with actual dates (non-zero dates)\n",
    "actual_dates = leads[(leads['Fecha comienzo'] != zero_date) & \n",
    "                    (leads['Fecha finalización'] != zero_date)]\n",
    "\n",
    "# 3. Print aggregations\n",
    "print(\"1. Clientes con zero_date en ambas columnas (Duración = 0):\")\n",
    "print(f\"Count: {len(zero_dates)}\")\n",
    "\n",
    "# For clients without zero_date on both columns\n",
    "non_zero_dates = leads[~((leads['Fecha comienzo'] == pd.Timestamp.min) & (leads['Fecha finalización'] == pd.Timestamp.min))]\n",
    "print(\"\\n2. Clientes con fechas reales en ambas columnas:\")\n",
    "print(f\"Count: {len(non_zero_dates)}\")\n",
    "\n",
    "print(\"\\n2. Clientes con fechas reales por Duración:\")\n",
    "duration_distribution = actual_dates.groupby('Duración')['Cliente'].agg(['count'])\n",
    "print(duration_distribution)\n",
    "\n",
    "# 4. Detailed breakdown for each duration > 0\n",
    "for duration in [1, 2, 3, 4, 6]:\n",
    "    clients_with_duration = actual_dates[actual_dates['Duración'] == duration]\n",
    "    print(f\"\\nClientes con Duración = {duration}:\")\n",
    "    print(clients_with_duration[['Cliente', 'Duración', 'Fecha comienzo', 'Fecha finalización']])\n",
    "\n",
    "# 5. Create summary DataFrame\n",
    "summary = pd.DataFrame({\n",
    "    'Category': [\n",
    "        'Zero dates (Duration = 0)',\n",
    "        'Duration = 1 month',\n",
    "        'Duration = 2 months',\n",
    "        'Duration = 3 months',\n",
    "        'Duration = 4 months',\n",
    "        'Duration = 6 months'\n",
    "    ],\n",
    "    'Count': [\n",
    "        len(zero_dates),\n",
    "        len(actual_dates[actual_dates['Duración'] == 1]),\n",
    "        len(actual_dates[actual_dates['Duración'] == 2]),\n",
    "        len(actual_dates[actual_dates['Duración'] == 3]),\n",
    "        len(actual_dates[actual_dates['Duración'] == 4]),\n",
    "        len(actual_dates[actual_dates['Duración'] == 6])\n",
    "    ]\n",
    "})"
   ]
  },
  {
   "cell_type": "code",
   "execution_count": 95,
   "metadata": {},
   "outputs": [],
   "source": [
    "# Save file with new name 'clientes_no_activos'.\n",
    "leads.to_csv('/Users/cesarchaparro/Desktop/GitHub/Chapoteos/tablas/CSV/leads.csv', index=False)"
   ]
  },
  {
   "cell_type": "code",
   "execution_count": 96,
   "metadata": {},
   "outputs": [
    {
     "name": "stdout",
     "output_type": "stream",
     "text": [
      "<class 'pandas.core.frame.DataFrame'>\n",
      "RangeIndex: 662 entries, 0 to 661\n",
      "Data columns (total 11 columns):\n",
      " #   Column              Non-Null Count  Dtype  \n",
      "---  ------              --------------  -----  \n",
      " 0   ID                  662 non-null    float64\n",
      " 1   Cliente             662 non-null    object \n",
      " 2   Teléfono            662 non-null    object \n",
      " 3   Email               662 non-null    object \n",
      " 4   Actividad           662 non-null    object \n",
      " 5   Importe             662 non-null    float64\n",
      " 6   Fecha comienzo      662 non-null    object \n",
      " 7   Fecha finalización  662 non-null    object \n",
      " 8   Duración            662 non-null    int64  \n",
      " 9   Tipo cliente        662 non-null    object \n",
      " 10  Rango edad          662 non-null    object \n",
      "dtypes: float64(2), int64(1), object(8)\n",
      "memory usage: 57.0+ KB\n"
     ]
    }
   ],
   "source": [
    "# Read the file into a DataFrame\n",
    "leads = pd.read_csv('/Users/cesarchaparro/Desktop/GitHub/Chapoteos/tablas/CSV/leads.csv')\n",
    "leads.info()"
   ]
  },
  {
   "cell_type": "code",
   "execution_count": 97,
   "metadata": {},
   "outputs": [],
   "source": [
    "# Convert ID to string\n",
    "leads['ID'] = leads['ID'].astype(str)\n",
    "\n",
    "# Convert date columns to datetime with error handling\n",
    "leads['Fecha comienzo'] = pd.to_datetime(leads['Fecha comienzo'], \n",
    "                                                              format='mixed',  # Handle mixed formats\n",
    "                                                              errors='coerce')  # Handle any problematic conversions\n",
    "\n",
    "leads['Fecha finalización'] = pd.to_datetime(leads['Fecha finalización'], \n",
    "                                                                  format='mixed',  # Handle mixed formats\n",
    "                                                                  errors='coerce')  # Handle any problematic conversions\n"
   ]
  },
  {
   "cell_type": "markdown",
   "metadata": {},
   "source": [
    "***"
   ]
  },
  {
   "cell_type": "markdown",
   "metadata": {},
   "source": [
    "##### Socios Baja: (categoria No-Activos)"
   ]
  },
  {
   "cell_type": "code",
   "execution_count": 98,
   "metadata": {},
   "outputs": [
    {
     "data": {
      "text/html": [
       "<div>\n",
       "<style scoped>\n",
       "    .dataframe tbody tr th:only-of-type {\n",
       "        vertical-align: middle;\n",
       "    }\n",
       "\n",
       "    .dataframe tbody tr th {\n",
       "        vertical-align: top;\n",
       "    }\n",
       "\n",
       "    .dataframe thead th {\n",
       "        text-align: right;\n",
       "    }\n",
       "</style>\n",
       "<table border=\"1\" class=\"dataframe\">\n",
       "  <thead>\n",
       "    <tr style=\"text-align: right;\">\n",
       "      <th></th>\n",
       "      <th>ID</th>\n",
       "      <th>Nombre del socio</th>\n",
       "      <th>Tel. móvil</th>\n",
       "      <th>Correo electrónico</th>\n",
       "      <th>Fecha baja</th>\n",
       "      <th>Motivo baja</th>\n",
       "      <th>Nota</th>\n",
       "    </tr>\n",
       "  </thead>\n",
       "  <tbody>\n",
       "    <tr>\n",
       "      <th>0</th>\n",
       "      <td>2</td>\n",
       "      <td>Valentina Chiralt</td>\n",
       "      <td>649036026.0</td>\n",
       "      <td>jchiralt@hotmail.com</td>\n",
       "      <td>01/07/2023 00:00</td>\n",
       "      <td>Baja Administrativa</td>\n",
       "      <td>tienen piscina el la urb. todo el curso</td>\n",
       "    </tr>\n",
       "    <tr>\n",
       "      <th>1</th>\n",
       "      <td>3</td>\n",
       "      <td>Cristina Dopico</td>\n",
       "      <td>650954696.0</td>\n",
       "      <td>cristina_ferrol@hotmail.com</td>\n",
       "      <td>01/10/2020 00:00</td>\n",
       "      <td>Baja Administrativa</td>\n",
       "      <td>NaN</td>\n",
       "    </tr>\n",
       "    <tr>\n",
       "      <th>2</th>\n",
       "      <td>4</td>\n",
       "      <td>Paloma Barrie</td>\n",
       "      <td>609616193.0</td>\n",
       "      <td>paloma.barrie@gmail.com</td>\n",
       "      <td>01/10/2020 00:00</td>\n",
       "      <td>Baja Administrativa</td>\n",
       "      <td>NaN</td>\n",
       "    </tr>\n",
       "    <tr>\n",
       "      <th>3</th>\n",
       "      <td>5</td>\n",
       "      <td>Patricia Abril Gonzalez</td>\n",
       "      <td>NaN</td>\n",
       "      <td>NaN</td>\n",
       "      <td>12/05/2022 00:00</td>\n",
       "      <td>Baja Administrativa</td>\n",
       "      <td>se dio de alta hoy por prueba en un recurso</td>\n",
       "    </tr>\n",
       "    <tr>\n",
       "      <th>4</th>\n",
       "      <td>6</td>\n",
       "      <td>ALBERTO ROMERA IGEA</td>\n",
       "      <td>619981017.0</td>\n",
       "      <td>ROMERAI@MAPFRE.COM</td>\n",
       "      <td>01/10/2020 00:00</td>\n",
       "      <td>Baja Administrativa</td>\n",
       "      <td>NaN</td>\n",
       "    </tr>\n",
       "  </tbody>\n",
       "</table>\n",
       "</div>"
      ],
      "text/plain": [
       "  ID         Nombre del socio   Tel. móvil           Correo electrónico  \\\n",
       "0  2        Valentina Chiralt  649036026.0         jchiralt@hotmail.com   \n",
       "1  3          Cristina Dopico  650954696.0  cristina_ferrol@hotmail.com   \n",
       "2  4            Paloma Barrie  609616193.0      paloma.barrie@gmail.com   \n",
       "3  5  Patricia Abril Gonzalez          NaN                          NaN   \n",
       "4  6      ALBERTO ROMERA IGEA  619981017.0           ROMERAI@MAPFRE.COM   \n",
       "\n",
       "         Fecha baja          Motivo baja  \\\n",
       "0  01/07/2023 00:00  Baja Administrativa   \n",
       "1  01/10/2020 00:00  Baja Administrativa   \n",
       "2  01/10/2020 00:00  Baja Administrativa   \n",
       "3  12/05/2022 00:00  Baja Administrativa   \n",
       "4  01/10/2020 00:00  Baja Administrativa   \n",
       "\n",
       "                                           Nota  \n",
       "0       tienen piscina el la urb. todo el curso  \n",
       "1                                           NaN  \n",
       "2                                           NaN  \n",
       "3   se dio de alta hoy por prueba en un recurso  \n",
       "4                                           NaN  "
      ]
     },
     "execution_count": 98,
     "metadata": {},
     "output_type": "execute_result"
    }
   ],
   "source": [
    "# Read the Excel file into a DataFrame\n",
    "socios_baja = pd.read_csv('/Users/cesarchaparro/Desktop/GitHub/Chapoteos/tablas/CSV/socios_de_baja.csv')\n",
    "\n",
    "# Display the first few rows of the DataFrame\n",
    "socios_baja.head()"
   ]
  },
  {
   "cell_type": "markdown",
   "metadata": {},
   "source": [
    "##### Cleaning data types and format of the dataframe."
   ]
  },
  {
   "cell_type": "code",
   "execution_count": 99,
   "metadata": {},
   "outputs": [],
   "source": [
    "# Rename columns\n",
    "socios_baja = socios_baja.rename(columns={\n",
    "    'Nombre del socio': 'Cliente',\n",
    "    'Tel. móvil': 'Teléfono',\n",
    "    'Correo electrónico': 'Email'\n",
    "})"
   ]
  },
  {
   "cell_type": "code",
   "execution_count": 100,
   "metadata": {},
   "outputs": [],
   "source": [
    "# Convert 'Fecha de baja' to datetime\n",
    "socios_baja['Fecha baja'] = pd.to_datetime(socios_baja['Fecha baja'], errors='coerce', dayfirst=True)\n",
    "# Convert the 'Telefono' column to string (and remove any unnecessary '.0')\n",
    "socios_baja['Teléfono'] = socios_baja['Teléfono'].astype(str).str.replace('.0', '', regex=False)\n",
    "# Convert the \"Motivo baja\" column to lowercase\n",
    "socios_baja['Motivo baja'] = socios_baja['Motivo baja'].str.lower()\n",
    "# Correct the capitalization of the 'Cliente' column\n",
    "socios_baja['Cliente'] = socios_baja['Cliente'].str.title()\n",
    "# Convert the email column to lowercase\n",
    "socios_baja['Email'] = socios_baja['Email'].str.lower()"
   ]
  },
  {
   "cell_type": "code",
   "execution_count": 101,
   "metadata": {},
   "outputs": [],
   "source": [
    "# Fill missing values in the 'Email' column with 'desconocido'\n",
    "socios_baja['Email'] = socios_baja['Email'].fillna('desconocido')"
   ]
  },
  {
   "cell_type": "code",
   "execution_count": 102,
   "metadata": {},
   "outputs": [],
   "source": [
    "# Drop rows where ID is NaN\n",
    "socios_baja = socios_baja.dropna(subset=['ID'])\n",
    "socios_baja = socios_baja[socios_baja['ID'].notna()]"
   ]
  },
  {
   "cell_type": "code",
   "execution_count": 103,
   "metadata": {},
   "outputs": [],
   "source": [
    "# Check for NaN values in Cliente column\n",
    "nan_clientes = socios_baja[socios_baja['Cliente'].isna()]\n",
    "# Drop rows where Cliente is NaN\n",
    "socios_baja = socios_baja.dropna(subset=['Cliente'])\n",
    "socios_baja = socios_baja[socios_baja['Cliente'].notna()]\n"
   ]
  },
  {
   "cell_type": "code",
   "execution_count": 104,
   "metadata": {},
   "outputs": [
    {
     "name": "stdout",
     "output_type": "stream",
     "text": [
      "<class 'pandas.core.frame.DataFrame'>\n",
      "Index: 7722 entries, 0 to 7721\n",
      "Data columns (total 7 columns):\n",
      " #   Column       Non-Null Count  Dtype         \n",
      "---  ------       --------------  -----         \n",
      " 0   ID           7722 non-null   object        \n",
      " 1   Cliente      7722 non-null   object        \n",
      " 2   Teléfono     7722 non-null   object        \n",
      " 3   Email        7722 non-null   object        \n",
      " 4   Fecha baja   7722 non-null   datetime64[ns]\n",
      " 5   Motivo baja  7722 non-null   object        \n",
      " 6   Nota         5167 non-null   object        \n",
      "dtypes: datetime64[ns](1), object(6)\n",
      "memory usage: 482.6+ KB\n"
     ]
    }
   ],
   "source": [
    "socios_baja.info()"
   ]
  },
  {
   "cell_type": "markdown",
   "metadata": {},
   "source": [
    "##### Handle duplicates."
   ]
  },
  {
   "cell_type": "code",
   "execution_count": 105,
   "metadata": {},
   "outputs": [
    {
     "name": "stdout",
     "output_type": "stream",
     "text": [
      "Duplicates in ID column:\n",
      "Number of duplicate IDs: 0\n",
      "\n",
      "==================================================\n",
      "\n",
      "Duplicates in Cliente column:\n",
      "Number of duplicate Clients: 176\n",
      "\n",
      "Records with duplicate Clients:\n",
      "         ID                       Cliente   Teléfono                   Email  \\\n",
      "2581   3412                           . .        nan             desconocido   \n",
      "3086   4362                           . .        nan             desconocido   \n",
      "3097   4376                           . .        nan             desconocido   \n",
      "7241  13407  Alejandro Hortelano Chavesta  682909492    p.chavesta@gmail.com   \n",
      "3307   4727  Alejandro Hortelano Chavesta  699102023  jl.hortelano@gmail.com   \n",
      "...     ...                           ...        ...                     ...   \n",
      "453     481                  Sara Bercial        nan             desconocido   \n",
      "2616   3488    Valeria Hernandez Gonzalez  626129161             desconocido   \n",
      "2952   4111    Valeria Hernandez Gonzalez  696312412      lidiagl7@yahoo.com   \n",
      "5489   8883             Zoe Romano Blanco  656533833     romanoluc@gmail.com   \n",
      "982    1041             Zoe Romano Blanco  669968382   khrisstys@hotmail.com   \n",
      "\n",
      "              Fecha baja           Motivo baja  \\\n",
      "2581 2021-10-04 00:00:00   baja administrativa   \n",
      "3086 2021-10-07 00:00:00   baja administrativa   \n",
      "3097 2021-10-07 00:00:00   baja administrativa   \n",
      "7241 2024-08-01 00:00:00   baja administrativa   \n",
      "3307 2022-02-14 00:00:00  por cambio de ciudad   \n",
      "...                  ...                   ...   \n",
      "453  2020-10-01 00:00:00   baja administrativa   \n",
      "2616 2021-11-17 03:00:00   baja administrativa   \n",
      "2952 2021-11-23 03:00:00   baja administrativa   \n",
      "5489 2023-07-01 00:00:00   baja administrativa   \n",
      "982  2021-07-01 00:00:00   baja administrativa   \n",
      "\n",
      "                                                   Nota  \n",
      "2581                                                NaN  \n",
      "3086                                     ficha repetida  \n",
      "3097                                     ficha repetida  \n",
      "7241                                                NaN  \n",
      "3307                              SE MUDAN A INGLATERRA  \n",
      "...                                                 ...  \n",
      "453                                                 NaN  \n",
      "2616   Se ha dado de baja automáticamente por haber ...  \n",
      "2952   Se ha dado de baja automáticamente por haber ...  \n",
      "5489                          pilla lejos son de toledo  \n",
      "982                                                 NaN  \n",
      "\n",
      "[176 rows x 7 columns]\n"
     ]
    }
   ],
   "source": [
    "# Check duplicates in ID column\n",
    "id_duplicates = socios_baja[socios_baja['ID'].duplicated(keep=False)]\n",
    "print(\"Duplicates in ID column:\")\n",
    "print(f\"Number of duplicate IDs: {len(id_duplicates)}\")\n",
    "if len(id_duplicates) > 0:\n",
    "    print(\"\\nRecords with duplicate IDs:\")\n",
    "    print(id_duplicates.sort_values('ID'))\n",
    "\n",
    "print(\"\\n\" + \"=\"*50 + \"\\n\")\n",
    "\n",
    "# Check duplicates in Cliente column\n",
    "cliente_duplicates = socios_baja[socios_baja['Cliente'].duplicated(keep=False)]\n",
    "print(\"Duplicates in Cliente column:\")\n",
    "print(f\"Number of duplicate Clients: {len(cliente_duplicates)}\")\n",
    "if len(cliente_duplicates) > 0:\n",
    "    print(\"\\nRecords with duplicate Clients:\")\n",
    "    print(cliente_duplicates.sort_values('Cliente'))"
   ]
  },
  {
   "cell_type": "code",
   "execution_count": 106,
   "metadata": {},
   "outputs": [
    {
     "name": "stdout",
     "output_type": "stream",
     "text": [
      "Found 3 rows with the specified IDs:\n",
      "\n",
      "Selected rows:\n",
      "        ID Cliente Teléfono        Email Fecha baja          Motivo baja  \\\n",
      "2581  3412     . .      nan  desconocido 2021-10-04  baja administrativa   \n",
      "3086  4362     . .      nan  desconocido 2021-10-07  baja administrativa   \n",
      "3097  4376     . .      nan  desconocido 2021-10-07  baja administrativa   \n",
      "\n",
      "                 Nota  \n",
      "2581              NaN  \n",
      "3086   ficha repetida  \n",
      "3097   ficha repetida  \n"
     ]
    }
   ],
   "source": [
    "# Create a list of the IDs we want to check\n",
    "ids_to_check = ['3412', '4362', '4376']  # Assuming IDs are strings\n",
    "# If IDs are integers, use: ids_to_check = [3412, 4362, 4376]\n",
    "\n",
    "# Filter the DataFrame\n",
    "selected_rows = socios_baja[socios_baja['ID'].isin(ids_to_check)]\n",
    "\n",
    "# Display the results\n",
    "print(f\"Found {len(selected_rows)} rows with the specified IDs:\")\n",
    "print(\"\\nSelected rows:\")\n",
    "print(selected_rows)"
   ]
  },
  {
   "cell_type": "code",
   "execution_count": 107,
   "metadata": {},
   "outputs": [],
   "source": [
    "# Drop the rows\n",
    "socios_baja = socios_baja[~socios_baja['ID'].isin(ids_to_check)]\n",
    "# Drop the 'Nota' column\n",
    "socios_baja = socios_baja.drop('Nota', axis=1)"
   ]
  },
  {
   "cell_type": "code",
   "execution_count": 108,
   "metadata": {},
   "outputs": [
    {
     "name": "stdout",
     "output_type": "stream",
     "text": [
      "<class 'pandas.core.frame.DataFrame'>\n",
      "Index: 7719 entries, 0 to 7721\n",
      "Data columns (total 6 columns):\n",
      " #   Column       Non-Null Count  Dtype         \n",
      "---  ------       --------------  -----         \n",
      " 0   ID           7719 non-null   object        \n",
      " 1   Cliente      7719 non-null   object        \n",
      " 2   Teléfono     7719 non-null   object        \n",
      " 3   Email        7719 non-null   object        \n",
      " 4   Fecha baja   7719 non-null   datetime64[ns]\n",
      " 5   Motivo baja  7719 non-null   object        \n",
      "dtypes: datetime64[ns](1), object(5)\n",
      "memory usage: 422.1+ KB\n"
     ]
    }
   ],
   "source": [
    "socios_baja.info()"
   ]
  },
  {
   "cell_type": "markdown",
   "metadata": {},
   "source": [
    "##### Handle missing values."
   ]
  },
  {
   "cell_type": "code",
   "execution_count": 109,
   "metadata": {},
   "outputs": [
    {
     "name": "stdout",
     "output_type": "stream",
     "text": [
      "['baja administrativa' 'por trabajo' 'por descontento con la atención'\n",
      " 'por cambio de ciudad' 'por enfermedad o lesión' 'baja meses de verano'\n",
      " 'por que no puede pagar' 'por descontento con la instalacion'\n",
      " 'no logro mis objetivos' 'por examenes']\n"
     ]
    }
   ],
   "source": [
    "# Fill missing values in the 'Email' column with 'desconocido'\n",
    "socios_baja['Email'] = socios_baja['Email'].fillna('desconocido')\n",
    "# Fill missing values in the 'Teléfono' column with 'desconocido'\n",
    "socios_baja['Teléfono'] = socios_baja['Teléfono'].fillna('desconocido')\n",
    "# Print unique values in the 'Motivo de Baja' column\n",
    "print(socios_baja['Motivo baja'].unique())"
   ]
  },
  {
   "cell_type": "code",
   "execution_count": 110,
   "metadata": {},
   "outputs": [],
   "source": [
    "# Create a dictionary for the mapping\n",
    "motivo_mapping = {\n",
    "    'por trabajo': 'trabajo',\n",
    "    'por descontento con la atención': 'descontento con la atención',\n",
    "    'por cambio de ciudad': 'cambio de ciudad',\n",
    "    'por enfermedad o lesión': 'enfermedad o lesión',\n",
    "    'por que no puede pagar': 'no puede pagar',\n",
    "    'por descontento con la instalacion': 'descontento con la instalacion',\n",
    "    'por examenes': 'examenes'\n",
    "}\n",
    "# Replace the values using the mapping\n",
    "socios_baja['Motivo baja'] = socios_baja['Motivo baja'].replace(motivo_mapping)"
   ]
  },
  {
   "cell_type": "code",
   "execution_count": 111,
   "metadata": {},
   "outputs": [],
   "source": [
    "# Fill missing values in the 'Motivo baja' column with 'desconocido'\n",
    "socios_baja['Motivo baja'] = socios_baja['Motivo baja'].fillna('desconocido')"
   ]
  },
  {
   "cell_type": "code",
   "execution_count": 112,
   "metadata": {},
   "outputs": [
    {
     "name": "stdout",
     "output_type": "stream",
     "text": [
      "                      Motivo baja  Count Percentage\n",
      "0             baja administrativa   6375     82.59%\n",
      "1            baja meses de verano     44      0.57%\n",
      "2                cambio de ciudad    104      1.35%\n",
      "3     descontento con la atención     15      0.19%\n",
      "4  descontento con la instalacion      8      0.10%\n",
      "5             enfermedad o lesión    305      3.95%\n",
      "6                        examenes      1      0.01%\n",
      "7          no logro mis objetivos     13      0.17%\n",
      "8                  no puede pagar     81      1.05%\n",
      "9                         trabajo    773     10.01%\n"
     ]
    }
   ],
   "source": [
    "# Group by 'Motivo baja' and count the number of clients\n",
    "reason_counts = socios_baja.groupby('Motivo baja').size().reset_index(name='Count')\n",
    "# Calculate percentages\n",
    "total = reason_counts['Count'].sum()\n",
    "reason_counts['Percentage'] = (reason_counts['Count'] / total) * 100\n",
    "# Format the 'Percentage' column as rounded percentages with a '%' symbol\n",
    "reason_counts['Percentage'] = reason_counts['Percentage'].apply(lambda x: f\"{x:.2f}%\")\n",
    "# Display the result\n",
    "print(reason_counts)"
   ]
  },
  {
   "cell_type": "code",
   "execution_count": 113,
   "metadata": {},
   "outputs": [
    {
     "data": {
      "image/png": "[encoded data removed]",
      "text/plain": [
       "<Figure size 1200x800 with 1 Axes>"
      ]
     },
     "metadata": {},
     "output_type": "display_data"
    }
   ],
   "source": [
    "# Sort values in descending order\n",
    "reason_counts_sorted = reason_counts.sort_values('Count', ascending=False)\n",
    "\n",
    "# Plotting\n",
    "plt.figure(figsize=(12, 8))\n",
    "sns.barplot(y='Motivo baja', x='Count', data=reason_counts_sorted, color='salmon')\n",
    "plt.title('Distribución de razones para la baja', pad=20)\n",
    "plt.xlabel('Número de clientes')\n",
    "plt.ylabel('Razón para la baja')\n",
    "\n",
    "# Determine the index of the longest bar\n",
    "max_index = reason_counts_sorted['Count'].idxmax()\n",
    "\n",
    "# Add percentage labels\n",
    "for i, v in enumerate(reason_counts_sorted['Count']):\n",
    "    percentage = reason_counts_sorted['Percentage'].iloc[i]\n",
    "    if i == max_index:\n",
    "        # Place the text inside the longest bar\n",
    "        plt.text(v - 20, i, f'{percentage}', va='center', ha='right', color='black', fontweight='bold')\n",
    "    else:\n",
    "        # Place the text outside the other bars\n",
    "        plt.text(v + 2, i, f'{percentage}', va='center', ha='left')\n",
    "\n",
    "plt.tight_layout()\n",
    "plt.show()"
   ]
  },
  {
   "cell_type": "code",
   "execution_count": 114,
   "metadata": {},
   "outputs": [
    {
     "data": {
      "image/png": "[encoded data removed]",
      "text/plain": [
       "<Figure size 1200x800 with 1 Axes>"
      ]
     },
     "metadata": {},
     "output_type": "display_data"
    }
   ],
   "source": [
    "# Exclude 'baja administrativa' from the plot\n",
    "reason_counts_filtered = reason_counts[reason_counts['Motivo baja'] != 'baja administrativa']\n",
    "reason_counts_sorted = reason_counts_filtered.sort_values('Count', ascending=False)\n",
    "\n",
    "# Plotting\n",
    "plt.figure(figsize=(12, 8))\n",
    "ax = sns.barplot(y='Motivo baja', x='Count', data=reason_counts_sorted, color='salmon')\n",
    "plt.title('Distribución de razones para la baja', pad=20)\n",
    "plt.xlabel('Número de clientes')\n",
    "plt.ylabel('Razón para la baja')\n",
    "\n",
    "# Get the maximum value for x-axis\n",
    "max_count = reason_counts_sorted['Count'].max()\n",
    "\n",
    "# Add percentage labels\n",
    "for i, (v, percentage) in enumerate(zip(reason_counts_sorted['Count'], reason_counts_sorted['Percentage'])):\n",
    "    if i == 0:  # First bar is the longest\n",
    "        # Place the text inside the bar near the right edge\n",
    "        ax.text(v - 20, i, f'{percentage}', va='center', ha='right', color='black', fontweight='bold')\n",
    "    else:\n",
    "        # Place the text outside the other bars\n",
    "        ax.text(v + 2, i, f'{percentage}', va='center', ha='left')\n",
    "\n",
    "# Ensure x-axis limit accommodates all labels\n",
    "plt.xlim(0, max_count * 1.1)\n",
    "\n",
    "plt.tight_layout()\n",
    "plt.show()"
   ]
  },
  {
   "cell_type": "code",
   "execution_count": 115,
   "metadata": {},
   "outputs": [
    {
     "data": {
      "text/html": [
       "<div>\n",
       "<style scoped>\n",
       "    .dataframe tbody tr th:only-of-type {\n",
       "        vertical-align: middle;\n",
       "    }\n",
       "\n",
       "    .dataframe tbody tr th {\n",
       "        vertical-align: top;\n",
       "    }\n",
       "\n",
       "    .dataframe thead th {\n",
       "        text-align: right;\n",
       "    }\n",
       "</style>\n",
       "<table border=\"1\" class=\"dataframe\">\n",
       "  <thead>\n",
       "    <tr style=\"text-align: right;\">\n",
       "      <th></th>\n",
       "      <th>ID</th>\n",
       "      <th>Cliente</th>\n",
       "      <th>Teléfono</th>\n",
       "      <th>Email</th>\n",
       "      <th>Actividad</th>\n",
       "      <th>Importe</th>\n",
       "      <th>Fecha comienzo</th>\n",
       "      <th>Fecha finalización</th>\n",
       "      <th>Duración</th>\n",
       "      <th>Tipo cliente</th>\n",
       "      <th>Rango edad</th>\n",
       "    </tr>\n",
       "  </thead>\n",
       "  <tbody>\n",
       "    <tr>\n",
       "      <th>57</th>\n",
       "      <td>11222.0</td>\n",
       "      <td>Cp Daniela Daniela</td>\n",
       "      <td>669620909.0</td>\n",
       "      <td>desconocido</td>\n",
       "      <td>sin actividad vigente</td>\n",
       "      <td>0.0</td>\n",
       "      <td>1677-09-21 00:12:43.145224193</td>\n",
       "      <td>1677-09-21 00:12:43.145224193</td>\n",
       "      <td>0</td>\n",
       "      <td>Lead para información</td>\n",
       "      <td>indefinido</td>\n",
       "    </tr>\n",
       "    <tr>\n",
       "      <th>114</th>\n",
       "      <td>12107.0</td>\n",
       "      <td>Cp Cristina Cristina</td>\n",
       "      <td>636670198.0</td>\n",
       "      <td>criscave90@hotmail.com</td>\n",
       "      <td>sin actividad vigente</td>\n",
       "      <td>0.0</td>\n",
       "      <td>1677-09-21 00:12:43.145224193</td>\n",
       "      <td>1677-09-21 00:12:43.145224193</td>\n",
       "      <td>0</td>\n",
       "      <td>Lead para información</td>\n",
       "      <td>indefinido</td>\n",
       "    </tr>\n",
       "    <tr>\n",
       "      <th>150</th>\n",
       "      <td>12448.0</td>\n",
       "      <td>Prueba Prueba</td>\n",
       "      <td>desconocido</td>\n",
       "      <td>desconocido</td>\n",
       "      <td>sin actividad vigente</td>\n",
       "      <td>0.0</td>\n",
       "      <td>1677-09-21 00:12:43.145224193</td>\n",
       "      <td>1677-09-21 00:12:43.145224193</td>\n",
       "      <td>0</td>\n",
       "      <td>Lead para información</td>\n",
       "      <td>indefinido</td>\n",
       "    </tr>\n",
       "    <tr>\n",
       "      <th>204</th>\n",
       "      <td>13213.0</td>\n",
       "      <td>Cp Alejandra Alejandra</td>\n",
       "      <td>643719313.0</td>\n",
       "      <td>piperuiz20-10@hotmail.com</td>\n",
       "      <td>sin actividad vigente</td>\n",
       "      <td>0.0</td>\n",
       "      <td>1677-09-21 00:12:43.145224193</td>\n",
       "      <td>1677-09-21 00:12:43.145224193</td>\n",
       "      <td>0</td>\n",
       "      <td>Lead para información</td>\n",
       "      <td>indefinido</td>\n",
       "    </tr>\n",
       "    <tr>\n",
       "      <th>209</th>\n",
       "      <td>13263.0</td>\n",
       "      <td>Cp Marcela Marcela</td>\n",
       "      <td>625666580.0</td>\n",
       "      <td>marcelavesgav@gmail.com</td>\n",
       "      <td>sin actividad vigente</td>\n",
       "      <td>0.0</td>\n",
       "      <td>1677-09-21 00:12:43.145224193</td>\n",
       "      <td>1677-09-21 00:12:43.145224193</td>\n",
       "      <td>0</td>\n",
       "      <td>Lead para información</td>\n",
       "      <td>indefinido</td>\n",
       "    </tr>\n",
       "    <tr>\n",
       "      <th>216</th>\n",
       "      <td>13335.0</td>\n",
       "      <td>!Cp Daniela Daniela</td>\n",
       "      <td>647631271.0</td>\n",
       "      <td>danylove9101@gmail.com</td>\n",
       "      <td>sin actividad vigente</td>\n",
       "      <td>0.0</td>\n",
       "      <td>1677-09-21 00:12:43.145224193</td>\n",
       "      <td>1677-09-21 00:12:43.145224193</td>\n",
       "      <td>0</td>\n",
       "      <td>Lead para información</td>\n",
       "      <td>indefinido</td>\n",
       "    </tr>\n",
       "    <tr>\n",
       "      <th>232</th>\n",
       "      <td>13466.0</td>\n",
       "      <td>Cp Alba Alba</td>\n",
       "      <td>desconocido</td>\n",
       "      <td>albamfiq@hotmail.com</td>\n",
       "      <td>sin actividad vigente</td>\n",
       "      <td>0.0</td>\n",
       "      <td>1677-09-21 00:12:43.145224193</td>\n",
       "      <td>1677-09-21 00:12:43.145224193</td>\n",
       "      <td>0</td>\n",
       "      <td>Lead para información</td>\n",
       "      <td>indefinido</td>\n",
       "    </tr>\n",
       "    <tr>\n",
       "      <th>356</th>\n",
       "      <td>15378.0</td>\n",
       "      <td>Cp Pelayo Fernandez-Montes Perez</td>\n",
       "      <td>646393401.0</td>\n",
       "      <td>desconocido</td>\n",
       "      <td>sin actividad vigente</td>\n",
       "      <td>0.0</td>\n",
       "      <td>1677-09-21 00:12:43.145224193</td>\n",
       "      <td>1677-09-21 00:12:43.145224193</td>\n",
       "      <td>0</td>\n",
       "      <td>Lead para información</td>\n",
       "      <td>indefinido</td>\n",
       "    </tr>\n",
       "    <tr>\n",
       "      <th>463</th>\n",
       "      <td>9061.0</td>\n",
       "      <td>Cp Nuria Nuria</td>\n",
       "      <td>687759918.0</td>\n",
       "      <td>ncrol74@gmail.com</td>\n",
       "      <td>sin actividad vigente</td>\n",
       "      <td>0.0</td>\n",
       "      <td>1677-09-21 00:12:43.145224193</td>\n",
       "      <td>1677-09-21 00:12:43.145224193</td>\n",
       "      <td>0</td>\n",
       "      <td>Lead para información</td>\n",
       "      <td>indefinido</td>\n",
       "    </tr>\n",
       "  </tbody>\n",
       "</table>\n",
       "</div>"
      ],
      "text/plain": [
       "          ID                           Cliente     Teléfono  \\\n",
       "57   11222.0                Cp Daniela Daniela  669620909.0   \n",
       "114  12107.0              Cp Cristina Cristina  636670198.0   \n",
       "150  12448.0                     Prueba Prueba  desconocido   \n",
       "204  13213.0            Cp Alejandra Alejandra  643719313.0   \n",
       "209  13263.0                Cp Marcela Marcela  625666580.0   \n",
       "216  13335.0               !Cp Daniela Daniela  647631271.0   \n",
       "232  13466.0                      Cp Alba Alba  desconocido   \n",
       "356  15378.0  Cp Pelayo Fernandez-Montes Perez  646393401.0   \n",
       "463   9061.0                    Cp Nuria Nuria  687759918.0   \n",
       "\n",
       "                         Email              Actividad  Importe  \\\n",
       "57                 desconocido  sin actividad vigente      0.0   \n",
       "114     criscave90@hotmail.com  sin actividad vigente      0.0   \n",
       "150                desconocido  sin actividad vigente      0.0   \n",
       "204  piperuiz20-10@hotmail.com  sin actividad vigente      0.0   \n",
       "209    marcelavesgav@gmail.com  sin actividad vigente      0.0   \n",
       "216     danylove9101@gmail.com  sin actividad vigente      0.0   \n",
       "232       albamfiq@hotmail.com  sin actividad vigente      0.0   \n",
       "356                desconocido  sin actividad vigente      0.0   \n",
       "463          ncrol74@gmail.com  sin actividad vigente      0.0   \n",
       "\n",
       "                   Fecha comienzo            Fecha finalización  Duración  \\\n",
       "57  1677-09-21 00:12:43.145224193 1677-09-21 00:12:43.145224193         0   \n",
       "114 1677-09-21 00:12:43.145224193 1677-09-21 00:12:43.145224193         0   \n",
       "150 1677-09-21 00:12:43.145224193 1677-09-21 00:12:43.145224193         0   \n",
       "204 1677-09-21 00:12:43.145224193 1677-09-21 00:12:43.145224193         0   \n",
       "209 1677-09-21 00:12:43.145224193 1677-09-21 00:12:43.145224193         0   \n",
       "216 1677-09-21 00:12:43.145224193 1677-09-21 00:12:43.145224193         0   \n",
       "232 1677-09-21 00:12:43.145224193 1677-09-21 00:12:43.145224193         0   \n",
       "356 1677-09-21 00:12:43.145224193 1677-09-21 00:12:43.145224193         0   \n",
       "463 1677-09-21 00:12:43.145224193 1677-09-21 00:12:43.145224193         0   \n",
       "\n",
       "              Tipo cliente  Rango edad  \n",
       "57   Lead para información  indefinido  \n",
       "114  Lead para información  indefinido  \n",
       "150  Lead para información  indefinido  \n",
       "204  Lead para información  indefinido  \n",
       "209  Lead para información  indefinido  \n",
       "216  Lead para información  indefinido  \n",
       "232  Lead para información  indefinido  \n",
       "356  Lead para información  indefinido  \n",
       "463  Lead para información  indefinido  "
      ]
     },
     "execution_count": 115,
     "metadata": {},
     "output_type": "execute_result"
    }
   ],
   "source": [
    "# Find common clients\n",
    "common_clients = leads[leads['Cliente'].isin(socios_baja['Cliente'])]\n",
    "\n",
    "# Number of common clients\n",
    "common_clients"
   ]
  },
  {
   "cell_type": "markdown",
   "metadata": {},
   "source": [
    "##### En la tabla de socios_baja hay 9 clientes que son leads por información."
   ]
  },
  {
   "cell_type": "markdown",
   "metadata": {},
   "source": [
    "***"
   ]
  },
  {
   "cell_type": "markdown",
   "metadata": {},
   "source": [
    "#### KPIs actuales:\n",
    "##### Número de clientes por rango de edad: esta ayuda a comprender la distribución demográfica de tus clientes, que es crucial para los objetivos de estrategias de marketing.\n",
    "\n",
    "##### Leads para información: llevar un registro de cuántos clientes potenciales están interesados en tus servicios puede ayudar a determinar la eficacia de tu esfruerzo en marketing.\n",
    "\n",
    "##### Leads con un servicio gratis: esta KPI puede indicar el éxito de las ofertas promocionales y cómo se convierten los leads en clientes potenciales que compran.\n",
    "\n",
    "##### Clientes activos: saber el número de clientes activos ayuda a comprender el nivel de pentración actual en el mercado y la retención de clientes.\n",
    "\n",
    "##### Número de clientes activos por año (acumulativo): esto proporciona información de tendencias de crecimiento a través del tiempo, que es una parte esencial para la planificación estratégica.\n",
    "\n",
    "##### Distribución de clientes por duración del servicio: esta ayuda a comprender el nivel de lealtad y el promedio de ciclo de vida de un cliente.\n",
    "\n",
    "##### Distribución de clientes activos por año: esta puede mostrar las tendencias en el compromiso del cliente y de la retención a través del tiempo.\n",
    "\n",
    "##### Número de clientes por actividad: comprender qué actividades son más populares puede guiar la asignación de recursos y enfocar el marketing.\n",
    "\n",
    "##### Distribución de cancelacion de subscripción por categorías de razones: esta es crítica para identificar las areas de mejoramiento y reducir abandonos."
   ]
  },
  {
   "cell_type": "markdown",
   "metadata": {},
   "source": [
    "***"
   ]
  }
 ],
 "metadata": {
  "kernelspec": {
   "display_name": "base",
   "language": "python",
   "name": "python3"
  },
  "language_info": {
   "codemirror_mode": {
    "name": "ipython",
    "version": 3
   },
   "file_extension": ".py",
   "mimetype": "text/x-python",
   "name": "python",
   "nbconvert_exporter": "python",
   "pygments_lexer": "ipython3",
   "version": "3.12.7"
  }
 },
 "nbformat": 4,
 "nbformat_minor": 2
}
